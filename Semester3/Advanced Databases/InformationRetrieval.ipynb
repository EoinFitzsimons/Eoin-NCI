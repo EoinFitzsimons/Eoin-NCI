{
 "cells": [
  {
   "cell_type": "markdown",
   "id": "6d278a12-61fe-406e-9258-f49516672f04",
   "metadata": {},
   "source": [
    "# Natural Language Processing and Information Retrieval\n",
    "Today we will do multiple tasks. First we will download the relevant libraries (don't worry this is handled in the scripts below and all you have to do is press run). Then we will read a csv file full of customer reviews for Disneyland. I got this data from Kaggle here - https://www.kaggle.com/arushchillar/disneyland-reviews\n",
    "\n",
    "The dataset we're using has much fewer rows though (about 200). It will be up to us to create an indexer for these reviews (given this data is unstructured). To do this, for a single review, we will:\n",
    "1) Tokenize the words (go from a sentence to a list of words)\n",
    "2) Remove all the stopwords\n",
    "3) Filter the sentence down to just the nouns (so we can search for reviews that talk about particular things) and adjectives (so we can also search for how those things are decribed). \n",
    "4) Collect our indexed terms and create an inverted index and save it to some file. \n",
    "5) Create a loop that does this for all reviews in the disneyland review csv. "
   ]
  },
  {
   "cell_type": "code",
   "execution_count": 1,
   "id": "c295980f-bb14-4e0a-9168-18c1fe1c4495",
   "metadata": {},
   "outputs": [
    {
     "name": "stderr",
     "output_type": "stream",
     "text": [
      "[nltk_data] Downloading package stopwords to\n",
      "[nltk_data]     C:\\Users\\WilliamClifford\\AppData\\Roaming\\nltk_data...\n",
      "[nltk_data]   Package stopwords is already up-to-date!\n",
      "[nltk_data] Downloading package punkt to\n",
      "[nltk_data]     C:\\Users\\WilliamClifford\\AppData\\Roaming\\nltk_data...\n",
      "[nltk_data]   Package punkt is already up-to-date!\n",
      "[nltk_data] Downloading package averaged_perceptron_tagger to\n",
      "[nltk_data]     C:\\Users\\WilliamClifford\\AppData\\Roaming\\nltk_data...\n",
      "[nltk_data]   Package averaged_perceptron_tagger is already up-to-\n",
      "[nltk_data]       date!\n"
     ]
    },
    {
     "data": {
      "text/plain": [
       "True"
      ]
     },
     "execution_count": 1,
     "metadata": {},
     "output_type": "execute_result"
    }
   ],
   "source": [
    "# download nltk to do the language processing jobs for us\n",
    "import sys\n",
    "#!{sys.executable} -m pip install nltk\n",
    "#!{sys.executable} -m pip install pandas\n",
    "\n",
    "# import pandas to have our data in a table and read it from the csv\n",
    "import pandas as pd\n",
    "import nltk\n",
    "from nltk.corpus import stopwords\n",
    "from nltk.corpus import brown\n",
    "import csv\n",
    "nltk.download('stopwords')\n",
    "nltk.download('punkt') # this is a tokenizer tool we need\n",
    "nltk.download('averaged_perceptron_tagger')"
   ]
  },
  {
   "cell_type": "markdown",
   "id": "274da3ee-97b8-49d6-af3c-7a918798a5eb",
   "metadata": {},
   "source": [
    "Here we will just load the disneyland review data and print it to the screen to check it loaded correctly. "
   ]
  },
  {
   "cell_type": "code",
   "execution_count": 2,
   "id": "1fa8a4d0-c22a-4502-b5b9-b094d8a360ed",
   "metadata": {},
   "outputs": [],
   "source": [
    "disney_data = pd.read_csv(\"disneylandReviews.csv\")"
   ]
  },
  {
   "cell_type": "code",
   "execution_count": 3,
   "id": "99ae40ae-e205-48bd-b974-54cbee307e3b",
   "metadata": {},
   "outputs": [
    {
     "data": {
      "text/html": [
       "<div>\n",
       "<style scoped>\n",
       "    .dataframe tbody tr th:only-of-type {\n",
       "        vertical-align: middle;\n",
       "    }\n",
       "\n",
       "    .dataframe tbody tr th {\n",
       "        vertical-align: top;\n",
       "    }\n",
       "\n",
       "    .dataframe thead th {\n",
       "        text-align: right;\n",
       "    }\n",
       "</style>\n",
       "<table border=\"1\" class=\"dataframe\">\n",
       "  <thead>\n",
       "    <tr style=\"text-align: right;\">\n",
       "      <th></th>\n",
       "      <th>Review_Text</th>\n",
       "    </tr>\n",
       "  </thead>\n",
       "  <tbody>\n",
       "    <tr>\n",
       "      <th>0</th>\n",
       "      <td>If you've ever been to Disneyland anywhere you...</td>\n",
       "    </tr>\n",
       "    <tr>\n",
       "      <th>1</th>\n",
       "      <td>Its been a while since d last time we visit HK...</td>\n",
       "    </tr>\n",
       "    <tr>\n",
       "      <th>2</th>\n",
       "      <td>Thanks God it wasn   t too hot or too humid wh...</td>\n",
       "    </tr>\n",
       "    <tr>\n",
       "      <th>3</th>\n",
       "      <td>HK Disneyland is a great compact park. Unfortu...</td>\n",
       "    </tr>\n",
       "    <tr>\n",
       "      <th>4</th>\n",
       "      <td>the location is not in the city, took around 1...</td>\n",
       "    </tr>\n",
       "  </tbody>\n",
       "</table>\n",
       "</div>"
      ],
      "text/plain": [
       "                                         Review_Text\n",
       "0  If you've ever been to Disneyland anywhere you...\n",
       "1  Its been a while since d last time we visit HK...\n",
       "2  Thanks God it wasn   t too hot or too humid wh...\n",
       "3  HK Disneyland is a great compact park. Unfortu...\n",
       "4  the location is not in the city, took around 1..."
      ]
     },
     "execution_count": 3,
     "metadata": {},
     "output_type": "execute_result"
    }
   ],
   "source": [
    "disney_data.head()"
   ]
  },
  {
   "cell_type": "markdown",
   "id": "4986a028-93d1-4c4c-aeeb-ec61c1239fd3",
   "metadata": {},
   "source": [
    "# 1. Tokenize the sentence"
   ]
  },
  {
   "cell_type": "code",
   "execution_count": 4,
   "id": "3f3c3862-f051-4c19-9820-dffacdee5d4c",
   "metadata": {},
   "outputs": [
    {
     "name": "stdout",
     "output_type": "stream",
     "text": [
      "Review Raw Text: If you've ever been to Disneyland anywhere you'll find Disneyland Hong Kong very similar in the layout when you walk into main street! It has a very familiar feel. One of the rides  its a Small World  is absolutely fabulous and worth doing. The day we visited was fairly hot and relatively busy but the queues moved fairly well.  \n",
      "\n",
      "Tokenized review text: ['If', 'you', \"'ve\", 'ever', 'been', 'to', 'Disneyland', 'anywhere', 'you', \"'ll\", 'find', 'Disneyland', 'Hong', 'Kong', 'very', 'similar', 'in', 'the', 'layout', 'when', 'you', 'walk', 'into', 'main', 'street', '!', 'It', 'has', 'a', 'very', 'familiar', 'feel', '.', 'One', 'of', 'the', 'rides', 'its', 'a', 'Small', 'World', 'is', 'absolutely', 'fabulous', 'and', 'worth', 'doing', '.', 'The', 'day', 'we', 'visited', 'was', 'fairly', 'hot', 'and', 'relatively', 'busy', 'but', 'the', 'queues', 'moved', 'fairly', 'well', '.']\n"
     ]
    }
   ],
   "source": [
    "#selecting the first review\n",
    "example_review = disney_data[\"Review_Text\"][0]\n",
    "print(\"Review Raw Text: %s \\n\" % example_review)\n",
    "\n",
    "#tokenize the text\n",
    "tokens = nltk.word_tokenize(example_review)\n",
    "print(\"Tokenized review text: %s\" % tokens)"
   ]
  },
  {
   "cell_type": "markdown",
   "id": "b5ffdfe0-4428-4809-adbc-31ae056f3857",
   "metadata": {},
   "source": [
    "# 2. Remove stop words\n",
    "\n",
    "## 2.1 To remove the stop words we first need an array of stop words to compare against. "
   ]
  },
  {
   "cell_type": "code",
   "execution_count": 5,
   "id": "16abe497-6e30-4537-a1c1-6be7854fb2d0",
   "metadata": {},
   "outputs": [
    {
     "name": "stdout",
     "output_type": "stream",
     "text": [
      "['i', 'me', 'my', 'myself', 'we', 'our', 'ours', 'ourselves', 'you', \"you're\", \"you've\", \"you'll\", \"you'd\", 'your', 'yours', 'yourself', 'yourselves', 'he', 'him', 'his', 'himself', 'she', \"she's\", 'her', 'hers', 'herself', 'it', \"it's\", 'its', 'itself', 'they', 'them', 'their', 'theirs', 'themselves', 'what', 'which', 'who', 'whom', 'this', 'that', \"that'll\", 'these', 'those', 'am', 'is', 'are', 'was', 'were', 'be', 'been', 'being', 'have', 'has', 'had', 'having', 'do', 'does', 'did', 'doing', 'a', 'an', 'the', 'and', 'but', 'if', 'or', 'because', 'as', 'until', 'while', 'of', 'at', 'by', 'for', 'with', 'about', 'against', 'between', 'into', 'through', 'during', 'before', 'after', 'above', 'below', 'to', 'from', 'up', 'down', 'in', 'out', 'on', 'off', 'over', 'under', 'again', 'further', 'then', 'once', 'here', 'there', 'when', 'where', 'why', 'how', 'all', 'any', 'both', 'each', 'few', 'more', 'most', 'other', 'some', 'such', 'no', 'nor', 'not', 'only', 'own', 'same', 'so', 'than', 'too', 'very', 's', 't', 'can', 'will', 'just', 'don', \"don't\", 'should', \"should've\", 'now', 'd', 'll', 'm', 'o', 're', 've', 'y', 'ain', 'aren', \"aren't\", 'couldn', \"couldn't\", 'didn', \"didn't\", 'doesn', \"doesn't\", 'hadn', \"hadn't\", 'hasn', \"hasn't\", 'haven', \"haven't\", 'isn', \"isn't\", 'ma', 'mightn', \"mightn't\", 'mustn', \"mustn't\", 'needn', \"needn't\", 'shan', \"shan't\", 'shouldn', \"shouldn't\", 'wasn', \"wasn't\", 'weren', \"weren't\", 'won', \"won't\", 'wouldn', \"wouldn't\"]\n"
     ]
    }
   ],
   "source": [
    "stop_words = stopwords.words('english')\n",
    "print(stop_words)"
   ]
  },
  {
   "cell_type": "markdown",
   "id": "dcd6bebf-71bf-4bfd-be2b-e0a7bdecdb5b",
   "metadata": {},
   "source": [
    "## 2.1 filter out the stop words\n",
    "\n",
    "we then filter the senetence and remove the stop words. The filtered_sentence now only contain words that are not stop words. "
   ]
  },
  {
   "cell_type": "code",
   "execution_count": 6,
   "id": "c380b1a2-b721-4dda-8b7a-b38818b160aa",
   "metadata": {},
   "outputs": [
    {
     "name": "stdout",
     "output_type": "stream",
     "text": [
      "{'Small', 'find', 'One', 'World', 'ever', 'Hong', 'familiar', 'fabulous', 'main', 'well', 'layout', 'queues', 'Kong', 'street', 'hot', \"'ve\", 'moved', 'absolutely', 'Disneyland', 'visited', 'relatively', 'busy', 'similar', \"'ll\", 'day', '.', 'fairly', 'worth', 'walk', '!', 'anywhere', 'feel', 'rides'}\n"
     ]
    }
   ],
   "source": [
    "filtered_sentence = [w for w in tokens if not w.lower() in stop_words]\n",
    "\n",
    "# also lets remove duplicates\n",
    "filtered_sentence = set(filtered_sentence)\n",
    "print(filtered_sentence)"
   ]
  },
  {
   "cell_type": "markdown",
   "id": "c38fb95f-383e-451e-b7f9-aec2bdc76fe1",
   "metadata": {},
   "source": [
    "# 3. filter so we only have nouns and adjectives\n",
    "\n",
    "This part will return each word with a corresponding label, for example: \n",
    "\n",
    "\n",
    "* \"and\" and \"a\" are CC,  coordinating conjunction\n",
    "* \"now\" and \"completely\" are RB, or adverbs\n",
    "* \"for\" is IN, a preposition; something is NN, a noun\n",
    "* \"different\" is JJ, an adjective, \n",
    "* NNP are proper nouns.\n",
    "\n",
    "\n",
    "So basically once this is tagged we will narrow it down to tags beginning with NN and JJ. "
   ]
  },
  {
   "cell_type": "code",
   "execution_count": 8,
   "id": "f9e2b0b3-64e8-43e6-b3a0-f171effa2015",
   "metadata": {},
   "outputs": [
    {
     "name": "stdout",
     "output_type": "stream",
     "text": [
      "['Small', 'World', 'Hong', 'familiar', 'fabulous', 'main', 'queues', 'Kong', 'street', 'hot', 'Disneyland', 'busy', 'similar', 'day', 'worth', 'walk', 'rides']\n"
     ]
    }
   ],
   "source": [
    "# function to test if something is a noun\n",
    "is_noun = lambda pos: pos[:2] == 'NN' or pos[:2] == 'JJ'\n",
    "\n",
    "nouns_and_adjectives = [word for (word, pos) in nltk.pos_tag(filtered_sentence) if is_noun(pos)] \n",
    "print(nouns_and_adjectives)"
   ]
  },
  {
   "cell_type": "markdown",
   "id": "e9ad1732-0243-42c7-af0b-1d830315e724",
   "metadata": {},
   "source": [
    "# Save these to an inverted index structure \n",
    "\n",
    "For this we will highlight the index term (e.g. Disneyland) and the list of related reviews (in this case it would be a single item -review 1). "
   ]
  },
  {
   "cell_type": "code",
   "execution_count": 9,
   "id": "b4babe1c-bb5c-4e61-acd4-2a1147ea7a04",
   "metadata": {},
   "outputs": [
    {
     "name": "stdout",
     "output_type": "stream",
     "text": [
      "{'Small': [1], 'World': [1], 'Hong': [1], 'familiar': [1], 'fabulous': [1], 'main': [1], 'queues': [1], 'Kong': [1], 'street': [1], 'hot': [1], 'Disneyland': [1], 'busy': [1], 'similar': [1], 'day': [1], 'worth': [1], 'walk': [1], 'rides': [1]}\n"
     ]
    }
   ],
   "source": [
    "# this will create a dictionary of each term and the corresponding list of documents\n",
    "inverted_index = {index: [1] for index in nouns_and_adjectives}\n",
    "print(inverted_index)"
   ]
  },
  {
   "cell_type": "code",
   "execution_count": 10,
   "id": "3a35d10a-99bf-4de8-ba9d-99b4b05014f2",
   "metadata": {},
   "outputs": [],
   "source": [
    "# now save this to a file\n",
    "with open('inverted_index.csv', 'w') as f:\n",
    "    for key in inverted_index.keys():\n",
    "        f.write(\"%s, %s\\n\" % (key,inverted_index[key]))"
   ]
  },
  {
   "cell_type": "markdown",
   "id": "a150b98e-4ae1-4a41-b989-11f53739f49d",
   "metadata": {},
   "source": [
    "# 5. Now you should design a loop that does this for every review and puts all of this information in inverted_index.csv "
   ]
  },
  {
   "cell_type": "code",
   "execution_count": 11,
   "id": "ceeed29a-8dc9-443d-8936-9d7f18a1f700",
   "metadata": {},
   "outputs": [],
   "source": [
    "# get the list of stop words\n",
    "stop_words = stopwords.words('english')\n",
    "# function to test if something is a noun\n",
    "is_noun = lambda pos: pos[:2] == 'NN' or pos[:2] == 'JJ'\n",
    "counter=0\n",
    "inverted_index={}\n",
    "for review in disney_data[\"Review_Text\"] : \n",
    "    # tokenize the individual review\n",
    "    tokens = nltk.word_tokenize(review)\n",
    "    \n",
    "    # remove the stop words\n",
    "    filtered_sentence = [w for w in tokens if not w.lower() in stop_words]\n",
    "    \n",
    "    # also lets remove duplicates\n",
    "    filtered_sentence = set(filtered_sentence)\n",
    "    \n",
    "   \n",
    "    nouns_and_adjectives = [word for (word, pos) in nltk.pos_tag(filtered_sentence) if is_noun(pos)] \n",
    "    \n",
    "    # this will create a dictionary of each term and the corresponding list of documents\n",
    "    for index in nouns_and_adjectives:\n",
    "        try:\n",
    "            inverted_index[index].append(counter)\n",
    "        except: \n",
    "            inverted_index[index] = [counter]\n",
    "    \n",
    "    counter+=1"
   ]
  },
  {
   "cell_type": "code",
   "execution_count": 12,
   "id": "55588fca-3a04-4473-a242-6598505befef",
   "metadata": {},
   "outputs": [
    {
     "name": "stdout",
     "output_type": "stream",
     "text": [
      "{'Small': [0, 52, 90, 121, 190], 'World': [0, 5, 44, 51, 113, 121, 135, 140], 'Hong': [0, 4, 5, 21, 22, 23, 26, 27, 32, 33, 34, 35, 36, 37, 44, 49, 51, 57, 58, 68, 71, 74, 77, 78, 82, 89, 90, 93, 96, 98, 120, 128, 139, 142, 143, 144, 148, 151, 156, 163, 164, 166, 172, 175, 177, 181, 189, 191, 199], 'familiar': [0], 'fabulous': [0, 83, 148], 'main': [0, 2, 23, 29, 37, 53, 101, 110, 144, 148, 171], 'queues': [0, 42, 52, 83, 87, 93, 98, 105, 114, 129, 144, 148, 157], 'Kong': [0, 4, 5, 21, 22, 23, 26, 27, 32, 33, 34, 35, 37, 44, 49, 51, 57, 58, 68, 71, 74, 77, 82, 89, 90, 93, 96, 98, 103, 120, 128, 139, 142, 143, 144, 148, 151, 156, 163, 164, 166, 172, 175, 177, 181, 189, 191, 199], 'street': [0, 16, 37, 46, 90, 96, 148, 171], 'hot': [0, 2, 4, 12, 29, 138, 198], 'Disneyland': [0, 1, 3, 5, 8, 9, 10, 12, 18, 19, 21, 23, 26, 27, 29, 32, 33, 34, 35, 36, 37, 42, 44, 45, 47, 48, 49, 51, 57, 58, 64, 70, 72, 74, 75, 76, 77, 79, 85, 88, 89, 90, 93, 96, 99, 106, 107, 108, 109, 111, 113, 114, 117, 122, 124, 125, 126, 127, 128, 129, 130, 132, 133, 140, 141, 142, 143, 144, 145, 147, 148, 150, 151, 153, 154, 156, 157, 158, 159, 163, 164, 166, 167, 170, 171, 172, 173, 174, 177, 178, 179, 180, 181, 182, 183, 190, 191, 199], 'busy': [0, 2, 58, 60, 77, 83, 92, 117, 133, 137, 157, 179], 'similar': [0, 98, 169, 179], 'day': [0, 2, 6, 9, 11, 12, 14, 15, 16, 17, 20, 22, 29, 31, 32, 33, 35, 36, 37, 40, 43, 44, 46, 49, 52, 53, 58, 60, 64, 66, 71, 76, 77, 78, 79, 80, 81, 85, 86, 90, 91, 92, 96, 98, 103, 105, 106, 108, 115, 116, 117, 118, 119, 120, 121, 122, 126, 129, 130, 138, 140, 141, 143, 144, 145, 148, 149, 151, 156, 158, 164, 165, 167, 169, 170, 171, 172, 173, 175, 179, 180, 188, 190, 191, 194, 195, 196], 'worth': [0, 15, 19, 24, 25, 26, 35, 45, 61, 91, 92, 96, 120, 131, 143, 144, 157, 166, 167, 169, 184, 189], 'walk': [0, 26, 105, 106, 160], 'rides': [0, 5, 8, 11, 12, 14, 15, 20, 26, 27, 28, 32, 33, 34, 35, 40, 43, 45, 46, 48, 51, 52, 54, 62, 70, 72, 73, 74, 77, 80, 81, 83, 86, 87, 92, 98, 99, 102, 105, 106, 110, 114, 115, 117, 118, 119, 120, 121, 122, 129, 130, 132, 137, 144, 147, 149, 150, 157, 158, 159, 160, 161, 163, 166, 168, 172, 178, 179, 182, 183, 185, 187, 193], 'whole': [1, 80, 85, 138, 158, 165, 168, 196], 'members': [1, 77, 79, 81, 104, 121, 166, 170, 183], 'Marvel': [1, 35, 89, 158], 'Iron': [1, 21, 22, 24, 33, 34, 98, 105, 114, 122, 130, 166, 179, 185], 'Antman': [1, 35], 'Space': [1, 29, 34, 51, 99, 122], 'Last': [1, 156], 'Good': [1, 50, 63], 'Main': [1, 7, 106, 113, 121, 139, 159], 'boys': [1], 'Ocean': [1, 75, 122, 155, 182, 186, 190], 'AKA': [1], 'brand': [1, 122], 'land': [1, 24, 29, 36, 90, 124, 139, 158, 168], 'Newly': [1], 'attraction': [1, 22, 96, 138, 142, 166, 168, 172, 174, 177, 179], 'Experience': [1, 34, 163, 166], 'Seems': [1], 'feel': [1, 80, 141, 167], 'Street': [1, 7, 106, 139], 'something': [1, 2, 8, 53, 86, 113, 122, 145, 163, 167, 169, 179, 193], 'Tomorrowland': [1, 114, 122], 'lightyear': [1], 'Yet': [1], 'Ironman': [1, 35, 37, 119, 167], 'Points': [1], 'Wars': [1, 34, 90, 130, 150], 'open': [1, 20, 29, 34, 36, 37, 47, 74, 90, 92, 115, 143, 144, 148, 157, 166, 169], 'worst': [1, 5], 'Turns': [1], 'Kowloon': [1, 37, 64], 'local': [1, 60, 83], 'Buzz': [1, 51, 122], 'Earth': [1], 'Ant': [1, 22, 23, 37, 51, 52, 74, 98, 122, 166], '..': [1, 17, 61, 63, 78, 124, 170, 177], 'Man': [1, 22, 23, 24, 34, 37, 51, 52, 74, 98, 105, 119, 122, 130, 166, 179, 185], 'theme': [1, 15, 39, 52, 75, 98, 100, 112, 113, 126, 170], 'last': [1, 2, 34, 64, 82, 86, 110, 126, 129, 156, 168, 191], 'scenery': [1], 'dun': [1], 'Exciting': [1], 'Mountain': [1, 27, 29, 34, 35, 37, 74, 82, 99, 119, 122, 130, 150, 163, 172], 'Disney': [1, 5, 7, 8, 11, 15, 17, 21, 22, 28, 29, 31, 32, 34, 35, 36, 40, 44, 45, 51, 53, 55, 59, 62, 67, 68, 69, 71, 76, 77, 80, 82, 85, 87, 89, 90, 92, 94, 99, 100, 102, 103, 105, 113, 115, 120, 121, 122, 126, 128, 130, 131, 135, 136, 140, 141, 143, 144, 146, 148, 150, 155, 166, 169, 170, 172, 175, 179, 180, 181, 183, 188, 189, 191, 196, 198], 'feature': [1], 'Bakery': [1, 7], 'time': [1, 2, 9, 11, 17, 20, 26, 32, 34, 47, 48, 49, 51, 56, 60, 61, 62, 64, 66, 68, 69, 72, 75, 77, 79, 82, 91, 92, 93, 95, 97, 99, 100, 103, 105, 107, 109, 112, 120, 121, 122, 126, 127, 128, 129, 132, 133, 140, 145, 147, 148, 151, 154, 155, 156, 157, 158, 160, 164, 165, 172, 177, 180, 186, 187, 189, 190, 192, 198], 'n': [1], 'Wasp': [1, 23, 51, 74, 166], 'central': [1, 53, 96, 169], 'Hello': [1], 'Place': [1, 18], 'park': [1, 2, 3, 5, 8, 21, 22, 26, 29, 32, 33, 34, 35, 36, 40, 44, 47, 52, 53, 55, 69, 71, 72, 75, 77, 78, 79, 83, 85, 86, 89, 90, 92, 96, 98, 99, 100, 102, 112, 113, 119, 121, 122, 124, 126, 133, 139, 140, 142, 143, 146, 150, 157, 158, 159, 160, 166, 171, 172, 174, 179, 181, 186, 190, 193, 195, 197], 'Happiest': [1], 'visit': [1, 3, 7, 16, 22, 24, 25, 26, 35, 38, 45, 51, 64, 71, 82, 84, 85, 86, 96, 99, 102, 105, 107, 123, 124, 126, 127, 129, 134, 137, 139, 143, 145, 150, 151, 153, 154, 159, 166, 170, 171, 172, 176, 189, 191, 198], 'previous': [1, 71], 'Starbucks': [1, 2], 'Park': [1, 7, 35, 122, 127, 155, 182, 189], 'MINUS': [1], 'attractive': [1], 'sweets': [1], 'HK': [1, 3, 19, 29, 34, 64, 68, 75, 79, 90, 106, 108, 109, 110, 113, 122, 124, 129, 136, 139, 141, 145, 157, 158, 159, 162, 166, 167, 169, 170, 171, 172, 178, 179, 188, 193], 'area': [1, 15, 90, 95, 98, 100, 105, 165], 'SMILING': [1], 'Great': [1, 6, 18, 47, 50, 55, 104, 116, 151, 155, 173, 196], 'staffs': [1, 73, 86, 187], 'Dont': [1, 8], 'face': [1], 'point': [1, 17, 85, 105, 179], 'Felt': [1], 'Star': [1, 34, 90, 130, 150, 166], 'u': [1, 29, 134], 'bit': [1, 2, 3, 139, 150, 175, 185, 190], 'shops': [2, 3, 5, 11, 29, 36, 92, 118, 122, 165, 194], 'minutes': [2, 21, 32, 34, 43, 46, 71, 77, 104, 106, 115, 117, 118, 125, 169, 179, 198], 'toilets': [2], 'coffee': [2], 'certain': [2, 34, 108, 126], 'grand': [2], '.The': [2, 143], 'find': [2], 'longest': [2, 26, 71, 77, 142], '.I': [2], 'good': [2, 5, 20, 22, 31, 33, 37, 44, 66, 67, 70, 78, 85, 90, 92, 99, 104, 106, 117, 119, 127, 128, 129, 138, 139, 148, 149, 155, 160, 161, 186, 191, 193, 194, 196], 'choice': [2, 21, 39, 130, 187], 'options': [2, 14, 31, 85, 99, 121, 124, 140, 196], 'amazing': [2, 30, 54, 76, 90, 128, 134, 169, 194], 'hours': [2, 31, 51, 64, 94, 100, 120, 123, 126, 137, 148, 157, 172, 179, 181], 'attractions': [2, 5, 7, 9, 14, 23, 26, 35, 54, 82, 87, 93, 101, 102, 111, 123, 145, 158, 159, 166, 183, 186, 190], 'God': [2], '.Although': [2], 'lot': [2, 17, 21, 31, 35, 67, 80, 89, 100, 108, 123, 166, 176, 183], 'everyone': [2, 15, 17, 38, 86, 143, 174], 'closed': [2, 146], 'way': [2, 5, 29, 36, 78, 83, 108, 119, 122, 147, 151, 153, 162, 166, 175], 'Thanks': [2], 'big': [2, 21, 37, 41, 61, 74, 90, 92, 99, 123, 126, 128, 151, 163, 165, 166, 170, 180, 181, 183, 186], 'everywhere.All': [2], 'great': [2, 3, 11, 14, 22, 24, 26, 31, 32, 34, 35, 37, 40, 47, 60, 61, 65, 66, 68, 69, 70, 78, 79, 81, 85, 86, 90, 99, 102, 103, 104, 105, 110, 114, 121, 122, 124, 133, 139, 140, 141, 146, 151, 155, 156, 166, 167, 172, 174, 175, 176, 185, 188, 190, 194, 196], 'issue': [2, 79], 'gift': [2, 5, 58], 'food': [2, 3, 5, 7, 15, 22, 23, 29, 34, 42, 44, 46, 48, 52, 53, 54, 58, 60, 65, 66, 68, 78, 80, 85, 90, 92, 95, 99, 104, 108, 114, 118, 121, 122, 124, 131, 137, 139, 140, 156, 171, 183, 192, 194, 196], 'small': [2, 5, 15, 17, 21, 29, 33, 40, 44, 50, 57, 62, 76, 81, 87, 99, 114, 122, 123, 131, 135, 137, 146, 156, 157, 166, 170, 193, 196], 'bad': [2, 6, 8, 72, 122, 167, 194, 195], 'plenty': [2, 35, 63, 157], 'castle': [2, 3, 12, 17, 21, 22, 26, 28, 53, 62, 72, 109, 110, 128, 139, 141, 144, 146, 148, 172, 173], 'enjoy.It': [2], 'queue': [2, 28, 74, 90, 137, 161, 185, 187, 192, 196], 'maintenance': [3, 29, 141, 163, 173], 'present': [3], 'number': [3, 9, 34, 46, 79, 99, 120, 167], 'pay': [3, 108, 195], 'snacks': [3, 38], 'prices': [3, 22, 29, 108, 123, 194], 'etc': [3, 34, 46, 92, 124, 130, 171], 'quite': [3, 117], 'dollar': [3], 'LA': [3, 34, 61, 92, 191], 'top': [3, 110], 'Unfortunately': [3, 128], 'kids': [3, 4, 11, 21, 22, 26, 31, 35, 45, 52, 63, 65, 70, 73, 81, 85, 90, 92, 95, 97, 112, 113, 114, 122, 126, 130, 131, 147, 160, 190, 198], 'compact': [3], 'bus': [3, 77, 108], 'work': [3, 9, 25], 'famous': [3], 'prepared': [3, 7], 'drinks': [3, 131], 'love': [3, 11, 22, 27, 45, 51, 72, 86, 139, 143, 147], 'Regardless': [3], 'areas': [3, 25, 59, 98, 108, 129], 'city': [4, 53, 198], 'everything': [4, 9, 34, 66, 76, 87, 123, 148, 156, 179], 'location': [4, 141, 166], 'hour': [4, 17, 24, 36, 57, 137, 199], 'Kowlon': [4], 'fine': [4, 151], 'disneyland': [4, 10, 61, 110, 132, 153, 168], 'Tokyo': [5, 34, 98, 99, 113, 141, 157, 166, 169, 181, 199], 'lines': [5, 41, 68, 80, 86, 108, 113, 130, 140, 157, 159, 181, 182, 183], 'water': [5, 42, 90, 114, 131], 'fountains': [5, 160], 'free': [5, 17, 21, 24, 61, 68, 86, 90, 122, 143, 187], 'tickets': [5, 15, 21, 23, 34, 36, 46, 47, 53, 79, 80, 87, 90, 97, 103, 105, 114, 121, 138, 139, 142, 181], 'seats': [5, 29, 63, 169], 'entrance': [5, 23, 61, 101, 105], 'Basically': [5], 'acceptable': [5], 'children': [5, 12, 14, 22, 25, 37, 50, 59, 67, 68, 93, 107, 112, 127, 129, 152, 155, 161, 164, 180, 181], 'choices': [5, 34, 104, 131], 'problem': [5], 'Anaheim': [5, 29, 41, 45, 113, 120, 136, 142, 157, 166, 181], 'expensive': [5, 15, 17, 26, 29, 38, 42, 58, 78, 90, 105, 114, 122, 131, 144, 159, 185], 'much': [5, 30, 32, 34, 43, 63, 68, 82, 86, 124, 143, 149, 162, 170, 173, 190, 193], 'Souvenirs': [5, 23], 'property': [5], 'people': [5, 8, 32, 34, 36, 57, 60, 86, 87, 124, 143, 155, 156, 158, 159, 165, 169, 183, 195, 198], 'go': [6], 'parade': [6, 19, 34, 39, 46, 85, 96, 104, 108, 110, 126, 128, 148, 168, 171, 183, 198], 'daughter': [6, 13, 29, 75, 104, 112, 150, 184, 189], 'place': [6, 8, 13, 14, 17, 38, 46, 56, 65, 73, 84, 86, 95, 116, 124, 127, 145, 149, 152, 153, 156, 157, 158, 172, 176, 179, 183, 187, 196, 198], 'HongKong': [7, 48], 'Wed': [7], 'restaurants': [7, 31, 34, 59, 72, 80, 85, 87, 100, 178, 183], 'style': [7, 29, 34, 120], 'Storybook': [7], 'ones': [7, 11, 20, 50, 100, 104, 115, 131, 146], 'Restaurant': [7, 34], 'Theatre': [7, 90, 133], 'week.The': [7], 'intro': [7], 'week': [7, 17, 47, 53, 87, 98, 138, 140, 175], 'Almost': [7], 'Tue': [7], 'magic': [7, 170, 171], 'abrupt': [7, 133], 'Think': [7], 'drawback': [7, 156], 'plan': [7, 195], 'Thur': [7], 'best': [7, 22, 34, 40, 52, 68, 88, 99, 116, 119, 124, 126, 132, 157, 159], 'Cafe': [7], 'typical': [7, 140, 172, 179], 'Corner': [7], 'decent': [7, 103, 124], 'events': [7, 130], 'disappointment': [7, 71, 87, 110, 159], 'timing': [7], 'staff': [7, 8, 48, 62, 63, 86, 93, 97, 104, 122, 133, 146, 154, 160, 167, 170, 183, 191, 192], 'little': [7, 21, 31, 32, 34, 78, 92, 100, 109, 115, 129, 139, 144, 149], 'Even': [7, 9, 169], 'private': [7], 'Maxim': [7], 'service': [7, 40, 44, 61, 156], 'example': [7], 'Thu': [7], 'biggest': [7, 129, 158, 159, 168], 'amount': [8, 79, 143, 163], 'fantasy': [8, 178], 'horrified': [8], 'rain': [8, 32, 49, 106, 109], 'visitors': [8, 46, 122, 126, 159], 'cabana': [8], 'map': [8, 61, 103], 'Feel': [8], 'money': [8, 11, 79, 92, 123, 139, 142, 144, 157, 163, 164, 167, 169], 'places': [8, 29, 117], 'train': [8, 21, 36, 61, 90, 96, 108, 111, 121, 139, 140, 143, 156, 162, 169, 171, 180, 182], 'station': [8, 9, 36, 64, 90, 95, 108, 143, 171], 'signage': [8, 37], 'photos': [8, 24, 130], 'let': [8, 48], 'enough': [8, 16, 77, 81, 143, 159, 169], 'rooms': [8, 75, 156], 'fantastic': [8, 14, 45, 73, 108, 175, 195], 'terrible': [8, 195], 'characters': [8, 34, 51, 81, 85, 94, 111, 121, 126, 128, 140, 141, 144, 159, 165, 189, 198], 'rest': [8, 108], 'Walt': [8, 44], 'Ticket': [9, 137], 'Miss': [9], 'Lion': [9, 20, 29, 34, 42, 90, 98, 99, 112, 128, 130, 147, 169, 182], 'incomplete': [9], 'comparison': [9, 180], 'King': [9, 20, 29, 34, 36, 90, 98, 99, 128, 130, 147, 169, 182], 'cover': [9, 169], 'River': [9, 163], 'MTR': [9, 34, 35, 37, 81, 90, 95, 103, 106, 108, 111, 115, 126, 148, 159, 160, 171, 175, 193, 198], 'Day': [9], 'well': [9, 35], 'less': [9, 32, 87, 124, 157], 'Trains': [9, 125, 159], 'come': [9, 10, 168], 'opinion': [9, 34], 'ticket': [9, 20, 34, 36, 64, 90, 95, 101, 105, 121, 129, 143, 159, 185, 198], 'Micky': [9, 67, 186], 'spot': [9, 61, 79, 198], 'true': [9, 86, 120, 121, 171], 'Timings': [9], 'holidays': [9, 15, 83, 138], 'rush': [9, 114, 198], 'Cruise': [9, 34, 163], 'online': [9, 15, 34, 61, 79, 95, 101, 103], 'HKD': [9, 74, 92, 124], 'explore': [9], 'Magic': [9, 24, 51], 'Sundays': [9], 'Entrance': [9], 'Jungle': [9, 34, 163], 'childhood': [9, 196], 'environment': [9, 67], 'popcorn': [9, 105, 128], 'Must': [9, 16, 64], 'Phillhar': [9], 'Show': [9, 115, 182], 'public': [9, 138], 'ShowIt': [9], 'shows': [9, 34, 48, 61, 76, 77, 80, 89, 98, 99, 172, 179], 'kid': [10, 69, 79, 122, 124, 150, 168], 'florida': [10], 'thought': [10, 27], 'cease': [10], 'hong': [10], 'kong': [10], 'bucketlist': [10], 'DL': [10, 166], 'many': [11, 12, 26, 28, 32, 33, 56, 57, 63, 74, 83, 87, 89, 90, 92, 98, 113, 121, 122, 129, 131, 138, 140, 141, 152, 156, 158, 163, 188, 192, 198], 'house': [11, 24, 113, 171], 'grown': [11], 'admit': [11], 'experience': [11, 14, 21, 23, 32, 33, 41, 53, 62, 70, 71, 79, 85, 87, 103, 105, 110, 114, 130, 141, 144, 157, 167, 168, 176, 179, 181, 182, 184, 195, 197], 'tire': [11], 'spent': [11, 79, 98, 163, 189], 'parks': [11, 15, 26, 32, 43, 64, 74, 77, 91, 99, 105, 113, 146, 159, 166, 191], 'space': [11, 166, 195], 'states': [11], 'man': [11, 21, 22, 33, 114], 'course': [11, 148, 172], 'iron': [11], 'catch': [11, 36, 143], 'lion': [11, 83, 90, 133], 'list': [11, 88, 150], 'lots': [11, 16, 42, 78, 90, 99, 129, 144, 165], 'young': [12, 25, 35, 73, 79, 85, 107, 127, 155, 161, 184], 'second': [12, 20, 26, 29, 75, 86, 88, 109, 160], 'early': [12, 31, 90, 181, 195], 'season': [12, 172], 'days': [12, 15, 16, 34, 91, 99, 104, 106, 107, 124, 136, 138, 154, 157, 189], 'got': [12], 'suitable': [12], 'disappointing': [12, 29, 37, 71, 123, 193], 'straight': [12, 90], 'row': [12, 34], 'lineups': [12], 'earth': [13, 157], 'memorable': [13, 38, 41, 130], 'family': [13, 14, 32, 34, 35, 41, 55, 58, 69, 83, 85, 92, 109, 130, 131, 152, 155, 164, 168, 172, 176, 188, 198], 'birthday': [13], 'happiest': [13, 157, 198], 'fun': [13, 33, 34, 35, 42, 44, 48, 55, 58, 78, 80, 82, 84, 91, 96, 102, 113, 117, 124, 149, 152, 154, 160, 161, 163, 164, 167, 170, 172, 178, 180, 195], 'ages': [14, 73, 96, 127, 129], 'Definately': [14], 'Food': [14, 26, 38, 137, 161, 187], 'helpful': [14, 61, 122, 146, 160], 'HUGE': [14], 'awesome': [14], 'models': [14], 'Staff': [14, 30, 67, 133, 167], 'variety': [14, 68, 89, 99, 181], 'look': [15, 17], '.This': [15], 'wait': [15, 17, 24, 71, 77, 86, 92, 94, 103, 115, 142, 179], 'Castle': [15, 20, 23, 29, 108, 112, 121, 163], 'general': [15], 'weekends': [15, 74, 83], 'weekday': [15, 72, 114, 125, 129], 'deal': [15, 139], 'due': [15, 28, 37, 87, 108, 129, 173], 'recommend': [15, 32, 85, 86, 125, 128, 179], 'aprox': [15], 'price': [15, 36, 74, 122, 144, 170, 190], 'pass': [16, 29, 85, 90, 92, 103, 105, 124, 151, 157, 159, 185, 196], 'fairytales': [16], 'Visit': [16], 'pm': [16, 100, 114], 'scenes': [16], 'movies': [16], 'huge': [16, 31, 42, 58, 100, 133, 145, 152, 194], 'single': [17, 88, 124], 'Fast': [17, 34, 119, 142], 'rider': [17], 'person': [17, 61, 169, 186], 'half': [17, 77, 137, 144, 151, 190], 'eat': [17, 42, 68, 71, 100, 158], 'fortune': [17], 'construction': [17, 21, 22, 64, 72, 123, 172], 'cost': [17, 124, 193], 'assume': [17], 'need': [18, 29, 76, 90, 93, 167, 169, 195], 'smaller': [18, 32, 34, 45, 47, 55, 59, 63, 86, 89, 91, 98, 104, 115, 119, 131, 133, 140, 141, 150, 168, 172, 173, 179, 181, 188, 189], 'reviewing': [18], 'Easy': [19, 140, 148, 165, 175], 'step': [19, 197], 'trams': [19], 'become': [19], 'Wait': [19], 'child': [19, 29, 38, 124, 130, 152, 153, 178], 'stations': [19], 'nothing': [19, 113, 117, 139], 'value': [20, 46, 78, 137, 157, 164], 'visible': [20], 'favourite': [20, 35, 82, 133, 139, 157, 170], 'Mickey': [20, 22, 24, 34, 51, 54, 74, 90, 98, 128, 160, 163, 179, 180, 182], 'Book': [20, 51, 61, 99, 128, 147], 'tourist': [20, 78, 161], 'Wondrous': [20, 51, 99, 128, 147], 'queuing.The': [20], 'Moana': [20, 42, 115], 'saw': [20, 37], 'bearings': [20], 'magical': [20, 81, 121, 158, 169, 172, 198], 'parades': [20, 28, 81, 98, 121, 130], 'Klook': [20, 87, 90, 97, 139, 142, 181], 'works': [20, 53], 'live': [21, 61, 99, 130], 'Wednesday': [21, 28], 'okay': [21, 113, 137], 'years': [21, 26, 82, 109, 112, 122, 137, 160], 'impressed': [21], 'seekers': [21, 35], 'easy': [21, 26, 33, 35, 37, 58, 74, 78, 81, 85, 87, 90, 97, 103, 106, 169, 173, 175, 193], 'slow': [21, 34, 139], 'super': [21, 44, 45, 83, 91, 104, 137, 170], 'tip': [21], 'First': [21, 180], 'California': [21, 32, 119, 179, 189], 'description': [21], 'subway': [21], 'Next': [21], 'sucks': [21], 'able': [21, 31, 32, 33, 51, 54, 62, 103, 163, 179], 'nice': [21, 24, 52, 57, 62, 67, 75, 93, 112, 155, 157], 'themes': [21], 'sure': [21, 22, 43, 47, 71, 86, 100, 102, 121, 146, 198], 'home': [21, 29, 89, 143, 192], 'life': [21, 64, 178], 'ride': [21, 22, 24, 29, 35, 52, 59, 62, 77, 82, 86, 90, 102, 111, 117, 139, 167, 169, 179, 182], 'fan': [21, 44, 51, 65, 134, 170], 'vacation': [21, 85], 'idea': [21], 'stay': [21, 30, 38, 52, 130, 197], 'line': [21, 22, 24, 32, 34, 35, 36, 53, 57, 91, 92, 103, 104, 115, 121, 123, 165, 195], 'afraid': [22, 74], 'book': [22, 169], 'reasonable': [22], 'restaurant': [22, 31, 53, 71, 74, 137, 175], 'Wounderous': [22], 'old': [22, 30, 34, 61, 91, 92, 104, 124, 170, 189], 'pubs': [22], 'Adults': [22], 'major': [22, 122], 'loud': [22], 'noises': [22], 'year': [22, 30, 46, 61, 91, 92, 100, 104, 177, 183, 189], 'disappointed': [22, 108, 154, 170, 180], 'buy': [22, 79, 128, 143, 181], 'Overall': [22, 70, 75, 102, 103, 113, 133, 155, 166, 171, 190], 'new': [22, 23, 51, 52, 55, 61, 82, 86, 99, 100, 122, 129, 156, 166, 170, 177, 183], 'wonderful': [22, 73, 104, 124, 154, 164, 182, 197], 'Chinese': [22, 126, 161, 169, 179], 'roller': [22, 130, 167], 'beautiful': [22, 32, 56, 116, 183, 198], 'Standard': [22], 'coasters': [22], 'Disneylands': [23, 25], 'Sleeping': [23, 163], 'flat': [23, 137], 'pictures': [23, 165], 'square': [23], 'renovation': [23, 26, 64, 72, 108, 109, 110], 'Beauty': [23, 163, 172], 'enjoyable': [23, 48, 98, 103, 122, 183, 196], 'region': [23], 'excellent': [24, 26, 70, 125], 'Tarzan': [24, 74], 'cruise': [24, 114], 'Duck': [24], 'rides.Adventure': [24], 'Coaster': [24, 119, 156], 'want': [24, 64, 87, 108], 'twice.Philar': [24], 'available': [24, 40, 68, 85, 112, 117, 163, 171], 'GO': [24], 'photo': [24, 67, 85, 112, 198], 'kids.Grizzly': [24], 'Gulch': [24, 125, 167], 'minute': [24, 160], 'get': [24, 29, 36, 58, 61, 90, 124, 148, 167, 190, 193, 194, 196], 'Donald': [24], 'price.Tomorrow': [24], 'signboards': [24], 'Land': [24, 196], 'boat': [24, 124, 171], 'others': [25, 33, 63, 86, 99, 119, 140, 168], 'different': [25, 31, 39, 46, 55, 80, 85, 104, 105, 178, 179, 181, 193], 'shame': [25], 'world': [25, 28, 63, 77, 90, 124, 129, 153, 158, 166, 173, 178, 181], 'generic': [25], 'language': [25], 'non': [26, 124, 192], 'warm': [26, 143, 192], 'minutesOverall': [26], 'outdoor': [26], 'high': [26, 85, 108, 123, 190], 'clean': [26, 40, 41, 48, 56, 63, 67, 73, 77, 156, 164, 165, 166, 179, 183], 'trip': [26, 39, 71, 72, 86, 88, 92, 106, 130, 145, 156, 159, 172], 'tidy': [26, 67], 'inexpensive': [26, 124], 'thrill': [26, 35, 74, 99, 122, 155, 172, 190], 'smallish': [26], 'ie': [26, 46], 'vegetarian': [26, 53], 'Lines': [26, 33, 194], 'existent': [26, 157], 'first': [26, 69, 70, 75, 76, 90, 92, 140, 141, 144, 156, 168, 181], 'options.The': [26], 'entry': [26, 36, 37, 46, 90, 105, 143, 198], 'visits': [27], 'try': [27, 64, 88, 118, 126, 156], 'scary': [27, 29], 'Grizzly': [27, 34, 35, 37, 74, 119, 125, 157, 163, 172], 'courage': [27], 'chicken': [27], 'Big': [27, 34, 35, 37, 74, 150, 172], 'afternoon': [28, 37, 51, 108, 109, 128, 198], 'short': [28, 33, 87, 115, 147, 159], 'opening': [28], 'fireworks': [28, 38, 108, 109, 139, 146, 154, 173, 198], 'times': [28, 34, 48, 81, 82, 87, 92, 103, 108, 117, 129, 130, 156, 157, 181], 'meal': [29, 137, 139], 'combo': [29], 'light': [29, 73, 96, 139], 'Biggest': [29], 'crazy': [29], 'enjoy': [29, 74, 91, 127, 130, 132, 172, 180, 195], 'thru': [29, 159], 'false': [29], 'balls': [29, 156], '%': [29, 87, 103], 'Mostly': [29], 'Story': [29, 37, 115], 'kiddy': [29], 'weeks': [29, 105], 'AUD': [29, 92], 'adults': [29, 31, 36, 50, 53, 59, 65, 143, 164, 180, 190], 'Come': [29], 'Hollywood': [29, 189], 'parents': [29, 58, 73, 137, 156], 'flavourless': [29], 'Toy': [29, 34, 37, 90, 163], 'coz': [29], 'shade': [29], 'trains': [29, 36], 'salad': [29], 'Water': [29], 'insane': [29], 'Hotel': [29, 34, 79], 'Train': [29], 'concrete': [29], 'grab': [29], 'breakfast': [29, 85], 'crappy': [29, 144], 'sun': [29], 'burger': [29, 53], 'China': [29], 'supermarkets': [29], 'elderly': [29], 'pretty': [29, 34], 'dinner': [29], 'bakery': [29], 'cafes': [29], 'equates': [29], 'note': [29, 47], 'discount': [29, 103], 'deep': [29], 'hypo': [29], 'advertising': [29], 'cheap': [29, 35, 86], 'snack': [29], 'show': [29, 34, 61, 83, 86, 90, 98, 115, 133, 139, 143, 169, 171], 'vouchers': [29, 34], 'astray': [29], 'shades': [29], 'husband': [29, 139, 143], 'lettuce': [29], 'buffet': [29], 'anything': [30], 'easier': [30, 34, 83, 115], 'Makes': [30], 'fault': [30, 68], 'pram': [30], 'Could': [30], 'hotels': [30, 34, 85, 174], 'hire': [30], 'Took': [30, 69], 'bars': [31, 160], 'couple': [31, 35, 70, 94, 117, 181], 'umbrella': [31], 'special': [31, 39, 61, 74, 139, 140, 154], 'hats': [31], 'available.The': [31], 'Note': [31], 'highlight': [31, 86, 90, 99], 'clothing': [31], 'adults.We': [31], 'gifts': [31, 118], 'selection': [31], 'bring': [31], 'foods': [31, 73, 181], 'shopping': [31, 195], 'amounts': [32], 'umbrellas': [32], 'paced': [32], 'undercover': [32], 'large': [32], 'ups': [32, 195], 'previously.No': [32], 'none': [32, 75, 105, 167], 'mind': [32, 54, 133, 179], 'over.I': [32], 'slower': [32], 'HKDL': [32, 39], 'numbers': [32], 'Loved': [32, 167], 'months': [32], 'trepidation': [32], 'Anaheim.We': [32], 'Shanghai': [33, 166, 181, 199], 'story': [33, 90, 102, 139, 166], 'mountain': [33, 114, 128], 'hyperspace': [33], 'car': [33, 105, 157], 'Cars': [34, 74, 163, 172], 'fast': [34, 35, 90, 159], 'Starliner': [34, 137], 'Christmas': [34, 39, 172], 'quietness': [34], 'Government': [34], 'Dining': [34], 'PhilharMagic': [34], 'it.Yes': [34], 'website': [34], 'morning': [34, 52, 121, 168, 198], 'buses': [34], 'serve': [34], 'Station': [34, 36, 53], 'Stark': [34], 'version': [34, 150, 166], 'great.HK': [34], 'Runaway': [34, 37, 74, 82, 125, 163, 172], 'gates': [34, 90, 108], 'Storyland': [34], 'things': [34, 37, 56, 64, 100, 138, 195], 'QR': [34, 97], 'Octopus': [34], 'see': [34, 66, 89, 92, 128, 141, 155, 157, 186], 'fussy': [34], 'scan': [34, 97, 114], 'varies': [34], 'Caribbean': [34], 'beware': [34], 'Lots': [34, 140, 165, 180], 'limited': [34, 99], 'speed': [34], 'Industries': [34], 'quality': [34, 89, 90, 99, 122, 123], 'email': [34], 'choose': [34, 178], 'eaters': [34], 'Shaped': [34], 'uses': [34], 'Bay': [34, 36, 143], 'net': [34], 'electronic': [34], 'Pirates': [34], 'travel': [34, 36, 162], 'Lunch': [34], 'purchase': [34, 36, 68, 97, 105, 137, 142], 'Card': [34], 'English': [34, 77, 93], 'Cantonese': [34, 179], 'girls': [34, 188], 'Hotels': [34], 'difference': [34], 'double': [34, 87], 'option': [34, 139, 150], 'Market': [34], 'HKL': [34], 'Dinner': [34], 'coool': [34], 'notice': [34], 'change': [34, 108], 'overlay': [34], 'fun.Unique': [34], 'Windows': [34], 'Mystic': [34, 37, 51, 74, 102, 114, 124, 125, 139, 150, 163, 166, 172], 'Asian': [34, 175], 'carriages': [34], 'shuttle': [34], 'Vouchers': [34], 'simulator': [34], 'unique': [34, 35, 102, 179], 'link': [34], 'codes': [34], 'Sunny': [34, 36, 143], 'loving': [34], 'Explorers': [34, 67, 77], 'Manor': [34, 37, 51, 102, 114, 125, 139, 163, 166, 169, 172], 'script': [34], 'fastpass': [34], 'back': [34], 'skippers': [34], 'Tomorrowland.We': [34], 'Central': [34, 58, 108, 162], 'system': [34], 'Mine': [34, 37, 74, 82, 90, 125, 163, 172], 'Lodge': [34], 'sad': [34, 109, 112, 129, 149], 'trackless': [34], 'transport': [34], 'burgers': [34], 'Australia': [34], 'Sea': [34, 181], 'runs': [34], 'kind': [35, 154], 'RC': [35, 157], 'wait.For': [35], 'younger': [35, 131], 'heaps': [35], 'here.The': [35], 'chance': [35], 'Toystoryland': [35], 'unexpected': [35], 'families': [35], 'Australian': [35], 'see.If': [35], 'navigable': [35], 'Racer': [35], 'full': [35, 46, 53, 80, 81, 101, 141, 178, 180, 181, 191], 'reviews': [36], 'road': [36], 'roadAs': [36], 'Nathan': [36], 'orange': [36], 'centre': [36], 'problems': [36, 178], 'seem': [36, 44], 'numerous': [36], 'next': [36, 77, 90, 105, 169], 'cheapest': [36, 139], 'Lai': [36], 'box': [36], 'right': [36, 108], 'letter': [36], 'rate': [36, 143], 'hand': [36, 94], 'used': [36], 'costs': [36], 'taxi': [36, 105, 108, 124], 'level': [36], 'CTS': [36], 'sales': [36], 'Kok': [36], 'pink': [36], 'Thai': [36], 'route': [36], 'minutes.On': [36], 'Mong': [36], 'Bank': [36], 'read': [36, 61, 63], 'office': [36], 'bank': [36], 'cok': [36], 'town': [37, 167], 'heard': [37, 123], 'USA': [37, 115, 117, 142], 'cars': [37], 'mid': [37, 87, 175], 'stop': [37, 71, 86, 192], 'ghost': [37], 'favorite': [37, 115], 'Though': [37], 'crowds': [37, 79, 102, 113, 129, 138, 181, 194], 'Characters': [37, 106, 160], 'Happy': [37], 'think': [37, 42, 83, 198], 'Hyperspace': [37, 74, 114, 130, 163], 'understand': [38], 'brings': [38], 'disney': [39, 43, 91, 106, 111, 165, 168], 'costume': [39], 'period': [39, 46], 'daily': [39], 'November': [39], 'happening': [39], 'Mar': [39], 'Halloween': [39, 66, 113], 'Year': [39, 126, 179], 'check': [39, 64, 71, 105, 145, 169, 172], 'event': [39], 'May': [39], 'Jan': [39], 'Apr': [39], 'charaters': [39], 'Thats': [39], 'New': [39, 126, 169, 179], 'join': [39], 'Feb': [39, 192], 'Chines': [39], 'Carnival': [39], 'Summer': [39], 'make': [39], 'customer': [40], 'tame': [40, 99], 'amusement': [40, 61], 'Visited': [41, 113], 'passes': [41, 77, 86, 92, 191], 'priority': [41, 47, 63, 75, 77, 92, 105, 124, 157, 185], 'comfortable': [42, 167], 'songs': [42], 'reminders': [42], 'tripods': [42], 'production': [42], 'container': [42], 'shoes': [42, 167], 'sooner': [42, 156], 'turn': [42], 'reusable': [42], 'movie': [42], 'Festival': [42], 'Maui': [42], 'forget': [42, 198], 'rollercoasters': [42, 131], 'use': [42, 61, 86, 90, 105, 142, 181], 'sticks': [42], 'quees': [43], 'Waits': [43], 'overall': [43, 62, 78], 'impression': [43], 'lacks': [43], 'mediocre': [44], 'lunch': [44, 104, 105], 'best.A': [44], 'cute': [44, 100, 104, 131, 161, 163, 165, 182], 'tick': [44], 'Nugget': [44], 'translate': [44], 'Lucky': [44], 'Saloon': [44], 'Plaza': [45], 'group': [45, 61, 164, 167, 170, 172], 'Inn': [45], 'skip': [45], 'Exhausting': [46], 'whereas': [46], 'covers': [46], 'till': [46, 100], 'fee': [46, 135, 159], 'long': [46, 52, 61, 79, 92, 94, 121, 144, 148, 150, 156, 161, 187, 196], 'Orlando': [46, 51, 139, 159, 166], 'Disneyworld': [46], 'yrs': [46], 'various': [46, 179], 'zone': [47], 'Sunday': [47], 'Saturday': [47], 'purchased': [47, 105], 'Queues': [47, 79], 'weekend': [47], 'terrific': [48], 'average': [48, 57, 114], 'ok': [48, 59], 'adult': [49, 70, 127, 175], 'set': [49], 'bigger': [50], 'Lightyear': [51, 122], 'Parks': [51, 169], 'night': [51, 73, 96, 98, 104, 109, 110, 168, 169, 192, 198], 'Parade': [51, 109, 168, 196], 'a.m': [51], 'regret': [51], 'college': [51], 'smallest': [51, 77, 120, 169], 'Paris': [51, 99, 113, 119, 166, 170, 190], 'c': [51], 'Ranger': [51], 'Electro': [51], 'knew': [51], 'Easter': [51], 'Pricey': [52], 'evening': [52], 'Try': [52], 'part': [52, 72, 102, 124, 133], 'hotel': [52, 67, 85, 92, 106, 108, 156, 189], 'essay': [53], 'vegie': [53], 'variation': [53], 'Mind': [53], 'hard': [53, 79, 133], 'publicity': [53], 'Status': [53], 'pop': [53], 'reparation': [53], 'outlets': [53, 79], 'up.It': [53], 'additional': [53], 'corn': [53, 124], 'friend': [53, 136], 'VIP': [53, 169], 'needs': [54, 191], 'friends': [54, 149, 152, 156], 'entertainment': [54, 193], 'meet': [54, 198], 'cater': [54, 175], 'Glad': [54], 'Awesome': [54, 176], 'halal': [54, 73, 74], 'fact': [55, 82, 98, 134, 146, 170], 'Facilities': [55], 'games': [55, 80, 100], 'Night': [56, 109], 'safe': [56], 'MRT': [56, 129], 'Love': [56, 109], 'transit': [57], 'tram': [57], 'impressive': [57], 'teenage': [58], 'sisters': [58], 'offerings': [58], 'western': [59, 137], 'thrilling': [59], 'holiday': [60, 172], 'Went': [60, 90, 98, 106], 'x': [60], 'xx': [60], 'brilliant': [60], 'polite': [60], 'points': [61], 'fellow': [61], 'luggage': [61, 64], 'inside': [61], 'access': [61, 74, 79, 175], 'soveniour': [61], 'wifi': [61], 'employees': [61, 183], 'age': [61, 82, 143, 188], 'schedule.5': [61], 'trolley': [61], 'app': [61, 103, 142], 'que.3': [61], 'tips': [61], 'ASK': [61], 'timings': [61], 'BACKPACK': [61], 'navigate': [61, 115], 'LAND': [61], 'Take': [61, 82, 90], 'interior': [61], 'wont': [61], 'feel.4': [61], 'park.We': [61], 'manage': [61], 'exit': [61], 'storage': [61, 86], 'thier': [61], 'POLITELY.Rest': [61], 'metro': [61, 74, 91, 143], 'superb': [61], 'ask': [61, 70], 'creative.6': [61], 'visited': [61], 'REMEMBER': [61], 'direction': [61, 63], 'Always': [61], 'leav': [61], 'door': [61], 'DISNEYLAND': [61], 'stickers': [61, 104, 146, 187], 'dont': [61], 'allowed.2': [61], 'bag': [61, 86, 90], 'infant': [61], 'saves': [61], 'marvellous': [61], 'reach': [61, 111], 'PAY': [61], 'random': [63], 'take': [63, 114, 165], 'que': [63], 'Arrows': [63], 'autistic': [63], 'knows': [63], 'plentiful': [63], 'interact': [63], 'son': [63, 68], 'Toilets': [63], 'Way': [63], 'Signs': [63], 'excursions': [64], 'everyday': [64], 'Superb': [64], 'dawn': [64], 'reserve': [64], 'tour': [64, 169], 'amusements': [64], 'creation': [64], 'Better': [64, 67, 95], 'capture': [64, 198], 'Fantastic': [64, 95, 197], 'snaps': [64], 'item': [64, 108], 'avenues': [65], 'mickey': [65], 'creates': [65], 'guest': [67, 95, 105], 'Explorer': [67], 'activities': [67, 98, 130, 149, 152], 'effective': [67], 'bathrobe': [67], 'provide': [67, 126], 'resort': [67], 'pool': [67], 'play': [67, 82], 'US': [68, 105, 135], 'improvements': [68], 'ownership': [68], 'icon': [68], 'selections': [68], 'items': [68], 'steak': [68], 'American': [68, 133], 'gluten': [68], 'lacking': [68], 'allergies': [68], 'sensitive': [68], 'taste': [68, 85], 'conscious': [68], 'wife': [68, 82, 112], 'menus': [68], 'eyes': [69, 168, 186], 'Weather': [69], 'offer': [69], 'joy': [69], 'Rides': [70], 'friendly': [70, 160, 165, 167, 170, 174, 183, 191], 'theres': [70], 'performers': [70], 'couldnt': [70], 'towards': [70], 'third': [71], 'prevent': [71], 'case': [71, 159], 'return': [71, 105, 126, 169], 'expensive.This': [71], 'recent': [71], 'go.We': [71], 'quiet': [71], 'impromptu': [72], 'Limited': [72], 'least': [72, 157], 'kept': [73], 'MUST': [73], 'fantabulous': [73], 'alot': [73], 'Nano': [74], 'worry': [74, 139, 198], 'avoid': [74, 87, 126, 138], 'lol': [74, 124], 'except': [74], 'tried': [74], 'ranges': [74], 'Shame': [74], 'backward': [74], 'Terrace': [74], 'better': [74, 87, 114, 155], 'muslim': [74], 'Treehouse': [74], 'Phillarmagic': [74], 'Battle': [74], 'Tahitian': [74], 'drop': [74, 169], 'toilet': [75], 'cubicle': [75], 'cleaner': [75], 'dispenser': [75], 'regular': [75, 99], 'Maybe': [75], 'comfort': [75], 'pregnant': [75], 'liquid': [75], 'disneyland.Staff': [75], 'Tuesday': [76, 125, 157], 'longer': [76, 103], 'NZ': [76], 'mins': [76, 100, 124, 137, 144, 195], 'March': [76, 106, 127, 144, 157], 'Highly': [76, 125, 164], 'attention': [76, 86], 'ran': [77], 'cast': [77, 79, 81, 121, 166], 'time.Would': [77], 'lodge': [77], 'package': [77], 'several': [77, 92, 108], 'speak': [77, 93, 174, 179], 'wander': [78], 'souvenirs': [78, 108, 163], 'spend': [78, 115, 175, 196], 'B': [79], 'Qing': [79], 'info': [79], 'cap': [79, 124], 'festival': [79], 'Luckily': [79], 'F': [79], 'Carmen': [79], 'unable': [79], 'confirmation': [79, 105], 'HK150': [79], 'April': [79, 122], 'helium': [79], 'massive': [79, 143], 'guests': [79, 93, 170], 'balloon': [79], 'Ming': [79], 'waste': [79, 92, 105, 121, 169], 'enter': [79, 97, 121], 'end': [79, 92, 157, 167, 169], 'balloons': [79], 'layout': [80], 'moment': [80, 110, 139], 'suggestion': [80], 'upgrade': [80], 'partial': [80], 'Florida': [80, 99, 113, 119, 120, 143, 146, 159, 188, 189, 191], 'IMHO': [80], 'MANY': [80], 'excitement': [81, 180, 182], 'law': [82], 'played': [82], 'Car': [82], 'Many': [82, 131], 'daughers': [82], 'Avoid': [83], 'tricks': [83], 'Kids': [83, 144, 147, 187], 'round': [83, 143], 'member': [83], 'Definitely': [84], 'Honkers': [84], 'loads': [84, 122], 'Everyone': [85], 'engage': [85, 170], 'coaches': [85], 'dress': [85], 'convinient': [85], 'opportunity': [85, 107, 142], 'fight': [85], 'nights': [85, 154], 'Jedi': [85, 131, 181], 'opps': [85], 'enjoyed': [85], 'forces': [85], 'older': [85], 'Vegetarian': [85], 'quantity': [85], 'flagship': [86], 'charming.The': [86], 'proximity': [86], 'fair': [86, 166], 'incredible': [86, 122, 142, 198], 'smart': [86], 'detail': [86, 139], 'reality': [86], 'airport': [86], 'spare': [86, 120], 'jobs': [86], 'close': [86, 108, 181], 'costumes': [86], 'suspend': [86], 'needed.Would': [86], 'current': [86], 'ideal': [86], 'Make': [86], 'backwards': [86], 'anyone': [86], 'decor': [86], 'items.With': [86], 'marvel': [86], 'advance': [87], 'Price': [87], 'day.We': [87], 'refurbishment': [87], 'quieter': [87], 'Bucket': [88], 'unlock': [88], 'Enjoy': [88, 138], 'exclusive': [89, 172], 'pins': [89], 'size': [89, 118], 'exclusives': [89], 'standard': [89, 120, 133], 'merchandise': [89, 122], 'disappoint': [89], 'loses': [89], 'Bilingual': [89], 'Get': [90], 'Pret': [90], 'singing': [90, 99], 'goofy': [90], 'latest': [90], 'Buy': [90], 'mall': [90], 'start': [90], 'compartments': [90], 'Mouse': [90, 186], 'Manger': [90], 'ToyStory': [90], 'lights': [90], 'arrive': [90, 129], 'App': [90], 'Winnie': [90, 163], 'parachute': [90], 'musical': [90, 130], 'breaky': [90], 'Saw': [90], 'green': [90], 'download': [90, 172], 'tell': [90, 102], 'Recommend': [90], 'there.': [90], 'Pooh': [90, 119, 163], 'hide': [90], 'charme': [91], 'baby': [91, 121], 'Truly': [91], 'clear': [91, 116], 'company': [91, 105], 'transfer': [91], 'Priority': [92, 125, 142], 'glad': [92, 140, 169, 194], 'cried': [92], 'hubby': [92], 'hurt': [92], 'extra': [92, 154], 'feet': [92, 167, 169], 'everybody': [93], 'inform': [93], 'spirit': [94], 'lineup': [94], 'shake': [94], 'Easly': [95], 'Near': [95], 'save': [95, 142], 'Nice': [95, 131], 'traveloka': [95], 'accessible': [96, 129, 159], 'code': [97], 'Enjoyed': [97, 184, 197], 'Friendly': [97], 'Smallest': [98], 'February': [98, 156, 166], 'floats': [98, 183], 'shorter': [98], 'newer': [98], 'upcoming': [98], 'versions.I': [99], 'performances': [99], 'visitor': [99], 'staging': [99], 'serious': [99], 'real': [99, 180], 'impressive.The': [99], 'fill': [99, 180], 'waited': [100], 'travelling': [100], 'Please': [100], 'addition': [100], 'game': [100], 'stark': [100], 'signature': [100], 'peak': [100], 'sci': [100], 'eateries': [100, 131], 'fi': [100], 'expect': [100, 105], 'cum': [100], 'intimation': [101], 'kiosks': [101], 'fees': [101], 'shut': [101, 167], 'SEA': [102], 'fix': [102], 'properties': [102], 'low': [102], 'give': [102], 'min': [103, 159], 'Honk': [103], 'drivers': [103], 'web': [103], 'waits': [103], 'onsite': [103], 'MUCH': [103, 182], 'page': [103], 'foreign': [103], 'track': [103], 'travelers': [103], 'convenient': [103, 121, 171], 'manageable': [103], 'Dumbo': [103], 'quick': [103], 'Ask': [104], 'Longest': [104], 'paint': [104], 'princess': [104, 112], 'pockets': [104, 108], 'Hard': [104], 'whoopy': [105], 'air': [105, 108, 180], 'message': [105], 'information': [105], 'Guest': [105], 'careful': [105, 126], 'pleasant': [105, 166], 'credit': [105], 'apologetic': [105], 'thank': [105], 'Relations': [105], 'UK': [105], 'journey': [105, 111, 121, 158], 'later': [105], 'relations': [105], 'soft': [105], 'statements': [105], 'TST': [105, 124], 'cards': [105], 'drink': [105], 'pre': [105], 'them.Whilst': [105], 'occurred': [105], 'payments': [105], 'payment': [105], 'dah': [105], 'arrived': [105], 'negative': [105, 122], 'front': [105, 121], 'experiences': [105, 144], 'details': [105], 'card': [105, 108], 'satisfaction.Please': [105], 'showers': [106], 'shots': [106], 'Wife': [106], 'cold': [106], 'Spent': [107, 148], 'searched': [108], 'renovations': [108, 144], 'mug': [108], 'Seniors': [108], 'suppose': [108], 'basic': [108], 'Ali': [108], 'bags': [108], 'Express': [108], 'dilapidation': [108], 'watches': [108], 'reason': [108, 113], 'Baba': [108], 'bother': [108], 'limits': [108], 'sell': [108], 'senior': [108], 'Oyster': [108], 'twice': [108], 'picture': [108], 'souvenir': [108, 117, 194], 'ferry': [108], 'coach': [108], 'Haha': [109], 'Paint': [109], 'weather': [109, 151, 156, 157, 159, 198], 'Unlucky': [109], 'didnt': [109, 134, 179], '.My': [109], 'Xmas': [110], 'management': [110], 'cancellation': [110], 'voucher': [110], 'celebrations': [110], 'rains': [110], 'People': [110, 169, 181], 'notch': [110], 'Renovation': [110], 'undergoing': [110], 'renovation4': [112], 'Princess': [112], 'problems:1': [112], 'fireworks3': [112], 'frozen': [112], 'session': [112], 'manor': [113, 170], 'Disneysea': [113], 'Horror': [113], 'fyi': [113], 'Singapore': [113], 'Nothing': [113], 'tiny': [113, 139], 'Studios': [113, 147], 'Universal': [113, 147], 'mystic': [113, 170], 'yeah': [113], 'beats': [113], 'Nights': [113], 'cultural': [113, 179], 'thing': [113, 168, 169], 'weird': [113, 124], 'spectacular': [113], 'carry': [114], 'minimum': [114, 124], 'coupons': [114], 'jungle': [114], 'klook': [114], 'bottle': [114, 131], 'stand': [114, 124], 'barcode': [114], 'decision': [114], 'Royal': [114, 192], 'Banquet': [114, 192], 'hall': [114], 'combos': [114], 'ahve': [114], 'Unheard': [115], 'United': [115], 'Tale': [115], 'Wed.': [115], 'States': [115], 'Expect': [115], 'statues': [116], 'inspiring': [116], 'monastery': [116], 'Nong': [116], 'limit': [116], 'views': [116], 'commercial': [116, 138], 'visibility': [116], 'giant': [116], 'clouds': [116], 'awe': [116], 'Plenty': [117], 'rollercoaster': [117], 'affordable': [118], 'beverages': [118], 'Optimal': [118], 'Disneys': [119], 'simple': [119], 'bomb': [119], 'Tickets': [119], 'Mansion': [119, 124, 150, 166], 'cheaper': [119, 129, 170, 181], 'Pass': [119, 142], 'bear': [119, 143], 'Euro': [120], 'healthy': [121], 'tedious': [121], 'classics': [121], 'counter': [121], 'lack': [121], 'experience.The': [121], 'kids.The': [121], 'strollers.They': [121], 'feel.Make': [121], 'St.': [121], 'gate': [121, 143], 'MtR': [121], 'past': [122], 'tons': [122], 'seeker': [122, 172], 'ages.As': [122], 'Hk': [122], 'comments': [122], 'meal.If': [122], 'resident': [122], 'posts': [122], 'section': [122], 'mates': [122], 'Autopia': [122], 'Astroblasters': [122], 'Yes': [122], 'extract': [122], 'starve': [122], 'Whether': [122], 'revamps': [122], 'jackhammer': [123], 'ridiculous': [123], 'noise': [123], 'keep': [123, 183], 'maneges': [123], 'invest': [123], 'forest': [123], 'activity': [123], 'Tsim': [124], 'Adult': [124], 'tree': [124], 'traffic': [124], 'adventure': [124], 'liked': [124], 'DLand': [124], 'Vegie': [124], 'R8': [124], 'Tea': [124], 'form.it': [124], 'veg': [124], 'ice': [124], 'creams': [124], 'involved': [124], 'rides.My': [124], 'houses': [124], 'Lantau': [124], 'Sha': [124], 'Avenue.Costs': [124], 'price.I': [124], 'kinda': [124], 'toook': [124], 'buckle': [124], 'Veg': [124], 'good.Bus': [124], 'A21': [124], 'Burger': [124], 'ready': [124], 'mandatory': [124], 'folks': [124], 'ride.I': [124], 'digital': [124], 'attractions.Infants': [124], 'Cms': [124], 'toddlers': [124], 'qualified': [124], 'soooo': [124], 'way.Peak': [124], 'massive.It': [124], 'Tsui': [124], 'Prat': [124], 'HKD.Disney': [124], 'Eating': [124], 'Dinsey': [124], 'Monday': [125, 143, 163], 'Special': [125], 'lightworks': [126], 'deposit': [126], 'strollers.My': [126], 'hrs': [126], 'Came': [126, 137], 'slip': [126], 'googling': [126], 'rent': [126], 'cash': [126], 'strollers': [126], 'heart': [127], 'Amusement': [127], 'firework': [128], 'Shows': [128], 'runaway': [128], 'grizzly': [128], 'Cinderella': [128], 'gate.Easily': [129], 'weekend.Some': [129], 'smile': [129, 192], 'norm': [129], 'unavailable': [129], 'hate': [129], 'day.Buy': [129], 'exception': [129, 167], 'poses': [130], 'Mondays': [130], 'Coming': [130], 'cut': [130], 'final': [130], 'w': [130], 'ceratin': [130], 'coaster': [130, 150, 167], 'invitation': [130], 'presentation': [130], 'store': [130, 156, 195], 'scream': [130], 'buys': [130], 'wc': [130], 'usual': [130, 137, 157, 175], '@': [130], 'besides': [131], 'Attractions': [131], 'Bring': [131], 'extreme': [132], 'happy': [132, 136], 'universal': [132], 'atudio': [132], 'build': [132, 139], 'acrobatics': [133], 'assist': [133], 'grandson': [133], 'makeup': [133], 'match': [133, 156], 'Everything': [134], 'ur': [134], 'Amazing': [134, 171], 'Admission': [135, 181], 'lowest': [135], 'dollars': [135], 'Well': [135], 'bathroom': [136], 'floor': [136, 195], 'perfection': [136], 'sleep': [136], 'pathetic': [137], 'meat': [137], 'coupon': [137], 'Bought': [137], 'serves': [137], 'maximise': [137], 'tough': [138], 'artificial': [138], 'consumer': [138], 'possible': [138], 'Accessible': [138], 'words': [138], 'resist': [138], 'ares': [138], 'odd': [139], 'funny': [139], 'run': [139, 169, 175], 'surprises': [139], 'mean': [139], 'rubbish': [139], 'toy': [139], 'obsession': [140], 'occasions': [140], 'fare': [140], 'CA': [140, 142], 'Duffy': [140], 'FL': [140, 166], 'overwhelmed.A': [141], 'Ppl': [141], 'Fun': [142], 'meals': [142, 181], 'relationship': [142], 'currency': [143], 'announcement': [143], 'earlier': [143], 'Anyway': [143], 'passportsWe': [143], 'phone': [143], 'original': [143, 162, 166], 'mirror': [143, 166], 'bug': [143], 'push': [143, 169], 'shoved.This': [143], 'process': [143], 'selfies': [143], 'phones': [143], 'manners': [143], 'RUN': [143], 'patch': [143], 'please': [143], 'reduction': [144], 'outSmall': [144], 'stuff': [144, 165], 'Pretty': [144], 'terms': [144], 'Poor': [144], 'pics': [144], 'break': [144], 'today': [144], 'inherent': [146], 'hit': [146], 'Smile': [146], 'Worse': [146], 'expectations': [146], 'unfriendly': [146], 'exceptions': [146], 'counterpart': [147], 'stress': [149], 'rollar': [150], 'familar': [150], 'Thunder': [150], 'larger': [150, 166, 170], 'stayed': [150], 'bucket': [150], 'forecast': [151], 'one': [151], 'perfect': [153, 156], 'unwind': [153], 'explanation': [154], 'Magical': [154, 185], 'patient': [154], 'meant': [155], 'decorations': [155], 'head': [155], 'effect': [155], 'atmosphere': [155], 'there.We': [156], 'cool.If': [156], 'delicious': [156], 'fantastic.We': [156], 'month': [156, 165], 'beef': [156], 'ravioli': [156], 'sunny.We': [156], 'balls.We': [156], 'restaurant.The': [156], 'caps': [156], 'Kong.We': [156], 'hotel.We': [156], 'white': [156], 'dad': [156], '.we': [156], 'tea.While': [156], 'promised': [156], 'home.The': [156], 'recreational': [156], 'leave.I': [156], 'cool': [156], 'Roller': [156], 'good.Almost': [156], 'selling': [156], 'iPads': [156], 'again.After': [156], 'arrived.We': [156], 'Kong.It': [156], 'rugby': [156], 'well.I': [156], 'play.After': [156], 'tenth.The': [156], 'standards': [157], 'unsure.The': [157], 'lucky': [157], 'times.We': [157], 'occasion': [157], 'hindsight': [157], 'leaves': [157], 'great.It': [157], 'particular': [157], 'multiple': [157], 'mins.We': [157], 'sentence': [158], 'adequate': [158], 'finds': [158], 'countless': [158], 'attract': [158], 'news': [158], 'Hearing': [158], 'Frozen': [158], 'future': [158], 'mingle': [159], 'worthwhile': [159], 'skies': [159], 'Wes': [159], 'grateful': [159], 'overcast': [159], 'handle': [160], 'Oh': [160], 'windows': [160], 'posters': [160], 'offering': [161], 'likes': [161], 'permission': [161], 'Fair': [162], 'Smaller': [162, 180], 'Spin': [163], 'downsides': [163], 'Airport': [163], 'Parachute': [163], 'mention': [163], 'shop': [163], 'Philharmagic': [163], 'Drop': [163], 'Soldier': [163], '.Special': [163], 'IronMan': [163], 'MM': [163], 'Dog': [163], 'BUY': [163], 'hesitate': [163], 'Slinky': [163], 'grandchildren': [164, 184], 'decoration': [165], 'hongkong': [165], 'pic': [165], 'Inside': [165], 'character': [166], 'compare': [166], 'monkey': [166], 'Albert': [166], 'rode': [166], 'contact': [166], 'answer': [166], 'draws': [166], 'fourth': [166], 'Tours': [166], 'effects': [166, 169], 'images': [166], 'fewer': [166], 'surprised.We': [167], 'mascots': [167], 'welcoming': [167], 'OK': [167, 175], 'ruined': [167], 'one.I': [167], 'black': [167], 'cleared.Two': [167], 'shut.At': [167], 'welcome': [167], 'part.Costumes': [167], 'bin': [167], 'Japan': [167], 'Tables': [167], 'emptied': [167], 'Starwars': [167], 'peppy': [167], '10.Things': [167], 'delightful': [168], 'feast': [168, 186], 'legs': [169], 'form': [169], 'seat': [169], 'Favorite': [169], 'doors': [169], 'Rope': [169], 'starting': [169], 'Ratatouille': [169], 'significant': [169], 'flow': [169], 'fit': [169, 180], 'FOMO': [169], 'Marathon.That': [169], 'frequent': [169], 'gun': [169], 'France': [169], 'tall': [169], 'holidays.We': [169], 'out.As': [169], 'Phantom': [169], 'contemplates': [169], 'WDW': [169], 'finish': [169, 190], 'contort': [169], 'difference.The': [169], 'York': [169], 'late': [169], 'type': [169], 'extortionate': [170], 'help': [170], 'premises': [171], 'dream': [171], 'thro': [171], 'winnie': [171], 'witness': [171], 'mode': [171], 'tarzan': [171], 'court': [171], 'phoo': [171], 'Huge': [171], 'packed': [172], 'beforehand': [172], 'apps': [172], 'Celebration.In': [172], 'wrong': [172], 'schedule': [172], 'packed.My': [172], 'pass.You': [172], 'January': [172], 'Crews': [174], 'amuse': [174], 'Excellent': [174], 'english': [174], 'facility': [175], 'tastes': [175], 'Crowds': [175], 'explorers': [175], 'Cost': [175], 'curry': [175], 'winter': [175], 'ate': [175], 'HK619': [175], 'club': [175], 'Would': [176], 'Really': [176, 196], 'chinese': [177, 183], 'youre': [178], 'Week': [179], 'Golden': [179], 'watch': [179, 191], 'ties': [179], 'culture': [179], 'outside': [179], 'Minnie': [180], 'benchmark': [180], 'Join': [180], 'busiest': [181], 'replica': [181], 'toddler': [181], 'regions': [181], 'PROs:1': [181], 'wake': [181], 'moderate': [181], 'opens': [181], 'carriage': [182], 'waffles': [182], 'preferred': [182], 'carts': [183], 'ill': [183], 'charge': [183], 'restrooms': [183], 'corner': [183], 'cranky': [183], 'Feels': [184], 'Fairy': [185], 'Go': [185], 'otherwise': [185], 'tale': [185], 'crowded': [187], 'approach': [187], 'collect': [187], 'charm': [188], 'againn': [188], 'og': [188], 'Stayed': [189], 'Typhoon': [190], 'planning': [191], 'connected': [191], 'Hall': [192], 'Beautiful': [192], 'tables': [192], 'Long': [192], 'Wilson': [192], 'effort': [192], 'Keep': [192], 'professional': [192], 'aspect': [193], 'visiting': [193], 'afford': [193], 'expansion': [193], 'caramel': [194], 'mess': [195], 'mountian': [195], 'awful': [195], 'shelves': [195], 'savages': [195], 'suggest': [195], 'workers': [195], 'logical': [196], 'Fireworks': [196], 'displays': [196], 'Hongkong': [197], 'Thank': [197], 'DisneyLand': [197], 'captured': [198], 'moments': [198], 'Suggestion': [198], 'honest': [198], 'doubt': [198], 'pricey': [198]}\n"
     ]
    }
   ],
   "source": [
    "print(inverted_index)"
   ]
  },
  {
   "cell_type": "code",
   "execution_count": 13,
   "id": "e1cfc754-3595-40c2-a3f7-b8af9ff6fc17",
   "metadata": {},
   "outputs": [],
   "source": [
    "with open('inverted_index.csv', 'w') as f:\n",
    "    for key in inverted_index.keys():\n",
    "        f.write(\"%s, %s\\n\" % (key,inverted_index[key]))"
   ]
  },
  {
   "cell_type": "markdown",
   "metadata": {},
   "source": [
    "# Self Directed Section\n",
    "\n",
    "For the remainder of this lab I want you to download another dataset of unstructured data. It's up to you what dataset you use but I would recommend one where they are using a CSV file. Perhaps something like a review dataset on restaurants https://www.kaggle.com/search?q=restaurant+reviews\n",
    "\n",
    "Once downloaded, I would like you to do the following\n",
    "\n",
    "1. Parse the files and display their contents in a pandas dataframe\n",
    "2. Tokenize the words (go from a sentence to a list of words)\n",
    "3. Remove all the stopwords\n",
    "4. Filter the sentence down to just the nouns (so we can search for reviews that talk about particular things) and adjectives (so we can also search for how those things are decribed). \n",
    "5. Collect our indexed terms and create an inverted index and save it to some file. \n",
    "6. Create a loop that does this for all reviews in the restaurant review csv. \n"
   ]
  }
 ],
 "metadata": {
  "kernelspec": {
   "display_name": "Python 3 (ipykernel)",
   "language": "python",
   "name": "python3"
  },
  "language_info": {
   "codemirror_mode": {
    "name": "ipython",
    "version": 3
   },
   "file_extension": ".py",
   "mimetype": "text/x-python",
   "name": "python",
   "nbconvert_exporter": "python",
   "pygments_lexer": "ipython3",
   "version": "3.11.0"
  }
 },
 "nbformat": 4,
 "nbformat_minor": 5
}
