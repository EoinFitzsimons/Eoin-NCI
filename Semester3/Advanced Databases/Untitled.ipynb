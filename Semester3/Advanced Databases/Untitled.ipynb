{
 "cells": [
  {
   "cell_type": "code",
   "execution_count": 4,
   "id": "54c599cc-86a2-4d63-b749-d16c5c017a27",
   "metadata": {},
   "outputs": [
    {
     "name": "stderr",
     "output_type": "stream",
     "text": [
      "[nltk_data] Downloading package stopwords to\n",
      "[nltk_data]     C:\\Users\\eoin0\\AppData\\Roaming\\nltk_data...\n",
      "[nltk_data]   Package stopwords is already up-to-date!\n",
      "[nltk_data] Downloading package punkt to\n",
      "[nltk_data]     C:\\Users\\eoin0\\AppData\\Roaming\\nltk_data...\n",
      "[nltk_data]   Package punkt is already up-to-date!\n",
      "[nltk_data] Downloading package averaged_perceptron_tagger to\n",
      "[nltk_data]     C:\\Users\\eoin0\\AppData\\Roaming\\nltk_data...\n",
      "[nltk_data]   Package averaged_perceptron_tagger is already up-to-\n",
      "[nltk_data]       date!\n"
     ]
    },
    {
     "data": {
      "text/plain": [
       "True"
      ]
     },
     "execution_count": 4,
     "metadata": {},
     "output_type": "execute_result"
    }
   ],
   "source": [
    "# download nltk to do the language processing jobs for us\n",
    "import sys\n",
    "#!{sys.executable} -m pip install nltk\n",
    "#!{sys.executable} -m pip install pandas\n",
    "\n",
    "# import pandas to have our data in a table and read it from the csv\n",
    "import pandas as pd\n",
    "import nltk\n",
    "from nltk.corpus import stopwords\n",
    "from nltk.corpus import brown\n",
    "import csv\n",
    "nltk.download('stopwords')\n",
    "nltk.download('punkt') # this is a tokenizer tool we need\n",
    "nltk.download('averaged_perceptron_tagger')"
   ]
  },
  {
   "cell_type": "code",
   "execution_count": 5,
   "id": "6ec48668-e41a-4ee4-b1b8-7edac5c12fa5",
   "metadata": {},
   "outputs": [],
   "source": [
    "disney_data = pd.read_csv(\"disneylandReviews.csv\")"
   ]
  },
  {
   "cell_type": "code",
   "execution_count": 6,
   "id": "5de35b53-e11c-4089-b143-657879a2e0e9",
   "metadata": {},
   "outputs": [
    {
     "data": {
      "text/html": [
       "<div>\n",
       "<style scoped>\n",
       "    .dataframe tbody tr th:only-of-type {\n",
       "        vertical-align: middle;\n",
       "    }\n",
       "\n",
       "    .dataframe tbody tr th {\n",
       "        vertical-align: top;\n",
       "    }\n",
       "\n",
       "    .dataframe thead th {\n",
       "        text-align: right;\n",
       "    }\n",
       "</style>\n",
       "<table border=\"1\" class=\"dataframe\">\n",
       "  <thead>\n",
       "    <tr style=\"text-align: right;\">\n",
       "      <th></th>\n",
       "      <th>Review_Text</th>\n",
       "    </tr>\n",
       "  </thead>\n",
       "  <tbody>\n",
       "    <tr>\n",
       "      <th>0</th>\n",
       "      <td>If you've ever been to Disneyland anywhere you...</td>\n",
       "    </tr>\n",
       "    <tr>\n",
       "      <th>1</th>\n",
       "      <td>Its been a while since d last time we visit HK...</td>\n",
       "    </tr>\n",
       "    <tr>\n",
       "      <th>2</th>\n",
       "      <td>Thanks God it wasn   t too hot or too humid wh...</td>\n",
       "    </tr>\n",
       "    <tr>\n",
       "      <th>3</th>\n",
       "      <td>HK Disneyland is a great compact park. Unfortu...</td>\n",
       "    </tr>\n",
       "    <tr>\n",
       "      <th>4</th>\n",
       "      <td>the location is not in the city, took around 1...</td>\n",
       "    </tr>\n",
       "  </tbody>\n",
       "</table>\n",
       "</div>"
      ],
      "text/plain": [
       "                                         Review_Text\n",
       "0  If you've ever been to Disneyland anywhere you...\n",
       "1  Its been a while since d last time we visit HK...\n",
       "2  Thanks God it wasn   t too hot or too humid wh...\n",
       "3  HK Disneyland is a great compact park. Unfortu...\n",
       "4  the location is not in the city, took around 1..."
      ]
     },
     "execution_count": 6,
     "metadata": {},
     "output_type": "execute_result"
    }
   ],
   "source": [
    "disney_data.head()"
   ]
  },
  {
   "cell_type": "code",
   "execution_count": 7,
   "id": "e2c807d7-cc29-42ba-8e81-06767dacad54",
   "metadata": {},
   "outputs": [
    {
     "name": "stdout",
     "output_type": "stream",
     "text": [
      "Review Raw Text: If you've ever been to Disneyland anywhere you'll find Disneyland Hong Kong very similar in the layout when you walk into main street! It has a very familiar feel. One of the rides  its a Small World  is absolutely fabulous and worth doing. The day we visited was fairly hot and relatively busy but the queues moved fairly well.  \n",
      "\n",
      "Tokenized review text: ['If', 'you', \"'ve\", 'ever', 'been', 'to', 'Disneyland', 'anywhere', 'you', \"'ll\", 'find', 'Disneyland', 'Hong', 'Kong', 'very', 'similar', 'in', 'the', 'layout', 'when', 'you', 'walk', 'into', 'main', 'street', '!', 'It', 'has', 'a', 'very', 'familiar', 'feel', '.', 'One', 'of', 'the', 'rides', 'its', 'a', 'Small', 'World', 'is', 'absolutely', 'fabulous', 'and', 'worth', 'doing', '.', 'The', 'day', 'we', 'visited', 'was', 'fairly', 'hot', 'and', 'relatively', 'busy', 'but', 'the', 'queues', 'moved', 'fairly', 'well', '.']\n"
     ]
    }
   ],
   "source": [
    "#selecting the first review\n",
    "example_review = disney_data[\"Review_Text\"][0]\n",
    "print(\"Review Raw Text: %s \\n\" % example_review)\n",
    "\n",
    "#tokenize the text\n",
    "tokens = nltk.word_tokenize(example_review)\n",
    "print(\"Tokenized review text: %s\" % tokens)"
   ]
  },
  {
   "cell_type": "code",
   "execution_count": 8,
   "id": "98e4f317-fa31-4d5c-af23-44aae65a368c",
   "metadata": {},
   "outputs": [
    {
     "name": "stdout",
     "output_type": "stream",
     "text": [
      "['i', 'me', 'my', 'myself', 'we', 'our', 'ours', 'ourselves', 'you', \"you're\", \"you've\", \"you'll\", \"you'd\", 'your', 'yours', 'yourself', 'yourselves', 'he', 'him', 'his', 'himself', 'she', \"she's\", 'her', 'hers', 'herself', 'it', \"it's\", 'its', 'itself', 'they', 'them', 'their', 'theirs', 'themselves', 'what', 'which', 'who', 'whom', 'this', 'that', \"that'll\", 'these', 'those', 'am', 'is', 'are', 'was', 'were', 'be', 'been', 'being', 'have', 'has', 'had', 'having', 'do', 'does', 'did', 'doing', 'a', 'an', 'the', 'and', 'but', 'if', 'or', 'because', 'as', 'until', 'while', 'of', 'at', 'by', 'for', 'with', 'about', 'against', 'between', 'into', 'through', 'during', 'before', 'after', 'above', 'below', 'to', 'from', 'up', 'down', 'in', 'out', 'on', 'off', 'over', 'under', 'again', 'further', 'then', 'once', 'here', 'there', 'when', 'where', 'why', 'how', 'all', 'any', 'both', 'each', 'few', 'more', 'most', 'other', 'some', 'such', 'no', 'nor', 'not', 'only', 'own', 'same', 'so', 'than', 'too', 'very', 's', 't', 'can', 'will', 'just', 'don', \"don't\", 'should', \"should've\", 'now', 'd', 'll', 'm', 'o', 're', 've', 'y', 'ain', 'aren', \"aren't\", 'couldn', \"couldn't\", 'didn', \"didn't\", 'doesn', \"doesn't\", 'hadn', \"hadn't\", 'hasn', \"hasn't\", 'haven', \"haven't\", 'isn', \"isn't\", 'ma', 'mightn', \"mightn't\", 'mustn', \"mustn't\", 'needn', \"needn't\", 'shan', \"shan't\", 'shouldn', \"shouldn't\", 'wasn', \"wasn't\", 'weren', \"weren't\", 'won', \"won't\", 'wouldn', \"wouldn't\"]\n"
     ]
    }
   ],
   "source": [
    "stop_words = stopwords.words('english')\n",
    "print(stop_words)"
   ]
  },
  {
   "cell_type": "code",
   "execution_count": 9,
   "id": "9f4b6258-49a3-400a-8b7c-6164c2b4ffba",
   "metadata": {},
   "outputs": [
    {
     "name": "stdout",
     "output_type": "stream",
     "text": [
      "{'walk', '!', 'Kong', 'Hong', 'layout', 'street', 'anywhere', 'hot', 'queues', 'ever', 'fabulous', 'rides', 'feel', 'relatively', 'well', 'Disneyland', 'main', 'similar', 'find', 'World', 'Small', 'day', '.', \"'ve\", \"'ll\", 'fairly', 'busy', 'moved', 'visited', 'absolutely', 'familiar', 'One', 'worth'}\n"
     ]
    }
   ],
   "source": [
    "filtered_sentence = [w for w in tokens if not w.lower() in stop_words]\n",
    "\n",
    "# also lets remove duplicates\n",
    "filtered_sentence = set(filtered_sentence)\n",
    "print(filtered_sentence)"
   ]
  },
  {
   "cell_type": "code",
   "execution_count": 10,
   "id": "62a9a722-5c7b-4c8e-b444-b462ce9b43b9",
   "metadata": {},
   "outputs": [
    {
     "name": "stdout",
     "output_type": "stream",
     "text": [
      "['walk', 'Kong', 'Hong', 'layout', 'street', 'hot', 'queues', 'fabulous', 'rides', 'Disneyland', 'main', 'similar', 'find', 'World', 'Small', 'day', 'busy', 'visited', 'familiar', 'worth']\n"
     ]
    }
   ],
   "source": [
    "# function to test if something is a noun\n",
    "is_noun = lambda pos: pos[:2] == 'NN' or pos[:2] == 'JJ'\n",
    "\n",
    "nouns_and_adjectives = [word for (word, pos) in nltk.pos_tag(filtered_sentence) if is_noun(pos)] \n",
    "print(nouns_and_adjectives)"
   ]
  },
  {
   "cell_type": "code",
   "execution_count": 11,
   "id": "4c6e0daa-dfc1-4907-a1cc-3c2c199f32a1",
   "metadata": {},
   "outputs": [
    {
     "name": "stdout",
     "output_type": "stream",
     "text": [
      "{'walk': [1], 'Kong': [1], 'Hong': [1], 'layout': [1], 'street': [1], 'hot': [1], 'queues': [1], 'fabulous': [1], 'rides': [1], 'Disneyland': [1], 'main': [1], 'similar': [1], 'find': [1], 'World': [1], 'Small': [1], 'day': [1], 'busy': [1], 'visited': [1], 'familiar': [1], 'worth': [1]}\n"
     ]
    }
   ],
   "source": [
    "# this will create a dictionary of each term and the corresponding list of documents\n",
    "inverted_index = {index: [1] for index in nouns_and_adjectives}\n",
    "print(inverted_index)"
   ]
  },
  {
   "cell_type": "code",
   "execution_count": 12,
   "id": "5c817441-c26d-4af3-ad35-7b4c6e56b425",
   "metadata": {},
   "outputs": [],
   "source": [
    "# get the list of stop words\n",
    "stop_words = stopwords.words('english')\n",
    "# function to test if something is a noun\n",
    "is_noun = lambda pos: pos[:2] == 'NN' or pos[:2] == 'JJ'\n",
    "counter=0\n",
    "inverted_index={}\n",
    "for review in disney_data[\"Review_Text\"] : \n",
    "    # tokenize the individual review\n",
    "    tokens = nltk.word_tokenize(review)\n",
    "    \n",
    "    # remove the stop words\n",
    "    filtered_sentence = [w for w in tokens if not w.lower() in stop_words]\n",
    "    \n",
    "    # also lets remove duplicates\n",
    "    filtered_sentence = set(filtered_sentence)\n",
    "    \n",
    "   \n",
    "    nouns_and_adjectives = [word for (word, pos) in nltk.pos_tag(filtered_sentence) if is_noun(pos)] \n",
    "    \n",
    "    # this will create a dictionary of each term and the corresponding list of documents\n",
    "    for index in nouns_and_adjectives:\n",
    "        try:\n",
    "            inverted_index[index].append(counter)\n",
    "        except: \n",
    "            inverted_index[index] = [counter]\n",
    "    \n",
    "    counter+=1"
   ]
  },
  {
   "cell_type": "code",
   "execution_count": 13,
   "id": "dc25b9ea-9c82-4852-a5c1-fffdc0c9160e",
   "metadata": {},
   "outputs": [
    {
     "name": "stdout",
     "output_type": "stream",
     "text": [
      "{'walk': [0, 15, 34, 106, 160], 'Kong': [0, 4, 5, 21, 22, 23, 26, 27, 32, 33, 34, 35, 37, 44, 49, 51, 57, 58, 68, 71, 74, 77, 82, 89, 90, 93, 96, 98, 103, 120, 128, 139, 142, 143, 144, 148, 151, 156, 163, 164, 166, 172, 175, 177, 181, 189, 191, 199], 'Hong': [0, 4, 5, 21, 22, 23, 26, 27, 32, 33, 34, 35, 36, 37, 44, 49, 51, 57, 58, 68, 71, 74, 77, 78, 82, 89, 90, 93, 96, 98, 120, 128, 139, 142, 143, 144, 148, 151, 156, 163, 164, 166, 172, 175, 177, 181, 189, 191, 199], 'layout': [0], 'street': [0, 16, 37, 46, 90, 96, 126, 148, 171], 'hot': [0, 2, 4, 12, 29, 138, 198], 'queues': [0, 42, 83, 87, 90, 93, 98, 105, 114, 129, 144, 148, 157], 'fabulous': [0, 83, 148], 'rides': [0, 2, 5, 8, 14, 15, 21, 26, 27, 28, 29, 32, 34, 35, 37, 40, 45, 46, 48, 51, 54, 62, 70, 71, 72, 73, 74, 76, 77, 80, 81, 83, 85, 86, 87, 88, 92, 98, 104, 105, 106, 110, 114, 118, 122, 124, 125, 131, 132, 137, 143, 144, 149, 150, 155, 157, 158, 160, 161, 163, 166, 167, 180, 181, 182, 183, 187, 193, 196], 'Disneyland': [0, 1, 3, 5, 8, 9, 10, 12, 18, 19, 21, 23, 26, 27, 29, 32, 33, 34, 35, 36, 37, 42, 44, 45, 47, 48, 49, 51, 57, 58, 64, 70, 72, 74, 75, 76, 77, 79, 85, 88, 89, 90, 93, 96, 98, 99, 106, 107, 108, 109, 111, 113, 114, 117, 122, 124, 125, 126, 127, 128, 129, 130, 132, 133, 140, 141, 142, 143, 144, 145, 147, 148, 150, 151, 153, 154, 156, 157, 158, 159, 163, 164, 166, 167, 170, 171, 172, 173, 174, 177, 178, 179, 180, 181, 182, 183, 190, 191, 199], 'main': [0, 2, 23, 29, 37, 53, 101, 110, 144, 148, 171], 'similar': [0, 98, 169, 179], 'find': [0, 8, 91, 104], 'World': [0, 5, 44, 51, 113, 121, 135, 140], 'Small': [0, 52, 90, 121, 190], 'day': [0, 2, 6, 9, 11, 12, 14, 15, 16, 17, 20, 22, 29, 31, 32, 33, 35, 36, 37, 40, 43, 44, 46, 49, 52, 53, 58, 60, 64, 66, 71, 76, 77, 78, 79, 80, 81, 85, 86, 90, 91, 92, 96, 98, 103, 105, 106, 108, 115, 116, 117, 118, 119, 120, 121, 122, 126, 129, 130, 138, 140, 141, 143, 144, 145, 148, 149, 151, 156, 158, 164, 165, 167, 169, 170, 171, 172, 173, 175, 179, 180, 188, 190, 191, 194, 195, 196], 'busy': [0, 2, 47, 58, 60, 77, 83, 92, 117, 133, 137, 157, 192], 'visited': [0, 61], 'familiar': [0], 'worth': [0, 15, 19, 24, 25, 26, 35, 45, 61, 80, 91, 92, 96, 120, 131, 143, 144, 166, 167, 169, 184, 189], 'Great': [1, 6, 18, 47, 50, 55, 104, 116, 151, 155, 173, 196], 'Park': [1, 7, 35, 75, 122, 127, 155, 182, 189], 'scenery': [1], 'Disney': [1, 5, 7, 8, 11, 15, 17, 21, 22, 28, 29, 31, 32, 34, 35, 36, 40, 44, 45, 51, 53, 55, 59, 62, 67, 68, 69, 71, 76, 77, 80, 82, 85, 87, 89, 90, 92, 94, 99, 100, 102, 103, 105, 113, 115, 120, 121, 122, 126, 128, 130, 131, 134, 135, 136, 139, 140, 141, 143, 144, 146, 148, 150, 155, 166, 169, 170, 172, 175, 179, 180, 181, 183, 188, 189, 191, 196, 198], 'Changed': [1], 'Man': [1, 22, 23, 24, 34, 37, 51, 52, 74, 98, 105, 119, 122, 130, 166, 179, 185], 'Wasp': [1, 23, 51, 74, 166], 'local': [1, 60, 83], 'time': [1, 2, 9, 11, 17, 20, 26, 32, 34, 47, 48, 49, 51, 56, 60, 61, 62, 64, 66, 68, 69, 72, 75, 77, 79, 82, 91, 92, 93, 95, 97, 99, 100, 103, 105, 107, 109, 112, 120, 121, 122, 126, 127, 128, 129, 132, 133, 140, 145, 147, 148, 151, 154, 155, 156, 157, 158, 160, 164, 165, 172, 177, 180, 186, 187, 189, 190, 192, 198], 'bit': [1, 2, 3, 31, 139, 175, 183, 185, 190], 'feature': [1], 'Ironman': [1, 35, 37, 119, 167], 'Marvel': [1, 35, 89, 158], 'last': [1, 2, 34, 64, 82, 86, 110, 126, 129, 156, 168, 191], 'attractive': [1], 'cast': [1, 77, 81, 121], 'face': [1], 'dun': [1], 'u': [1, 29, 134], 'brand': [1, 122], 'SMILING': [1], 'Happiest': [1], 'enter': [1, 64, 79, 97, 114, 121], 'Kowloon': [1, 37, 64], 'Tomorrowland': [1, 114, 122], 'theme': [1, 15, 39, 52, 75, 98, 100, 112, 113, 126, 170, 172, 197], 'AKA': [1], 'whole': [1, 138, 158, 165, 168, 196], 'Points': [1], 'sweets': [1], 'delicacies': [1], 'Main': [1, 7, 113, 121, 139, 159], 'wan': [1], 'Iron': [1, 21, 22, 24, 33, 34, 98, 105, 114, 122, 130, 166, 179, 185], 'Star': [1, 34, 90, 130, 150, 166], 'attraction': [1, 22, 54, 96, 138, 142, 166, 168, 172, 174, 177, 179], 'point': [1, 17, 47, 105, 179], 'something': [1, 2, 8, 53, 86, 113, 122, 145, 163, 167, 169, 179, 193], 'lightyear': [1], 'Ant': [1, 22, 23, 37, 51, 52, 74, 98, 122, 166], 'Dont': [1, 8], 'Turns': [1], 'Last': [1, 156], 'Yet': [1], '..': [1, 17, 60, 61, 63, 78, 112, 124, 170, 177], 'Hello': [1], 'central': [1, 53, 96, 169], 'Place': [1, 18], 'Felt': [1], 'Ocean': [1, 75, 122, 155, 182, 186, 190], 'worst': [1, 5], 'Space': [1, 34, 51, 99, 119, 122], 'visit': [1, 3, 7, 22, 24, 26, 35, 38, 45, 64, 71, 82, 84, 85, 86, 96, 99, 102, 107, 120, 123, 124, 127, 129, 134, 137, 142, 143, 145, 150, 151, 153, 159, 166, 170, 172, 176, 189, 191, 198], 'Bakery': [1, 7], 'Antman': [1, 35], 'stay': [1, 21, 28, 30, 38, 52, 90, 130, 197, 199], 'HK': [1, 3, 19, 29, 34, 64, 68, 75, 79, 90, 106, 108, 109, 110, 113, 122, 124, 129, 136, 139, 141, 145, 157, 158, 159, 162, 166, 167, 169, 170, 171, 172, 178, 179, 188, 193], 'previous': [1, 71], 'Good': [1, 50, 63], 'Street': [1, 7, 106, 139], 'Seems': [1, 8], 'Earth': [1], 'Experience': [1, 34, 163, 166], 'Exciting': [1], 'open': [1, 20, 29, 36, 37, 47, 90, 92, 115, 143, 144, 148, 157, 166, 169], 'park': [1, 2, 8, 12, 15, 21, 22, 26, 29, 32, 34, 35, 36, 40, 44, 47, 52, 53, 55, 64, 69, 71, 72, 75, 77, 78, 79, 81, 83, 85, 86, 90, 92, 96, 98, 99, 100, 102, 105, 107, 113, 119, 121, 122, 123, 124, 126, 133, 139, 142, 143, 144, 146, 150, 157, 158, 159, 160, 165, 166, 169, 170, 171, 172, 174, 179, 181, 193, 195, 197], 'MINUS': [1], 'members': [1, 77, 79, 81, 104, 121, 166, 170, 183], 'area': [1, 15, 90, 95, 98, 100, 105, 165], 'Starbucks': [1, 2], 'Buzz': [1, 122], 'Mountain': [1, 27, 29, 34, 35, 37, 74, 119, 122, 130, 150, 163, 172], 'staffs': [1, 73, 86, 187], 'issue': [2, 79], 'grand': [2], '.The': [2, 143], '.Although': [2], '.I': [2], 'food': [2, 3, 5, 7, 15, 22, 23, 29, 34, 42, 44, 46, 48, 52, 53, 54, 58, 60, 65, 66, 68, 78, 80, 85, 90, 92, 95, 99, 104, 108, 114, 118, 121, 122, 124, 131, 137, 139, 140, 156, 171, 183, 192, 194, 196], 'certain': [2, 34, 108, 126], 'God': [2], 'attractions': [2, 5, 7, 9, 14, 23, 26, 35, 54, 82, 87, 93, 101, 102, 111, 123, 145, 158, 159, 166, 172, 183, 186, 190, 198], 'big': [2, 21, 37, 41, 61, 74, 90, 92, 99, 123, 126, 128, 151, 163, 165, 166, 170, 180, 181, 183, 186], 'humid': [2], 'underwhelmed': [2], 'good': [2, 5, 20, 22, 31, 33, 37, 44, 58, 66, 67, 70, 78, 85, 90, 92, 99, 104, 106, 117, 119, 127, 128, 129, 138, 139, 148, 149, 155, 160, 161, 164, 186, 191, 193, 194, 196], 'great': [2, 3, 11, 14, 22, 24, 26, 31, 32, 34, 35, 37, 40, 47, 60, 61, 65, 66, 68, 69, 70, 78, 79, 81, 85, 86, 90, 99, 102, 103, 104, 105, 110, 114, 121, 122, 124, 133, 139, 140, 141, 146, 151, 155, 156, 166, 167, 172, 174, 175, 176, 185, 188, 190, 194, 196], 'felt': [2, 77, 192], 'enjoy.It': [2], 'amazing': [2, 30, 62, 90, 134, 139, 160, 194], 'gift': [2, 5, 58, 122], 'minutes': [2, 21, 32, 34, 43, 46, 71, 77, 104, 106, 115, 117, 118, 125, 169, 179, 198], 'choice': [2, 21, 39, 130, 187], 'bad': [2, 6, 8, 72, 122, 167, 194, 195], 'much': [2, 5, 10, 30, 32, 34, 43, 63, 68, 75, 82, 86, 124, 143, 149, 150, 162, 170, 181, 190], 'castle': [2, 3, 12, 21, 28, 53, 72, 109, 110, 128, 139, 141, 144, 146, 148, 167, 172, 173, 186], 'lot': [2, 17, 21, 31, 33, 35, 67, 87, 100, 108, 123, 176], 'hours': [2, 31, 51, 64, 94, 100, 120, 123, 126, 137, 148, 157, 172, 179, 181], 'toilets': [2], 'longest': [2, 26, 71, 77, 142], 'small': [2, 5, 15, 17, 21, 29, 33, 40, 44, 50, 57, 62, 76, 81, 87, 99, 114, 122, 123, 131, 135, 137, 146, 156, 157, 166, 170, 193, 196], 'options': [2, 14, 31, 85, 99, 121, 124, 140, 196], 'everyone': [2, 15, 17, 38, 86, 143, 174], 'way': [2, 5, 29, 36, 78, 83, 108, 119, 122, 147, 151, 153, 162, 166, 175], 'plenty': [2, 35, 42, 157], 'parade': [2, 5, 6, 46, 73, 85, 96, 104, 122, 128, 148, 171, 172, 183, 198], 'coffee': [2], 'queue': [2, 28, 74, 90, 114, 118, 124, 137, 185, 187, 192, 196], 'shops': [2, 3, 5, 11, 29, 36, 92, 104, 117, 118, 122, 165, 194], 'everywhere.All': [2], 'present': [3], 'closed': [3, 59, 87], 'roof': [3], 'midweek': [3], 'areas': [3, 25, 59, 98, 108, 129], 'number': [3, 9, 34, 46, 79, 99, 120, 167], 'souvenir': [3, 117, 194], 'work': [3, 9, 25], 'compact': [3], 'maintenance': [3, 29, 141, 163, 173], 'pay': [3, 195], 'kids': [3, 4, 11, 22, 26, 31, 35, 45, 52, 63, 65, 70, 81, 85, 90, 91, 92, 95, 97, 112, 113, 114, 122, 126, 130, 131, 147, 151, 160, 190, 198], 'bus': [3, 77, 95, 108], 'top': [3, 22, 110], 'avoid': [3, 74, 87], 'dollar': [3], 'famous': [3], 'drinks': [3], 'snacks': [3, 38, 90], 'prepared': [3, 7], 'Regardless': [3], 'notice': [3, 34], 'prices': [3, 22, 29, 108, 123, 194], 'LA': [3, 34, 61, 80, 92], 'hour': [4, 17, 24, 36, 57, 137, 199], 'Kowlon': [4], 'disneyland': [4, 52, 61, 110, 132], 'fine': [4, 151], 'everything': [4, 9, 34, 66, 76, 87, 123, 148, 156, 179], 'location': [4, 141, 166], 'city': [4, 53, 198], 'lines': [5, 41, 68, 80, 86, 108, 113, 130, 140, 157, 159, 181, 182, 183], 'Basically': [5], 'people': [5, 8, 32, 34, 36, 57, 60, 86, 87, 124, 143, 155, 156, 158, 159, 165, 169, 183, 195, 198], 'tickets': [5, 15, 21, 23, 34, 36, 46, 47, 53, 79, 80, 87, 90, 92, 97, 103, 105, 114, 121, 139, 142, 181], 'expensive': [5, 15, 17, 23, 26, 29, 38, 42, 58, 78, 90, 105, 114, 122, 159, 185], 'Tokyo': [5, 34, 98, 99, 113, 141, 157, 166, 169, 181, 199], 'property': [5], 'cutting': [5], 'problem': [5], 'Souvenirs': [5, 23], 'entrance': [5, 23, 61, 101, 105], 'free': [5, 17, 21, 24, 61, 68, 86, 90, 122, 143, 187], 'fountains': [5, 160], 'seats': [5, 29, 63, 79, 169], 'happen': [5], 'stands': [5], 'see': [5, 50, 66, 87, 89, 92, 128, 157], 'children': [5, 12, 14, 22, 25, 37, 50, 59, 67, 68, 93, 107, 112, 127, 129, 152, 155, 161, 164, 180, 181], 'water': [5, 42, 90, 114, 131], 'acceptable': [5], 'Anaheim': [5, 29, 41, 45, 113, 120, 136, 142, 157, 166, 181], 'loved': [6, 32], 'go': [6], 'place': [6, 8, 13, 14, 17, 21, 38, 46, 56, 73, 84, 86, 94, 95, 116, 124, 145, 149, 152, 153, 156, 157, 158, 172, 176, 179, 187, 196, 198], 'week': [7, 17, 47, 53, 87, 98, 138, 140, 175], 'service': [7, 40, 44, 61, 156], 'example': [7], 'magic': [7, 160, 171], 'week.The': [7], 'typical': [7, 140, 172, 179], 'Maxim': [7], 'private': [7], 'Restaurant': [7, 34], 'Corner': [7], 'staff': [7, 8, 48, 62, 63, 86, 93, 97, 104, 122, 133, 146, 154, 160, 167, 170, 183, 191, 192], 'mid': [7, 37, 175], 'Tue': [7], 'plan': [7, 195], 'HongKong': [7, 48], 'events': [7, 130], 'abrupt': [7, 133], 'style': [7, 29, 34, 120], 'Thur': [7], 'ones': [7, 11, 20, 50, 100, 104, 115, 131, 146], 'Thu': [7], 'Almost': [7], 'Think': [7], 'Cafe': [7], 'biggest': [7, 129, 158, 159, 168], 'Wed': [7], 'intro': [7], 'drawback': [7, 156], 'disappointment': [7, 71, 87, 110, 159], 'little': [7, 21, 31, 32, 34, 78, 92, 100, 109, 115, 129, 139, 149], 'Theatre': [7, 90, 133], 'Storybook': [7], 'decent': [7, 103, 124], 'amount': [8, 79, 163], 'rooms': [8, 75, 156], 'waste': [8, 157, 169], 'Walt': [8, 44], 'fantastic': [8, 14, 45, 73, 108, 175, 195], 'want': [8, 24, 92, 105, 108, 159], 'rain': [8, 32, 37, 49, 106, 109], 'characters': [8, 34, 51, 81, 85, 94, 111, 121, 126, 128, 140, 141, 144, 159, 165, 189, 198], 'money': [8, 11, 79, 92, 123, 139, 142, 144, 157, 163, 164, 167, 169], 'fantasy': [8, 178], 'enough': [8, 16, 64, 65, 85, 87, 91, 100, 143, 149, 156, 159, 169, 180], 'building': [8, 25], 'train': [8, 20, 21, 34, 36, 61, 90, 96, 103, 111, 139, 140, 143, 156, 169, 171, 180, 182], 'fun': [8, 10, 13, 34, 35, 42, 44, 49, 55, 58, 65, 78, 80, 82, 84, 102, 113, 117, 124, 130, 141, 149, 152, 160, 161, 162, 163, 167, 170, 172, 178, 180], 'Feel': [8], 'signage': [8, 37], 'map': [8, 61, 103, 172], 'cabana': [8], 'visitors': [8, 46, 122, 126, 159], 'station': [8, 9, 36, 64, 90, 95, 108, 143, 171], 'rainning': [8], 'environment': [9, 67], 'Trains': [9, 125, 159], 'true': [9, 86, 120, 121, 171], 'online': [9, 79, 95, 101, 103, 105], 'Lion': [9, 20, 29, 34, 42, 90, 98, 99, 112, 128, 130, 147, 169, 182], 'Micky': [9, 67, 186], 'Starting': [9], 'maximise': [9, 137], 'Ticket': [9, 137], 'comparison': [9, 180], 'MTR': [9, 34, 35, 37, 81, 90, 95, 103, 106, 108, 111, 115, 126, 148, 159, 160, 171, 175, 193, 198], 'Jungle': [9, 34, 163], 'Show': [9, 42, 115, 182], 'spot': [9, 61, 79, 198], 'home': [9, 21, 29, 89, 143, 192], 'opinion': [9, 34], 'Entrance': [9], 'ticket': [9, 20, 36, 64, 86, 90, 95, 101, 105, 121, 129, 143, 159, 185, 198], 'less': [9, 32], 'holidays': [9, 15, 83], 'public': [9, 138], 'King': [9, 20, 29, 34, 42, 90, 98, 99, 128, 130, 147, 169, 182], 'popcorn': [9, 34, 105, 128], 'Day': [9], 'ShowIt': [9], 'Cruise': [9, 34, 163], 'Whatever': [9], 'incomplete': [9], 'HKD': [9, 74, 92, 124], 'River': [9, 163], 'Magic': [9, 24, 51], 'Must': [9, 16, 64], 'Phillhar': [9], 'Else': [9], 'cover': [9], 'Timings': [9], 'Miss': [9], 'regarding': [9], 'nope': [10], 'kid': [10, 69, 79, 122, 124, 150, 168, 181], 'cease': [10], 'hong': [10], 'kong': [10], 'DL': [10, 166], 'florida': [10], 'many': [11, 12, 26, 28, 32, 33, 56, 57, 63, 74, 83, 87, 89, 90, 92, 98, 113, 121, 122, 129, 131, 138, 140, 141, 152, 156, 158, 163, 188, 192, 198], 'mountain': [11, 33, 114, 128], 'spent': [11, 79, 80, 98, 163], 'king': [11, 90, 133], 'course': [11, 148, 172], 'lion': [11, 83, 90, 133], 'man': [11, 21, 22, 33, 114], 'experience': [11, 14, 18, 21, 29, 32, 33, 34, 38, 62, 70, 71, 79, 81, 85, 87, 103, 105, 110, 114, 122, 130, 141, 144, 167, 176, 179, 182, 184, 197], 'house': [11, 24, 113, 171], 'spend': [11, 112, 158, 165, 175, 196], 'parks': [11, 15, 26, 32, 43, 64, 77, 78, 91, 99, 105, 166, 191], 'lots': [11, 16, 42, 78, 90, 99, 122, 129, 144, 165, 168], 'list': [11, 88, 150], 'catch': [11, 36, 143], 'space': [11, 166, 195], 'iron': [11], 'tire': [11], 'disappointing': [12, 29, 37, 123, 193], 'suitable': [12], 'Would': [12, 176], 'days': [12, 15, 16, 34, 91, 99, 104, 106, 107, 124, 136, 138, 154, 157, 189], 'early': [12, 24, 28, 31, 106, 138, 181, 195], 'fireworks': [12, 22, 28, 38, 108, 109, 146, 154, 198], 'straight': [12, 86], 'season': [12, 172], 'lineups': [12], 'young': [12, 25, 35, 73, 79, 85, 107, 127, 155, 161, 184], 'second': [12, 20, 26, 29, 75, 86, 109], 'daughter': [13, 75, 112, 150, 184, 189], 'birthday': [13], 'family': [13, 14, 32, 34, 35, 41, 55, 58, 69, 83, 85, 92, 109, 130, 131, 152, 155, 164, 168, 172, 176, 188, 198], 'memorable': [13, 38, 41, 130], 'happiest': [13, 157, 198], 'earth': [13, 157], 'helpful': [14, 61, 122, 146, 160, 191], 'ages': [14, 22, 73, 86, 96, 127, 132], 'models': [14], 'Definately': [14], 'Food': [14, 26, 38, 161, 187], 'Staff': [14, 30, 67, 133, 167], 'need': [14, 41, 76, 90, 93, 125, 169, 172, 187, 195], 'HUGE': [14], 'variety': [14, 68, 89, 99, 159, 181], 'awesome': [14], 'wait': [15, 17, 21, 24, 26, 46, 71, 72, 77, 86, 92, 103, 115, 117, 142, 169, 179], 'Castle': [15, 20, 23, 29, 108, 112, 121, 163], 'recommend': [15, 58, 93, 99, 103, 117, 125, 152, 179], 'deal': [15, 139], 'weekday': [15, 72, 93, 114, 125, 129], 'due': [15, 28, 37, 87, 108, 129, 173], '.This': [15], 'min': [15, 103], 'general': [15], 'weekends': [15, 74], 'price': [15, 36, 74, 122, 144, 170, 190], 'drink': [15, 17, 100, 105], 'pass': [16, 29, 34, 85, 90, 103, 105, 124, 151, 157, 159, 163, 185, 196], 'huge': [16, 31, 42, 58, 100, 133, 145, 152, 194], 'scenes': [16], 'enjoyed': [16], 'show': [16, 86, 90, 115, 128, 133, 143, 171, 198], 'Visit': [16], 'pm': [16, 114], 'movies': [16], 'character': [16, 166], 'fairytales': [16], 'person': [17, 61, 169, 186], 'single': [17, 88, 124], 'ride': [17, 21, 27, 29, 34, 42, 51, 52, 59, 61, 62, 86, 90, 100, 102, 105, 111, 117, 130, 139, 163, 167, 169, 170, 171, 182, 183], 'half': [17, 137, 151, 190], 'track': [17, 86, 103], 'fortune': [17], 'Fast': [17, 119, 142], 'rider': [17], 'average': [17, 48, 57, 114], 'look': [17], 'construction': [17, 21, 22, 64, 72, 123, 172], 'speaks': [18], 'smaller': [18, 32, 34, 45, 47, 55, 59, 63, 86, 89, 91, 98, 104, 115, 119, 131, 133, 140, 141, 150, 168, 172, 173, 179, 181, 188, 189], 'become': [19], 'Easy': [19, 140, 148, 165, 175], 'child': [19, 29, 38, 124, 130, 152, 153, 178], 'stations': [19], 'trams': [19], 'Wait': [19], 'subway': [19, 21], 'come': [19, 198], 'step': [19, 197], 'nothing': [19, 113, 117, 139], 'value': [20, 46, 78, 137, 157, 164], 'Moana': [20, 42, 115], 'tourist': [20, 78, 161], 'Unfortunately': [20, 172], 'visible': [20], 'queuing.The': [20], 'better': [20, 83, 108], 'magical': [20, 81, 121, 158, 169, 172, 198], 'favourite': [20, 35, 82, 133, 139, 157, 170], 'Wondrous': [20, 51, 99, 128], 'works': [20, 53], 'Book': [20, 51, 61, 99, 128, 147], 'bearings': [20], 'parades': [20, 28, 51, 81, 126, 130, 160], 'Mickey': [20, 22, 24, 34, 51, 54, 74, 90, 98, 128, 160, 163, 179, 180, 182], 'shows': [20, 34, 48, 61, 76, 77, 80, 89, 99, 120, 134, 136, 147, 172, 196], 'Klook': [20, 87, 90, 97, 139, 142, 181], 'read': [21, 36, 61, 63], 'Wednesday': [21, 28], 'line': [21, 22, 24, 32, 34, 35, 36, 53, 57, 91, 92, 103, 104, 115, 121, 123, 165, 195], 'okay': [21, 113], 'tip': [21], 'downtown': [21], 'fan': [21, 44, 51, 65, 99, 134, 170], 'slow': [21, 34, 139], 'back': [21, 106], 'themes': [21], 'able': [21, 31, 32, 33, 51, 54, 62, 103, 163, 179], 'sure': [21, 22, 43, 47, 71, 100, 102, 121, 146, 198], 'super': [21, 44, 48, 83, 91, 104], 'get': [21, 29, 31, 33, 56, 58, 83, 115, 124, 143, 149, 163, 167, 169, 193, 194], 'nice': [21, 24, 52, 57, 62, 67, 75, 93, 112, 155, 157, 172, 174], 'life': [21, 64, 178], 'live': [21], 'idea': [21], 'easy': [21, 26, 33, 35, 36, 37, 58, 74, 78, 81, 85, 87, 97, 103, 106, 143, 169, 175], 'Next': [21], 'description': [21], 'First': [21, 180], 'thrill': [21, 26, 35, 43, 74, 122, 155, 172, 190], 'years': [21, 26, 82, 109, 112, 122, 137, 160], 'seekers': [21, 35], 'impressed': [21], 'California': [21, 32, 119, 179, 189], 'vacation': [21, 85], 'year': [22, 30, 46, 61, 91, 92, 100, 104, 177, 183, 189], 'disappointed': [22, 80, 108, 180], 'Wounderous': [22], 'reasonable': [22], 'roller': [22, 26, 167], 'new': [22, 23, 51, 52, 55, 61, 82, 86, 99, 100, 122, 129, 156, 166, 170, 177, 183], 'restaurant': [22, 31, 53, 71, 74, 137, 175], 'major': [22, 122], 'afraid': [22, 74], 'best': [22, 34, 52, 68, 88, 99, 116, 124, 126, 127, 132, 157, 159, 198], 'old': [22, 30, 34, 61, 91, 92, 104, 124, 170, 189], 'Overall': [22, 75, 102, 103, 113, 133, 155, 166, 171, 190], 'coasters': [22], 'book': [22, 169], 'wonderful': [22, 73, 104, 124, 154, 164, 182, 197], 'Standard': [22], 'Adults': [22], 'beautiful': [22, 32, 56, 116, 198], 'Chinese': [22, 126, 136, 161, 169, 179], 'square': [23], 'Beauty': [23, 163, 172], 'Sleeping': [23, 163], 'renovation': [23, 26, 72, 108, 109, 110], 'scaffolding': [23], 'region': [23], 'Disneylands': [23, 25], 'flat': [23, 137], 'excellent': [24, 26, 70, 125], 'rides.Adventure': [24], 'Roller': [24, 156], 'photo': [24, 67, 85, 112, 198], 'treetop': [24], 'signboards': [24], 'available': [24, 40, 68, 85, 112, 117, 163, 171], 'twice.Philar': [24], 'land': [24, 29, 36, 90, 124, 139, 158, 168], 'Gulch': [24, 125, 167], 'GO': [24, 73], 'favourites': [24], 'Duck': [24], 'cruise': [24, 114], 'kids.Grizzly': [24], 'Otherwise': [24, 150], 'opportunities': [24], 'Land': [24, 37, 196], 'Donald': [24], 'awesome.Fantasy': [24], 'Coaster': [24, 119, 156], 'photos': [24, 161], 'Tarzan': [24, 74], 'boat': [24, 124, 171], 'Definitely': [25, 84], 'world': [25, 28, 63, 77, 90, 124, 129, 153, 158, 166, 173, 178, 181], 'language': [25], 'different': [25, 31, 39, 46, 55, 80, 85, 104, 105, 178, 179, 181, 193], 'shame': [25], 'generic': [25], 'others': [25, 33, 63, 86, 99, 119, 140, 168], 'standard': [26, 120, 133], 'warm': [26, 143, 192], 'existent': [26, 157], 'non': [26, 124, 157, 192], 'smallish': [26], 'entry': [26, 36, 37, 46, 90, 105, 114, 143, 198], 'trip': [26, 39, 71, 72, 86, 88, 92, 106, 130, 145, 156, 159, 172], 'coaster': [26, 130, 150, 167], 'clean': [26, 40, 41, 46, 48, 56, 67, 73, 77, 135, 156, 164, 165, 166], 'outdoor': [26], 'qualify': [26, 124], 'Lines': [26, 33, 194], 'vegetarian': [26, 53], 'tidy': [26], 'inexpensive': [26, 124], 'high': [26, 85, 108, 123, 190], 'times': [27, 28, 48, 80, 81, 82, 87, 103, 108, 117, 129, 130, 156, 157, 181, 188], 'Big': [27, 34, 35, 37, 74, 150, 172], 'scary': [27, 29], 'try': [27, 105, 118, 126], 'Grizzly': [27, 34, 35, 37, 74, 119, 125, 157, 163, 172], 'courage': [27], 'short': [28, 33, 87, 98, 115, 147, 159], 'afternoon': [28, 37, 51, 108, 109, 128, 198], 'false': [29], 'husband': [29, 139, 143], 'concrete': [29], 'Hotel': [29, 34, 79], 'advertising': [29], 'poorer': [29], 'cheap': [29, 86], 'salad': [29], 'dinner': [29], 'Water': [29], 'Toy': [29, 34, 37, 90, 163], 'Biggest': [29], 'trains': [29, 36], 'burger': [29, 53, 137], 'places': [29, 117], 'vouchers': [29, 34], 'enjoy': [29, 37, 74, 127, 129, 130, 132, 172, 177, 199], 'combo': [29], 'crappy': [29, 144], 'discount': [29, 61, 103, 181], 'camo': [29], 'light': [29, 73, 96, 106, 139, 169], 'adults': [29, 31, 36, 50, 53, 65, 143, 164, 180, 190], 'AUD': [29, 92], 'breakfast': [29], 'thru': [29], 'sun': [29], 'note': [29], 'meal': [29, 137, 139], 'parents': [29, 58, 73, 137, 156], 'bakery': [29], 'charge': [29], 'astray': [29], 'equates': [29], 'insane': [29], 'Story': [29, 37, 115], '%': [29, 87, 103], 'flavourless': [29], 'weeks': [29, 105], 'elderly': [29], 'Train': [29], 'stating': [29], 'Hollywood': [29, 189], 'supermarkets': [29], 'crazy': [29], 'Come': [29], 'deep': [29], 'bottle': [29, 114], 'buffet': [29], 'shade': [29], 'st': [29], 'shades': [29], 'China': [29], 'coz': [29], 'cafes': [29], 'pram': [30], 'anything': [30], 'easier': [30, 34, 83, 103], 'hire': [30], 'hotels': [30, 34, 85, 174], 'Makes': [30], 'fault': [30, 68], 'Could': [30], 'adults.We': [31], 'foods': [31, 73, 181], 'highlight': [31, 86, 90, 99, 185], 'couple': [31, 35, 70, 94, 117, 181], 'bring': [31, 73, 178], 'caramel': [31, 194], 'restaurants': [31, 34, 59, 72, 80, 85, 87, 100, 167, 178, 183], 'shopping': [31, 37, 195], 'bars': [31, 160], 'available.The': [31], 'selection': [31], 'Try': [31, 52], 'umbrella': [31], 'daily': [31], 'special': [31, 39, 61, 74, 139, 140, 154], 'clothing': [31], 'Note': [31], 'gifts': [31, 118], 'hats': [31], 'Anaheim.We': [32], 'slower': [32], 'trepidation': [32], 'Loved': [32, 167], 'umbrellas': [32], 'months': [32], 'none': [32, 75, 105], 'undercover': [32], 'amounts': [32], 'large': [32], 'over.I': [32], 'previously.No': [32], 'HKDL': [32, 39], 'ups': [32, 195], 'mind': [32, 54, 133, 179], 'numbers': [32], 'car': [33, 105, 157], 'toy': [33, 139], 'story': [33, 90, 102, 139, 166], 'Shanghai': [33, 166, 181, 199], 'it.Yes': [34], 'front': [34, 105, 121], 'speed': [34], 'script': [34], 'flyer': [34], 'trackless': [34], 'beware': [34], 'Stark': [34], 'Vouchers': [34], 'choose': [34, 178], 'fussy': [34], 'email': [34], 'etc': [34], 'sooo': [34], 'decorations': [34, 51, 155], 'system': [34], 'Walking': [34], 'Mystic': [34, 37, 51, 74, 102, 114, 124, 125, 139, 150, 163, 166, 172], 'run': [34, 139, 175], 'HKL': [34], 'Card': [34], 'Cars': [34, 74, 163, 172], 'morning': [34, 52, 121, 168, 198], 'Manor': [34, 37, 51, 74, 102, 114, 125, 139, 163, 166, 169, 172], 'buses': [34], 'Lodge': [34], 'difference': [34], 'carriages': [34], 'Tomorrowland.We': [34], 'Market': [34], 'fun.When': [34], 'Sunny': [34, 36, 143], 'net': [34], 'Christmas': [34, 39, 172], 'Bay': [34, 36, 143], 'simulator': [34], 'Lunch': [34], 'serve': [34], 'option': [34, 139, 150], 'fastpass': [34], 'travel': [34, 36, 162], 'hub': [34], 'version': [34, 150, 166], 'Dinner': [34], 'sad': [34, 109, 112, 129, 149], 'gates': [34, 90, 108], 'Explorers': [34, 67, 77], 'break': [34, 144], 'fun.Unique': [34], 'use': [34, 61, 86, 90, 105, 142, 181], 'Asian': [34, 175], 'Dining': [34], 'Octopus': [34], 'Starliner': [34, 137], 'things': [34, 37, 56, 64, 100, 138, 195], 'website': [34, 77, 93], 'link': [34], 'Station': [34, 36, 53], 'QR': [34, 97], 'entitled': [34], 'Hotels': [34], 'great.HK': [34], 'quietness': [34], 'Lots': [34, 140, 165, 180], 'unique': [34, 35, 102, 179], 'ferry': [34, 108], 'double': [34, 87], 'electronic': [34], 'Cantonese': [34, 179], 'change': [34], 'Central': [34, 58, 108, 162], 'girls': [34, 188], 'Government': [34], 'PhilharMagic': [34], 'burgers': [34], 'skippers': [34], 'Windows': [34], 'Storyland': [34], 'iceblock': [34], 'ate': [34, 175], 'Mine': [34, 37, 74, 82, 90, 125, 163, 172], 'Caribbean': [34], 'Wars': [34, 90, 130, 150], 'Sea': [34, 181], 'bay': [34], 'choices': [34, 104, 131], 'Runaway': [34, 37, 74, 82, 125, 163, 172], 'Shaped': [34], 'varies': [34], 'rough': [34], 'passes': [34, 86, 92, 191], 'scan': [34, 97, 114], 'allows': [34], 'English': [34, 77], 'Australia': [34], 'transport': [34], 'sent': [34], 'overlay': [34], 'unexpected': [35], 'families': [35], 'simple': [35, 119], 'heaps': [35], 'kind': [35, 154], 'younger': [35, 131], 'see.If': [35], 'chance': [35], 'navigable': [35], 'RC': [35, 157], 'here.The': [35], 'full': [35, 46, 53, 80, 81, 101, 141, 178, 180, 181, 191], 'experiences': [35], 'Toystoryland': [35], 'Racer': [35], 'Australian': [35], 'Mong': [36], 'sales': [36], 'rate': [36, 143], 'taxi': [36, 105, 108, 124], 'costs': [36, 124], 'CTS': [36], 'right': [36, 42, 108], 'Nathan': [36], 'mong': [36], 'pink': [36], 'Lai': [36], 'numerous': [36], 'cok': [36], 'bank': [36], 'letter': [36], 'Kok': [36], 'box': [36], 'hand': [36, 94], 'swap': [36], 'Thai': [36], 'centre': [36], 'roadAs': [36], 'road': [36], 'minutes.On': [36], 'purchase': [36, 68, 97, 105, 137, 142], 'cheapest': [36, 139], 'orange': [36], 'office': [36], 'level': [36], 'problems': [36, 178], 'next': [36, 77, 105, 156, 169], 'Bank': [36], 'advisor': [36], 'route': [36], 'USA': [37, 115, 117, 142], 'Happy': [37], 'Though': [37, 168], 'stop': [37, 71, 86, 109, 192], 'town': [37, 167], 'cars': [37], 'crowds': [37, 79, 129, 181, 194], 'Characters': [37, 106, 160], 'Hyperspace': [37, 74, 114, 130, 163], 'favorite': [37, 115, 181], 'ghost': [37], 'understand': [38], 'May': [39], 'Spring': [39], 'Carnival': [39], 'Year': [39, 179], 'Halloween': [39, 66, 113], 'Apr': [39], 'Thats': [39], 'decorate': [39], 'check': [39, 64, 71, 102, 105, 169, 172], 'period': [39, 46], 'join': [39], 'Chines': [39], 'November': [39], 'Jan': [39], 'Feb': [39, 192], 'charaters': [39], 'Summer': [39], 'costume': [39], 'disney': [39, 43, 106, 111, 165, 168], 'event': [39], 'Mar': [39], 'New': [39, 126, 169, 179], 'customer': [40], 'tame': [40, 99], 'priority': [41, 47, 63, 75, 77, 92, 105, 124, 157, 185], 'Visited': [41, 113, 144], 'rollercoasters': [42, 131], 'tripods': [42], 'movie': [42], 'reusable': [42], 'Festival': [42], 'container': [42], 'eat': [42, 68, 100, 158], 'production': [42], 'songs': [42], 'Maui': [42], 'miss': [42, 61, 168], 'shoes': [42, 167], 'comfortable': [42, 167], 'sticks': [42], 'reminders': [42], 'quees': [43], 'honest': [43, 198], 'lacks': [43], 'impression': [43], 'Waits': [43], 'overall': [43, 62, 78], 'Nugget': [44], 'Saloon': [44], 'best.A': [44], 'Lucky': [44], 'tick': [44], 'lunch': [44, 104, 105, 137], 'cute': [44, 100, 104, 161, 163, 165, 182], 'group': [45, 61, 164, 167, 170, 172], 'skip': [45], 'Inn': [45], 'Plaza': [45], 'till': [46, 100, 110], 'various': [46, 179], 'fee': [46, 135, 159], 'Disneyworld': [46], 'old.Back': [46], 'Exhausting': [46], 'Orlando': [46, 51, 139, 159, 166], 'first': [46, 75, 177, 181], 'ie': [46], 'whereas': [46], 'zone': [47], 'Queues': [47, 79], 'Sunday': [47], 'weekend': [47], 'Saturday': [47], 'ok': [48, 59, 139], 'terrific': [48, 194], 'let': [48, 61, 79], 'enjoyable': [48, 98, 103, 122, 183, 196], 'friendly': [48, 152, 160, 165, 167, 170, 174, 183, 191], 'adult': [49, 70, 127, 175], 'exciting': [50], 'bigger': [50], 'Parks': [51, 169], 'college': [51], 'Paris': [51, 99, 113, 119, 166, 170, 190], 'dressed': [51], 'c': [51], 'night': [51, 73, 96, 98, 104, 109, 110, 168, 169, 192, 198], 'a.m': [51], 'Lightyear': [51], 'Parade': [51, 109, 168, 196], 'Ranger': [51], 'smallest': [51, 77, 120, 169], 'b': [51], 'Electro': [51], 'Easter': [51], 'Pricey': [52], 'part': [52, 72, 102, 124, 133], 'maximize': [52], 'hotel': [52, 67, 85, 92, 106, 108, 156, 189], 'additional': [53], 'cob': [53], 'publicity': [53], 'downside': [53], 'corn': [53, 124], 'variation': [53], 'VIP': [53, 169], 'Status': [53], 'outlets': [53], 'reparation': [53], 'Mind': [53], 'up.It': [53], 'liked': [53], 'pop': [53], 'friend': [53, 136], 'hard': [53, 63, 133], 'selves': [53], 'needs': [54, 191], 'meet': [54, 198], 'blew': [54], 'friends': [54, 149, 152, 156], 'entertainment': [54, 193], 'Glad': [54], 'Awesome': [54, 176], 'halal': [54, 73, 74], 'Facilities': [55], 'games': [55, 80, 100], 'fact': [55, 82, 98, 134, 146, 170], 'safe': [56], 'Love': [56, 109], 'MRT': [56, 129], 'Night': [56, 109], 'long': [57, 79, 80, 94, 121, 130, 141, 144, 156, 183, 196], 'tram': [57, 116], 'transit': [57], 'impressive': [57], 'shop': [58, 163], 'sisters': [58], 'teenage': [58], 'think': [58, 83, 129, 133, 141], 'offerings': [58], 'western': [59, 137], 'holiday': [60, 172, 177], 'Went': [60, 90, 98, 106], 'x': [60], 'polite': [60], 'xx': [60], 'brilliant': [60], 'age': [61, 82, 143, 188], 'belong': [61], 'wont': [61], 'park.We': [61], 'manage': [61], 'access': [61, 74, 79, 175], 'ASK': [61], 'leav': [61], 'Always': [61], 'exit': [61], 'tips': [61], 'wifi': [61], 'dont': [61], 'klook': [61], 'employees': [61, 183], 'LAND': [61], 'thier': [61], 'creative.6': [61], 'bag': [61, 86, 90], 'amusement': [61], 'trolley': [61], 'points': [61], 'booking': [61, 102], 'superb': [61], 'PAY': [61], 'navigate': [61, 115], 'keep': [61, 77, 183], 'give': [61, 102], 'BACKPACK': [61], 'reach': [61, 111, 171, 198], 'fellow': [61], 'schedule.5': [61], 'luggage': [61, 64], 'door': [61], 'ask': [61, 70], 'storage': [61, 86], 'timings': [61], 'marvellous': [61], 'soveniour': [61], 'app': [61, 103, 142], 'REMEMBER': [61], 'saves': [61, 129], 'allowed.2': [61], 'interior': [61], 'POLITELY.Rest': [61], 'direction': [61, 63], 'travellers.Tip': [61], 'stickers': [61, 104, 146, 187], 'worked': [62], 'Signs': [63], 'que': [63], 'bonus': [63], 'Toilets': [63], 'autistic': [63], 'Arrows': [63], 'son': [63, 68], 'Way': [63], 'random': [63], 'interact': [63], 'plentiful': [63], 'ques': [63], 'Superb': [64], 'capture': [64, 198], 'amusements': [64], 'excursions': [64], 'Fantastic': [64, 95, 197], 'creation': [64], 'tour': [64, 108, 169], 'Better': [64, 67, 95], 'everyday': [64], 'item': [64, 108], 'dawn': [64], 'snaps': [64], 'avenues': [65], 'Lovely': [66], 'play': [67, 82, 132, 156], 'guest': [67, 95, 105], 'resort': [67], 'effective': [67], 'Explorer': [67], 'bathrobe': [67], 'feeling': [67, 176], 'activities': [67, 98, 130, 149, 152], 'pool': [67], 'steak': [68], 'ownership': [68], 'either': [68], 'improvements': [68], 'items': [68], 'American': [68, 133], 'icon': [68], 'menus': [68], 'Children': [68], 'wife': [68, 82, 112], 'conscious': [68], 'selections': [68], 'menu': [68], 'US': [68, 105, 135, 150], 'grandson': [68, 133], 'sensitive': [68], 'allergies': [68], 'Weather': [69], 'joy': [69], 'offer': [69], 'eyes': [69, 168, 186], 'Took': [69], 'performers': [70], 'Rides': [70], 'towards': [70], 'return': [71, 126, 169], 'closures': [71], 'quiet': [71], 'third': [71], 'expensive.This': [71], 'go.We': [71], 'prevent': [71], 'case': [71, 159], 'recent': [71], 'Limited': [72, 120], 'least': [72, 157], 'fantabulous': [73], 'alot': [73], 'MUST': [73], 'Battle': [74], 'lol': [74], 'muslim': [74], 'Terrace': [74], 'close': [74, 86, 108], 'Shame': [74], 'Tahitian': [74], 'Treehouse': [74], 'backward': [74], 'Phillarmagic': [74], 'ranges': [74], 'drop': [74, 169], 'traveler': [74], 'weekdays': [74, 125], 'Nano': [74], 'liquid': [75], 'cubicle': [75], 'dispenser': [75], 'Maybe': [75, 141], 'malls': [75], 'toilet': [75], 'comfort': [75], 'disneyland.Staff': [75], 'pregnant': [75], 'regular': [75, 99], 'detail': [76, 139], 'Tuesday': [76, 125, 157], 'NZ': [76], 'attention': [76, 86], 'March': [76, 106, 127, 144, 157], 'Highly': [76, 125, 164], 'longer': [76], 'several': [77, 92, 108], 'fast': [77, 86, 90, 172, 191], 'speak': [77, 93, 174, 179], 'time.Would': [77], 'shuttles': [77], 'package': [77], 'souvenirs': [78, 108, 163], 'wander': [78], 'F': [79], 'B': [79], 'guests': [79, 93, 170], 'Carmen': [79], 'overrpriced': [79], 'balloon': [79], 'Ming': [79], 'balloons': [79], 'April': [79, 122], 'cap': [79, 124], 'resolve': [79], 'festival': [79], 'queuing': [79], 'confirmation': [79, 105], 'Luckily': [79], 'massive': [79, 143], 'unable': [79], 'HK150': [79], 'closing': [80, 198], 'MANY': [80], 'upgrade': [80], 'IMHO': [80], 'partial': [80], 'suggestion': [80], 'Florida': [80, 99, 113, 119, 120, 143, 146, 159, 188, 189, 191], 'moment': [80, 110, 139], 'excitement': [81, 180, 182], 'truly': [81], 'Many': [82, 131], 'daughers': [82], 'law': [82], 'Car': [82], 'round': [83, 143], 'Avoid': [83], 'Kids': [83, 144, 147, 187], 'tricks': [83], 'member': [83], 'whilst': [84], 'Honkers': [84], 'evil': [85], 'Jedi': [85, 131, 181], 'older': [85], 'nights': [85, 154], 'convinient': [85], 'coaches': [85], 'quantity': [85], 'opportunity': [85, 107, 142], 'relaxed': [85], 'dress': [85], 'opps': [85], 'Everyone': [85], 'forces': [85], 'taste': [85], 'Vegetarian': [85], 'traveling': [85], 'opening': [86], 'costumes': [86, 133], 'love': [86, 143, 147], 'spare': [86, 120], 'backwards': [86], 'current': [86], 'needed.Would': [86], 'proximity': [86], 'reality': [86], 'Make': [86], 'smells': [86], 'items.With': [86], 'jobs': [86], 'incredible': [86, 122, 142, 198], 'flagship': [86], 'decor': [86], 'ideal': [86], 'mins': [86, 124, 137, 195], 'somehow': [86], 'rides.It': [86], 'charming.The': [86], 'smart': [86], 'anyone': [86], 'fair': [86], 'Price': [87], 'advance': [87], 'though': [87], 'refurbishment': [87], 'quieter': [87], 'inside': [88], 'Enjoy': [88, 138], 'unlock': [88], 'Bucket': [88], 'loses': [89], 'pins': [89], 'maintains': [89], 'themed': [89], 'exclusives': [89], 'Bilingual': [89], 'quality': [89, 90, 99, 122, 123], 'merchandise': [89, 122], 'size': [89, 118], 'exclusive': [89, 172], 'Mouse': [90, 186], 'Pooh': [90, 119, 163], 'Recommend': [90], 'Get': [90], 'App': [90], 'compartments': [90], 'Saw': [90], 'latest': [90], 'Pret': [90], 'there.': [90], 'tell': [90, 102], 'hide': [90], 'Manger': [90], 'ends': [90], 'Take': [90], 'musical': [90, 130], 'Buy': [90], 'arrive': [90, 129], 'Winnie': [90, 163], 'parachute': [90], 'green': [90], 'goofy': [90], 'lights': [90], 'ToyStory': [90], 'mall': [90], 'times.All': [90], 'charme': [91], 'metro': [91], 'clear': [91, 116], 'baby': [91, 121], 'signposted': [91], 'company': [91, 105], 'glad': [92, 169, 194], 'feet': [92, 167, 169], 'extra': [92, 154], 'Priority': [92, 125, 142], 'shut': [93, 101, 167], 'inform': [93], 'everybody': [93, 107], 'feel': [94, 141, 166, 170], 'lineup': [94], 'shake': [94], 'spirit': [94], 'save': [95, 142], 'Near': [95], 'traveloka': [95], 'buy': [95, 105, 122, 138, 143, 181], 'Nice': [95, 131], 'accessible': [96, 129, 159], 'Friendly': [97], 'weather': [97, 109, 151, 156, 159, 198], 'Enjoyed': [97, 184, 197], 'code': [97], 'rides.The': [98], 'shorter': [98], 'Smallest': [98], 'newer': [98], 'February': [98, 156, 166], 'updated': [98, 148], 'floats': [98, 183], 'impressive.The': [99], 'staging': [99], 'serious': [99], 'day.The': [99, 168], 'visitor': [99], 'performances': [99], 'real': [99, 180], 'fill': [99, 180], 'singing': [99], 'versions.I': [99], 'fi': [100], 'stark': [100], 'cum': [100], 'signature': [100], 'addition': [100], 'peak': [100], 'Please': [100], 'sci': [100], 'make': [100, 159], 'game': [100], 'eateries': [100, 131], 'fees': [101], 'kiosks': [101], 'intimation': [101], 'timing': [102], 'SEA': [102], 'properties': [102], 'low': [102], 'foreign': [103], 'waits': [103], 'quick': [103, 143], 'licenses': [103], 'page': [103], 'manageable': [103], 'Much': [103], 'advertised': [103], 'drivers': [103], 'Honk': [103], 'onsite': [103], 'web': [103], 'Dumbo': [103], 'convenient': [103, 121, 171], 'travelers': [103], 'MUCH': [103, 182], 'matter': [104, 169], 'paint': [104], 'Hard': [104], 'atmosphere': [104], 'pockets': [104, 108], 'princess': [104, 112], 'Longest': [104], 'Ask': [104], 'message': [105], 'careful': [105, 126], 'UK': [105], 'dah': [105], 'information': [105], 'air': [105], 'statements': [105], 'soft': [105], 'left': [105], 'details': [105], 'pre': [105], 'Guest': [105], 'relations': [105], 'thank': [105], 'payments': [105], 'payment': [105], 'TST': [105, 124], 'journey': [105, 111, 121, 158], 'add': [105], 'pleasant': [105, 166], 'negative': [105], 'satisfaction.Please': [105], 'apologetic': [105], 'cards': [105], 'minutes.We': [105], 'credit': [105], 'card': [105, 108], 'cold': [106], 'thoroughly': [106], 'Wife': [106], 'shots': [106], 'showers': [106], 'Express': [108], 'reason': [108, 113], 'senior': [108], 'rest': [108, 156], 'Oyster': [108], 'Baba': [108], 'coach': [108], 'limits': [108], 'Ali': [108], 'basic': [108], 'buying': [108], 'approx': [108], 'cost': [108, 124], 'renovations': [108, 144], 'Seniors': [108], 'mug': [108], 'bags': [108], 'dilapidation': [108], 'watches': [108], 'bother': [108], 'picture': [108], 'Haha': [109], 'Unlucky': [109], 'Paint': [109], 'didnt': [109, 134, 179], '.My': [109], 'Xmas': [110], 'cancellation': [110], 'Renovation': [110], 'management': [110], 'notch': [110], 'People': [110, 169, 181], 'celebrations': [110], 'voucher': [110], 'start': [111, 139, 141], 'renovation2': [112], 'elsa': [112], 'renovation4': [112], 'Princess': [112], 'limited': [112, 123], 'problems:1': [112], 'session': [112], 'Disneysea': [113], 'Nights': [113], 'Studios': [113, 147], 'spectacular': [113], 'Horror': [113], 'fyi': [113], 'Nothing': [113], 'cultural': [113, 179], 'thing': [113, 168, 169], 'Singapore': [113], 'beats': [113], 'weird': [113, 124], 'manor': [113, 170], 'Universal': [113, 147], 'tiny': [113, 139], 'Banquet': [114, 192], 'minimum': [114, 124], 'started': [114], 'grizzly': [114, 128], 'Royal': [114, 192], 'decision': [114], 'rush': [114, 198], 'barcode': [114], 'coupons': [114], 'jungle': [114], 'Expect': [115], 'Unheard': [115], 'Wed.': [115], 'Tale': [115], 'States': [115], 'United': [115], 'statues': [116], 'inspiring': [116], 'commercial': [116, 138], 'views': [116], 'Ping': [116], 'giant': [116], 'monastery': [116], 'Nong': [116], 'visibility': [116], 'Plenty': [117], 'wish': [118], 'affordable': [118], 'Optimal': [118], 'cheaper': [119, 129, 170, 181], 'bear': [119], 'bomb': [119], 'Tickets': [119], 'Pass': [119, 142], 'Disneys': [119], 'Mansion': [119, 124, 150, 166], 'set': [120, 137], 'Euro': [120], 'MtR': [121], 'tedious': [121], 'experience.The': [121], 'healthy': [121], 'inside.With': [121], 'classics': [121], 'St.': [121], 'kids.The': [121], 'allow': [121], 'feel.Make': [121], 'gate': [121, 143], 'counter': [121], 'doubt': [121, 198], 'tons': [122], 'farewells': [122], 'ages.As': [122], 'starve': [122], 'Whether': [122], 'meal.If': [122], 'Hk': [122], 'revamps': [122], 'seeker': [122, 172], 'resident': [122], 'comments': [122], 'Astroblasters': [122], 'posts': [122], 'section': [122], 'extract': [122], 'revamp': [122], 'Autopia': [122], 'activity': [123], 'ridiculous': [123], 'noise': [123], 'forest': [123], 'heard': [123], 'jackhammer': [123], 'invest': [123], 'massive.It': [124], 'HKD.Disney': [124], 'adventure': [124], 'Eating': [124], 'compensated': [124], 'toook': [124], 'way.Peak': [124], 'soooo': [124], 'traffic': [124], 'Vegie': [124], 'form.it': [124], 'stayed': [124], 'tree': [124], 'folks': [124], 'mandatory': [124], 'Tsim': [124], 'ready': [124], 'DLand': [124], 'Sha': [124], 'Veg': [124], 'Tea': [124], 'boy': [124], 'houses': [124], 'Tsui': [124], 'toddlers': [124], 'A21': [124], 'buckle': [124], 'Adult': [124], 'toll': [124], 'Dinsey': [124], 'attractions.Infants': [124], 'creams': [124], 'price.I': [124], 'digital': [124], 'pretty': [124], 'ice': [124], 'good.Bus': [124], 'R8': [124], 'Avenue.Costs': [124], 'Burger': [124], 'Lantau': [124], 'Cms': [124], 'veg': [124], 'Special': [125], 'Monday': [125, 143, 163], 'Came': [126, 137], 'strollers': [126], 'strollers.My': [126], 'tried': [126], 'rent': [126], 'lightworks': [126], 'hrs': [126], 'cash': [126], 'left.The': [126], 'Amusement': [127], 'heart': [127], 'cartoon': [128], 'Shows': [128], 'firework': [128], 'Cinderella': [128], 'norm': [129], 'exception': [129, 167], 'gate.Easily': [129], 'smile': [129, 192], 'unavailable': [129], 'Coming': [130], 'buys': [130], 'presentation': [130], 'wc': [130], '@': [130], 'store': [130, 156], 'final': [130], 'invitation': [130], 'poses': [130], 'scream': [130], 'Mondays': [130], 'usual': [130, 137, 157, 175], 'Bring': [131], 'Attractions': [131], 'expand': [131, 193], 'extreme': [132], 'atudio': [132], 'happy': [132, 136], 'universal': [132], 'match': [133, 156], 'acrobatics': [133], 'assist': [133], 'makeup': [133], 'props': [133], 'Amazing': [134, 171], 'Everything': [134], 'dollars': [135], 'lowest': [135], 'Admission': [135, 181], 'sleep': [136], 'bathroom': [136], 'perfection': [136], 'floor': [136, 195], 'meat': [137], 'serves': [137], 'crowded': [137], 'Bought': [137], 'pathetic': [137], 'coupon': [137], 'Weekend': [138], 'words': [138], 'ares': [138], 'possible': [138], 'resist': [138], 'Accessible': [138], 'tough': [138], 'consumer': [138], 'artificial': [138], 'Spent': [138, 148], 'mean': [139], 'funny': [139], 'odd': [139, 146], 'worry': [139, 198], 'surprises': [139], 'rubbish': [139], 'build': [139], 'winner': [139], 'occasions': [140], 'FL': [140, 166], 'fare': [140], 'quite': [140], 'Duffy': [140], 'CA': [140, 142], 'obsession': [140], 'Ppl': [141], 'relationship': [142], 'Compared': [142, 172], 'rode': [142, 166], 'Fun': [142], 'meals': [142, 181], 'currency': [143], 'platform': [143], 'original': [143, 162, 166], 'passportsWe': [143], 'Anyway': [143], 'flew': [143], 'phone': [143], 'RUN': [143], 'patch': [143], 'mirror': [143, 166], 'Surprisingly': [143], 'selfies': [143], 'process': [143], 'please': [143], 'push': [143, 169], 'manners': [143], 'plus': [143], 'bug': [143], 'announcement': [143], 'today': [144], 'pics': [144], 'kept': [144], 'stuff': [144, 165], 'Poor': [144], 'Pretty': [144], 'outSmall': [144], 'reduction': [144], 'fav': [144], 'terms': [144], 'turnstile': [146], 'expectations': [146], 'unfriendly': [146], 'exceptions': [146], 'hit': [146], 'inherent': [146], 'Smile': [146], 'Worse': [146], \"'Mickey\": [147], 'counterpart': [147], 'pricey': [148, 187, 198], 'stress': [149], 'rid': [149], 'larger': [150, 166, 170], 'rollar': [150], 'Thunder': [150], 'one': [150, 169], 'familar': [150], 'bucket': [150], 'forecast': [151], 'sunny': [151], 'unwind': [153], 'perfect': [153, 156, 181], 'Magical': [154, 185], 'patient': [154], 'explanation': [154], 'detailed': [155, 166], 'effect': [155], 'thrilling': [155], 'head': [155], 'brings': [155], 'caps': [156], 'balls': [156], 'herbal': [156], 'sunny.We': [156], 'arrived.We': [156], 'sooner': [156], 'recreational': [156], 'restaurant.The': [156], 'cool': [156, 180], 'beef': [156], 'fantastic.We': [156], 'interesting.I': [156], 'Kong.We': [156], 'tired': [156], 'white': [156], 'shrimp': [156], 'ravioli': [156], 'hotel.We': [156], 'rugby': [156], 'iPads': [156], 'home.The': [156], 'well.I': [156], 'again.After': [156], 'month': [156, 165], 'Kong.It': [156], 'delicious': [156], 'good.Almost': [156], 'dad': [156], '.we': [156], 'balls.We': [156], 'leave.I': [156], 'cool.If': [156], 'play.After': [156], 'skipping': [157], 'mins.We': [157], 'occasion': [157], 'multiple': [157], 'thrilling.Disneyland': [157], 'particular': [157], 'times.We': [157], 'lucky': [157], 'leaves': [157], 'great.It': [157], 'minute': [157, 160], 'standards': [157], 'future': [158], 'sentence': [158], 'Hearing': [158], 'news': [158], 'Frozen': [158], 'countless': [158], 'adequate': [158], 'max': [159], 'strolling': [159], 'mingle': [159], 'skies': [159], 'worthwhile': [159], 'Wes': [159], 'overcast': [159], 'grateful': [159], 'rainy': [159], 'feels': [160], 'posters': [160], 'Oh': [160], 'handle': [160], 'likes': [161], 'permission': [161], 'Overcrowded': [161], 'offering': [161], 'Smaller': [162, 180], 'Fair': [162], 'IronMan': [163], 'MM': [163], 'mention': [163], 'Drop': [163], 'Spin': [163], 'Slinky': [163], 'Parachute': [163], 'Airport': [163], 'Philharmagic': [163], '.Special': [163], 'BUY': [163], 'hesitate': [163], 'Dog': [163], 'Soldier': [163], 'grandchildren': [164, 184], 'Inside': [165], 'decoration': [165], 'convenience': [165], 'sounveir': [165], 'hongkong': [165], 'draws': [166], 'fourth': [166], 'Tours': [166], 'contact': [166], 'monkey': [166], 'effects': [166, 169], 'images': [166], 'Albert': [166], 'fewer': [166], 'answer': [166], 'Haunted': [166], 'part.Costumes': [167], 'Starwars': [167], 'Japan': [167], 'surprised.We': [167], 'recycling': [167], 'shut.At': [167], 'OK': [167, 175], 'bin': [167], 'told': [167], 'loosing': [167], 'black': [167], 'Tables': [167], 'peppy': [167], 'jarring': [167], 'cleared.Two': [167], 'mascots': [167], 'delightful': [168], 'occupied': [168], 'feast': [168], 'lesser': [168], 'Marathon.That': [169], 'seat': [169], 'holidays.We': [169], 'legs': [169], 'fear': [169], 'significant': [169], 'FOMO': [169], 'form': [169], 'fit': [169, 180], 'out.As': [169], 'type': [169], 'late': [169], 'Phantom': [169], 'WDW': [169], 'contemplates': [169], 'France': [169], 'pushy': [169], 'doors': [169], 'Favorite': [169], 'difference.The': [169], 'tall': [169], 'flow': [169], 'Ratatouille': [169], 'contort': [169], 'Rope': [169], 'frequent': [169], 'York': [169], 'gun': [169], 'end': [169], 'finish': [169, 190], 'moving': [169], 'extortionate': [170], 'help': [170], 'ignored': [170], 'mystic': [170], 'witness': [171], 'dream': [171], 'phoo': [171], 'tarzan': [171], 'mode': [171], 'Huge': [171], 'winnie': [171], 'court': [171], 'schedule': [172], 'download': [172], 'thought': [172], 'January': [172], 'shortest': [172], 'packed.My': [172], 'forget': [172], 'Celebration.In': [172], 'wrong': [172], 'beforehand': [172], 'pass.You': [172], 'english': [174], 'amuse': [174], 'Crews': [174], 'Excellent': [174], 'curry': [175], 'facility': [175], 'bland': [175], 'venue': [175], 'Cost': [175], 'winter': [175], 'e': [175], 'HK619': [175], 'tastes': [175], 'Crowds': [175], 'cater': [175], 'explorers': [175], 'chinese': [177, 183], 'Entering': [178], 'youre': [178], 'tend': [178], 'watch': [179, 191], 'Golden': [179], 'culture': [179], 'averaged': [179], 'ties': [179], 'Week': [179], 'Join': [180], 'benchmark': [180], 'Minnie': [180], 'Even': [181], 'toddler': [181], 'wake': [181], 'moderate': [181], 'regions': [181], 'PROs:1': [181], 'busiest': [181], 'apps': [181], 'preferred': [182], 'carriage': [182], 'carts': [183], 'cranky': [183], 'restrooms': [183], 'corner': [183], 'accommodating': [183], 'Feels': [184], 'together': [184], 'tale': [185], 'Fairy': [185], 'Go': [185], 'Sadly': [186], 'approach': [187], 'collect': [187], 'charm': [188], 'og': [188], 'princesses': [189], 'Stayed': [189], 'Typhoon': [190], 'gather': [191], 'decide': [191], 'professional': [192], 'Beautiful': [192], 'Hall': [192], 'tables': [192], 'effort': [192], 'Keep': [192], 'Wilson': [192], 'Long': [192], 'afford': [193], 'aspect': [193], \"'Disney\": [193], 'expansion': [193], 'suggest': [195], 'terrible': [195], 'mountian': [195], 'workers': [195], 'savages': [195], 'shelves': [195], 'couldnt': [195], 'mess': [195], 'know': [195], 'awful': [195], 'interesting': [195], 'childhood': [196], 'Fireworks': [196], 'logical': [196], 'displays': [196], 'DisneyLand': [197], 'Hongkong': [197], 'Thank': [197], 'Suggestion': [198], 'captured': [198], 'moments': [198]}\n"
     ]
    }
   ],
   "source": [
    "print(inverted_index)"
   ]
  },
  {
   "cell_type": "code",
   "execution_count": 14,
   "id": "0a448c32-0953-46d2-a81e-f214669e4262",
   "metadata": {},
   "outputs": [],
   "source": [
    "with open('inverted_index.csv', 'w') as f:\n",
    "    for key in inverted_index.keys():\n",
    "        f.write(\"%s, %s\\n\" % (key,inverted_index[key]))"
   ]
  },
  {
   "cell_type": "code",
   "execution_count": 15,
   "id": "7baca63a-52a4-442b-ba6d-310d98080521",
   "metadata": {},
   "outputs": [],
   "source": [
    "#review_content\n",
    "movie_data = pd.read_csv(\"rotten_tomatoes_critic_reviews.csv\")"
   ]
  },
  {
   "cell_type": "code",
   "execution_count": 16,
   "id": "ad001a23-cbb3-460f-9e01-1743b599ca20",
   "metadata": {},
   "outputs": [
    {
     "data": {
      "text/html": [
       "<div>\n",
       "<style scoped>\n",
       "    .dataframe tbody tr th:only-of-type {\n",
       "        vertical-align: middle;\n",
       "    }\n",
       "\n",
       "    .dataframe tbody tr th {\n",
       "        vertical-align: top;\n",
       "    }\n",
       "\n",
       "    .dataframe thead th {\n",
       "        text-align: right;\n",
       "    }\n",
       "</style>\n",
       "<table border=\"1\" class=\"dataframe\">\n",
       "  <thead>\n",
       "    <tr style=\"text-align: right;\">\n",
       "      <th></th>\n",
       "      <th>rotten_tomatoes_link</th>\n",
       "      <th>critic_name</th>\n",
       "      <th>top_critic</th>\n",
       "      <th>publisher_name</th>\n",
       "      <th>review_type</th>\n",
       "      <th>review_score</th>\n",
       "      <th>review_date</th>\n",
       "      <th>review_content</th>\n",
       "    </tr>\n",
       "  </thead>\n",
       "  <tbody>\n",
       "    <tr>\n",
       "      <th>0</th>\n",
       "      <td>m/0814255</td>\n",
       "      <td>Andrew L. Urban</td>\n",
       "      <td>False</td>\n",
       "      <td>Urban Cinefile</td>\n",
       "      <td>Fresh</td>\n",
       "      <td>NaN</td>\n",
       "      <td>2010-02-06</td>\n",
       "      <td>A fantasy adventure that fuses Greek mythology...</td>\n",
       "    </tr>\n",
       "    <tr>\n",
       "      <th>1</th>\n",
       "      <td>m/0814255</td>\n",
       "      <td>Louise Keller</td>\n",
       "      <td>False</td>\n",
       "      <td>Urban Cinefile</td>\n",
       "      <td>Fresh</td>\n",
       "      <td>NaN</td>\n",
       "      <td>2010-02-06</td>\n",
       "      <td>Uma Thurman as Medusa, the gorgon with a coiff...</td>\n",
       "    </tr>\n",
       "    <tr>\n",
       "      <th>2</th>\n",
       "      <td>m/0814255</td>\n",
       "      <td>NaN</td>\n",
       "      <td>False</td>\n",
       "      <td>FILMINK (Australia)</td>\n",
       "      <td>Fresh</td>\n",
       "      <td>NaN</td>\n",
       "      <td>2010-02-09</td>\n",
       "      <td>With a top-notch cast and dazzling special eff...</td>\n",
       "    </tr>\n",
       "    <tr>\n",
       "      <th>3</th>\n",
       "      <td>m/0814255</td>\n",
       "      <td>Ben McEachen</td>\n",
       "      <td>False</td>\n",
       "      <td>Sunday Mail (Australia)</td>\n",
       "      <td>Fresh</td>\n",
       "      <td>3.5/5</td>\n",
       "      <td>2010-02-09</td>\n",
       "      <td>Whether audiences will get behind The Lightnin...</td>\n",
       "    </tr>\n",
       "    <tr>\n",
       "      <th>4</th>\n",
       "      <td>m/0814255</td>\n",
       "      <td>Ethan Alter</td>\n",
       "      <td>True</td>\n",
       "      <td>Hollywood Reporter</td>\n",
       "      <td>Rotten</td>\n",
       "      <td>NaN</td>\n",
       "      <td>2010-02-10</td>\n",
       "      <td>What's really lacking in The Lightning Thief i...</td>\n",
       "    </tr>\n",
       "  </tbody>\n",
       "</table>\n",
       "</div>"
      ],
      "text/plain": [
       "  rotten_tomatoes_link      critic_name  top_critic           publisher_name  \\\n",
       "0            m/0814255  Andrew L. Urban       False           Urban Cinefile   \n",
       "1            m/0814255    Louise Keller       False           Urban Cinefile   \n",
       "2            m/0814255              NaN       False      FILMINK (Australia)   \n",
       "3            m/0814255     Ben McEachen       False  Sunday Mail (Australia)   \n",
       "4            m/0814255      Ethan Alter        True       Hollywood Reporter   \n",
       "\n",
       "  review_type review_score review_date  \\\n",
       "0       Fresh          NaN  2010-02-06   \n",
       "1       Fresh          NaN  2010-02-06   \n",
       "2       Fresh          NaN  2010-02-09   \n",
       "3       Fresh        3.5/5  2010-02-09   \n",
       "4      Rotten          NaN  2010-02-10   \n",
       "\n",
       "                                      review_content  \n",
       "0  A fantasy adventure that fuses Greek mythology...  \n",
       "1  Uma Thurman as Medusa, the gorgon with a coiff...  \n",
       "2  With a top-notch cast and dazzling special eff...  \n",
       "3  Whether audiences will get behind The Lightnin...  \n",
       "4  What's really lacking in The Lightning Thief i...  "
      ]
     },
     "execution_count": 16,
     "metadata": {},
     "output_type": "execute_result"
    }
   ],
   "source": [
    "movie_data.head()"
   ]
  },
  {
   "cell_type": "code",
   "execution_count": 17,
   "id": "26039bcf-fd71-4c53-a9d6-904bdcf40777",
   "metadata": {},
   "outputs": [
    {
     "name": "stdout",
     "output_type": "stream",
     "text": [
      "Review Raw Text: A fantasy adventure that fuses Greek mythology to contemporary American places and values. Anyone around 15 (give or take a couple of years) will thrill to the visual spectacle \n",
      "\n",
      "Tokenized review text: ['A', 'fantasy', 'adventure', 'that', 'fuses', 'Greek', 'mythology', 'to', 'contemporary', 'American', 'places', 'and', 'values', '.', 'Anyone', 'around', '15', '(', 'give', 'or', 'take', 'a', 'couple', 'of', 'years', ')', 'will', 'thrill', 'to', 'the', 'visual', 'spectacle']\n"
     ]
    }
   ],
   "source": [
    "#selecting the first review\n",
    "example_review = movie_data[\"review_content\"][0]\n",
    "print(\"Review Raw Text: %s \\n\" % example_review)\n",
    "\n",
    "#tokenize the text\n",
    "tokens = nltk.word_tokenize(example_review)\n",
    "print(\"Tokenized review text: %s\" % tokens)"
   ]
  },
  {
   "cell_type": "code",
   "execution_count": 18,
   "id": "07ffeea4-6451-4072-8a51-03a951224312",
   "metadata": {},
   "outputs": [
    {
     "name": "stdout",
     "output_type": "stream",
     "text": [
      "['i', 'me', 'my', 'myself', 'we', 'our', 'ours', 'ourselves', 'you', \"you're\", \"you've\", \"you'll\", \"you'd\", 'your', 'yours', 'yourself', 'yourselves', 'he', 'him', 'his', 'himself', 'she', \"she's\", 'her', 'hers', 'herself', 'it', \"it's\", 'its', 'itself', 'they', 'them', 'their', 'theirs', 'themselves', 'what', 'which', 'who', 'whom', 'this', 'that', \"that'll\", 'these', 'those', 'am', 'is', 'are', 'was', 'were', 'be', 'been', 'being', 'have', 'has', 'had', 'having', 'do', 'does', 'did', 'doing', 'a', 'an', 'the', 'and', 'but', 'if', 'or', 'because', 'as', 'until', 'while', 'of', 'at', 'by', 'for', 'with', 'about', 'against', 'between', 'into', 'through', 'during', 'before', 'after', 'above', 'below', 'to', 'from', 'up', 'down', 'in', 'out', 'on', 'off', 'over', 'under', 'again', 'further', 'then', 'once', 'here', 'there', 'when', 'where', 'why', 'how', 'all', 'any', 'both', 'each', 'few', 'more', 'most', 'other', 'some', 'such', 'no', 'nor', 'not', 'only', 'own', 'same', 'so', 'than', 'too', 'very', 's', 't', 'can', 'will', 'just', 'don', \"don't\", 'should', \"should've\", 'now', 'd', 'll', 'm', 'o', 're', 've', 'y', 'ain', 'aren', \"aren't\", 'couldn', \"couldn't\", 'didn', \"didn't\", 'doesn', \"doesn't\", 'hadn', \"hadn't\", 'hasn', \"hasn't\", 'haven', \"haven't\", 'isn', \"isn't\", 'ma', 'mightn', \"mightn't\", 'mustn', \"mustn't\", 'needn', \"needn't\", 'shan', \"shan't\", 'shouldn', \"shouldn't\", 'wasn', \"wasn't\", 'weren', \"weren't\", 'won', \"won't\", 'wouldn', \"wouldn't\"]\n"
     ]
    }
   ],
   "source": [
    "stop_words = stopwords.words('english')\n",
    "print(stop_words)"
   ]
  },
  {
   "cell_type": "code",
   "execution_count": 19,
   "id": "8688fbdd-bec2-4977-9d3f-6c46474d52a7",
   "metadata": {},
   "outputs": [
    {
     "name": "stdout",
     "output_type": "stream",
     "text": [
      "{'values', 'Anyone', 'places', 'mythology', 'adventure', 'thrill', 'couple', 'fantasy', 'visual', 'American', '15', 'Greek', ')', 'years', '(', 'spectacle', 'take', 'around', 'fuses', 'contemporary', '.', 'give'}\n"
     ]
    }
   ],
   "source": [
    "filtered_sentence = [w for w in tokens if not w.lower() in stop_words]\n",
    "\n",
    "# also lets remove duplicates\n",
    "filtered_sentence = set(filtered_sentence)\n",
    "print(filtered_sentence)"
   ]
  },
  {
   "cell_type": "code",
   "execution_count": 20,
   "id": "6375fa8b-40a6-4cc3-8482-f7093a85ad8a",
   "metadata": {},
   "outputs": [
    {
     "name": "stdout",
     "output_type": "stream",
     "text": [
      "['values', 'Anyone', 'mythology', 'adventure', 'thrill', 'couple', 'fantasy', 'visual', 'American', 'Greek', 'years', 'spectacle', 'fuses', 'contemporary']\n"
     ]
    }
   ],
   "source": [
    "# function to test if something is a noun\n",
    "is_noun = lambda pos: pos[:2] == 'NN' or pos[:2] == 'JJ'\n",
    "\n",
    "nouns_and_adjectives = [word for (word, pos) in nltk.pos_tag(filtered_sentence) if is_noun(pos)] \n",
    "print(nouns_and_adjectives)"
   ]
  },
  {
   "cell_type": "code",
   "execution_count": 21,
   "id": "98a8afb9-ee28-4c03-834d-05b1db83a6f2",
   "metadata": {},
   "outputs": [
    {
     "name": "stdout",
     "output_type": "stream",
     "text": [
      "{'values': [1], 'Anyone': [1], 'mythology': [1], 'adventure': [1], 'thrill': [1], 'couple': [1], 'fantasy': [1], 'visual': [1], 'American': [1], 'Greek': [1], 'years': [1], 'spectacle': [1], 'fuses': [1], 'contemporary': [1]}\n"
     ]
    }
   ],
   "source": [
    "# this will create a dictionary of each term and the corresponding list of documents\n",
    "inverted_index = {index: [1] for index in nouns_and_adjectives}\n",
    "print(inverted_index)"
   ]
  },
  {
   "cell_type": "code",
   "execution_count": 22,
   "id": "0612b6d2-e9a7-46fb-ad50-4b70f73da874",
   "metadata": {},
   "outputs": [],
   "source": [
    "# now save this to a file\n",
    "with open('inverted_index.csv', 'w') as f:\n",
    "    for key in inverted_index.keys():\n",
    "        f.write(\"%s, %s\\n\" % (key,inverted_index[key]))"
   ]
  },
  {
   "cell_type": "code",
   "execution_count": 23,
   "id": "481a639d-22cb-4289-8d76-b28b5a720d46",
   "metadata": {},
   "outputs": [],
   "source": [
    "# get the list of stop words\n",
    "stop_words = stopwords.words('english')\n",
    "# function to test if something is a noun\n",
    "is_noun = lambda pos: pos[:2] == 'NN' or pos[:2] == 'JJ'\n",
    "counter=0\n",
    "inverted_index={}\n",
    "for review in disney_data[\"Review_Text\"] : \n",
    "    # tokenize the individual review\n",
    "    tokens = nltk.word_tokenize(review)\n",
    "    \n",
    "    # remove the stop words\n",
    "    filtered_sentence = [w for w in tokens if not w.lower() in stop_words]\n",
    "    \n",
    "    # also lets remove duplicates\n",
    "    filtered_sentence = set(filtered_sentence)\n",
    "    \n",
    "   \n",
    "    nouns_and_adjectives = [word for (word, pos) in nltk.pos_tag(filtered_sentence) if is_noun(pos)] \n",
    "    \n",
    "    # this will create a dictionary of each term and the corresponding list of documents\n",
    "    for index in nouns_and_adjectives:\n",
    "        try:\n",
    "            inverted_index[index].append(counter)\n",
    "        except: \n",
    "            inverted_index[index] = [counter]\n",
    "    \n",
    "    counter+=1"
   ]
  },
  {
   "cell_type": "code",
   "execution_count": 24,
   "id": "5c39cf98-0d9a-43f4-8445-742b95bab263",
   "metadata": {},
   "outputs": [
    {
     "name": "stdout",
     "output_type": "stream",
     "text": [
      "{'walk': [0, 15, 34, 106, 160], 'Kong': [0, 4, 5, 21, 22, 23, 26, 27, 32, 33, 34, 35, 37, 44, 49, 51, 57, 58, 68, 71, 74, 77, 82, 89, 90, 93, 96, 98, 103, 120, 128, 139, 142, 143, 144, 148, 151, 156, 163, 164, 166, 172, 175, 177, 181, 189, 191, 199], 'Hong': [0, 4, 5, 21, 22, 23, 26, 27, 32, 33, 34, 35, 36, 37, 44, 49, 51, 57, 58, 68, 71, 74, 77, 78, 82, 89, 90, 93, 96, 98, 120, 128, 139, 142, 143, 144, 148, 151, 156, 163, 164, 166, 172, 175, 177, 181, 189, 191, 199], 'layout': [0], 'street': [0, 16, 37, 46, 90, 96, 126, 148, 171], 'hot': [0, 2, 4, 12, 29, 138, 198], 'queues': [0, 42, 83, 87, 90, 93, 98, 105, 114, 129, 144, 148, 157], 'fabulous': [0, 83, 148], 'rides': [0, 2, 5, 8, 14, 15, 21, 26, 27, 28, 29, 32, 34, 35, 37, 40, 45, 46, 48, 51, 54, 62, 70, 71, 72, 73, 74, 76, 77, 80, 81, 83, 85, 86, 87, 88, 92, 98, 104, 105, 106, 110, 114, 118, 122, 124, 125, 131, 132, 137, 143, 144, 149, 150, 155, 157, 158, 160, 161, 163, 166, 167, 180, 181, 182, 183, 187, 193, 196], 'Disneyland': [0, 1, 3, 5, 8, 9, 10, 12, 18, 19, 21, 23, 26, 27, 29, 32, 33, 34, 35, 36, 37, 42, 44, 45, 47, 48, 49, 51, 57, 58, 64, 70, 72, 74, 75, 76, 77, 79, 85, 88, 89, 90, 93, 96, 98, 99, 106, 107, 108, 109, 111, 113, 114, 117, 122, 124, 125, 126, 127, 128, 129, 130, 132, 133, 140, 141, 142, 143, 144, 145, 147, 148, 150, 151, 153, 154, 156, 157, 158, 159, 163, 164, 166, 167, 170, 171, 172, 173, 174, 177, 178, 179, 180, 181, 182, 183, 190, 191, 199], 'main': [0, 2, 23, 29, 37, 53, 101, 110, 144, 148, 171], 'similar': [0, 98, 169, 179], 'find': [0, 8, 91, 104], 'World': [0, 5, 44, 51, 113, 121, 135, 140], 'Small': [0, 52, 90, 121, 190], 'day': [0, 2, 6, 9, 11, 12, 14, 15, 16, 17, 20, 22, 29, 31, 32, 33, 35, 36, 37, 40, 43, 44, 46, 49, 52, 53, 58, 60, 64, 66, 71, 76, 77, 78, 79, 80, 81, 85, 86, 90, 91, 92, 96, 98, 103, 105, 106, 108, 115, 116, 117, 118, 119, 120, 121, 122, 126, 129, 130, 138, 140, 141, 143, 144, 145, 148, 149, 151, 156, 158, 164, 165, 167, 169, 170, 171, 172, 173, 175, 179, 180, 188, 190, 191, 194, 195, 196], 'busy': [0, 2, 47, 58, 60, 77, 83, 92, 117, 133, 137, 157, 192], 'visited': [0, 61], 'familiar': [0], 'worth': [0, 15, 19, 24, 25, 26, 35, 45, 61, 80, 91, 92, 96, 120, 131, 143, 144, 166, 167, 169, 184, 189], 'Great': [1, 6, 18, 47, 50, 55, 104, 116, 151, 155, 173, 196], 'Park': [1, 7, 35, 75, 122, 127, 155, 182, 189], 'scenery': [1], 'Disney': [1, 5, 7, 8, 11, 15, 17, 21, 22, 28, 29, 31, 32, 34, 35, 36, 40, 44, 45, 51, 53, 55, 59, 62, 67, 68, 69, 71, 76, 77, 80, 82, 85, 87, 89, 90, 92, 94, 99, 100, 102, 103, 105, 113, 115, 120, 121, 122, 126, 128, 130, 131, 134, 135, 136, 139, 140, 141, 143, 144, 146, 148, 150, 155, 166, 169, 170, 172, 175, 179, 180, 181, 183, 188, 189, 191, 196, 198], 'Changed': [1], 'Man': [1, 22, 23, 24, 34, 37, 51, 52, 74, 98, 105, 119, 122, 130, 166, 179, 185], 'Wasp': [1, 23, 51, 74, 166], 'local': [1, 60, 83], 'time': [1, 2, 9, 11, 17, 20, 26, 32, 34, 47, 48, 49, 51, 56, 60, 61, 62, 64, 66, 68, 69, 72, 75, 77, 79, 82, 91, 92, 93, 95, 97, 99, 100, 103, 105, 107, 109, 112, 120, 121, 122, 126, 127, 128, 129, 132, 133, 140, 145, 147, 148, 151, 154, 155, 156, 157, 158, 160, 164, 165, 172, 177, 180, 186, 187, 189, 190, 192, 198], 'bit': [1, 2, 3, 31, 139, 175, 183, 185, 190], 'feature': [1], 'Ironman': [1, 35, 37, 119, 167], 'Marvel': [1, 35, 89, 158], 'last': [1, 2, 34, 64, 82, 86, 110, 126, 129, 156, 168, 191], 'attractive': [1], 'cast': [1, 77, 81, 121], 'face': [1], 'dun': [1], 'u': [1, 29, 134], 'brand': [1, 122], 'SMILING': [1], 'Happiest': [1], 'enter': [1, 64, 79, 97, 114, 121], 'Kowloon': [1, 37, 64], 'Tomorrowland': [1, 114, 122], 'theme': [1, 15, 39, 52, 75, 98, 100, 112, 113, 126, 170, 172, 197], 'AKA': [1], 'whole': [1, 138, 158, 165, 168, 196], 'Points': [1], 'sweets': [1], 'delicacies': [1], 'Main': [1, 7, 113, 121, 139, 159], 'wan': [1], 'Iron': [1, 21, 22, 24, 33, 34, 98, 105, 114, 122, 130, 166, 179, 185], 'Star': [1, 34, 90, 130, 150, 166], 'attraction': [1, 22, 54, 96, 138, 142, 166, 168, 172, 174, 177, 179], 'point': [1, 17, 47, 105, 179], 'something': [1, 2, 8, 53, 86, 113, 122, 145, 163, 167, 169, 179, 193], 'lightyear': [1], 'Ant': [1, 22, 23, 37, 51, 52, 74, 98, 122, 166], 'Dont': [1, 8], 'Turns': [1], 'Last': [1, 156], 'Yet': [1], '..': [1, 17, 60, 61, 63, 78, 112, 124, 170, 177], 'Hello': [1], 'central': [1, 53, 96, 169], 'Place': [1, 18], 'Felt': [1], 'Ocean': [1, 75, 122, 155, 182, 186, 190], 'worst': [1, 5], 'Space': [1, 34, 51, 99, 119, 122], 'visit': [1, 3, 7, 22, 24, 26, 35, 38, 45, 64, 71, 82, 84, 85, 86, 96, 99, 102, 107, 120, 123, 124, 127, 129, 134, 137, 142, 143, 145, 150, 151, 153, 159, 166, 170, 172, 176, 189, 191, 198], 'Bakery': [1, 7], 'Antman': [1, 35], 'stay': [1, 21, 28, 30, 38, 52, 90, 130, 197, 199], 'HK': [1, 3, 19, 29, 34, 64, 68, 75, 79, 90, 106, 108, 109, 110, 113, 122, 124, 129, 136, 139, 141, 145, 157, 158, 159, 162, 166, 167, 169, 170, 171, 172, 178, 179, 188, 193], 'previous': [1, 71], 'Good': [1, 50, 63], 'Street': [1, 7, 106, 139], 'Seems': [1, 8], 'Earth': [1], 'Experience': [1, 34, 163, 166], 'Exciting': [1], 'open': [1, 20, 29, 36, 37, 47, 90, 92, 115, 143, 144, 148, 157, 166, 169], 'park': [1, 2, 8, 12, 15, 21, 22, 26, 29, 32, 34, 35, 36, 40, 44, 47, 52, 53, 55, 64, 69, 71, 72, 75, 77, 78, 79, 81, 83, 85, 86, 90, 92, 96, 98, 99, 100, 102, 105, 107, 113, 119, 121, 122, 123, 124, 126, 133, 139, 142, 143, 144, 146, 150, 157, 158, 159, 160, 165, 166, 169, 170, 171, 172, 174, 179, 181, 193, 195, 197], 'MINUS': [1], 'members': [1, 77, 79, 81, 104, 121, 166, 170, 183], 'area': [1, 15, 90, 95, 98, 100, 105, 165], 'Starbucks': [1, 2], 'Buzz': [1, 122], 'Mountain': [1, 27, 29, 34, 35, 37, 74, 119, 122, 130, 150, 163, 172], 'staffs': [1, 73, 86, 187], 'issue': [2, 79], 'grand': [2], '.The': [2, 143], '.Although': [2], '.I': [2], 'food': [2, 3, 5, 7, 15, 22, 23, 29, 34, 42, 44, 46, 48, 52, 53, 54, 58, 60, 65, 66, 68, 78, 80, 85, 90, 92, 95, 99, 104, 108, 114, 118, 121, 122, 124, 131, 137, 139, 140, 156, 171, 183, 192, 194, 196], 'certain': [2, 34, 108, 126], 'God': [2], 'attractions': [2, 5, 7, 9, 14, 23, 26, 35, 54, 82, 87, 93, 101, 102, 111, 123, 145, 158, 159, 166, 172, 183, 186, 190, 198], 'big': [2, 21, 37, 41, 61, 74, 90, 92, 99, 123, 126, 128, 151, 163, 165, 166, 170, 180, 181, 183, 186], 'humid': [2], 'underwhelmed': [2], 'good': [2, 5, 20, 22, 31, 33, 37, 44, 58, 66, 67, 70, 78, 85, 90, 92, 99, 104, 106, 117, 119, 127, 128, 129, 138, 139, 148, 149, 155, 160, 161, 164, 186, 191, 193, 194, 196], 'great': [2, 3, 11, 14, 22, 24, 26, 31, 32, 34, 35, 37, 40, 47, 60, 61, 65, 66, 68, 69, 70, 78, 79, 81, 85, 86, 90, 99, 102, 103, 104, 105, 110, 114, 121, 122, 124, 133, 139, 140, 141, 146, 151, 155, 156, 166, 167, 172, 174, 175, 176, 185, 188, 190, 194, 196], 'felt': [2, 77, 192], 'enjoy.It': [2], 'amazing': [2, 30, 62, 90, 134, 139, 160, 194], 'gift': [2, 5, 58, 122], 'minutes': [2, 21, 32, 34, 43, 46, 71, 77, 104, 106, 115, 117, 118, 125, 169, 179, 198], 'choice': [2, 21, 39, 130, 187], 'bad': [2, 6, 8, 72, 122, 167, 194, 195], 'much': [2, 5, 10, 30, 32, 34, 43, 63, 68, 75, 82, 86, 124, 143, 149, 150, 162, 170, 181, 190], 'castle': [2, 3, 12, 21, 28, 53, 72, 109, 110, 128, 139, 141, 144, 146, 148, 167, 172, 173, 186], 'lot': [2, 17, 21, 31, 33, 35, 67, 87, 100, 108, 123, 176], 'hours': [2, 31, 51, 64, 94, 100, 120, 123, 126, 137, 148, 157, 172, 179, 181], 'toilets': [2], 'longest': [2, 26, 71, 77, 142], 'small': [2, 5, 15, 17, 21, 29, 33, 40, 44, 50, 57, 62, 76, 81, 87, 99, 114, 122, 123, 131, 135, 137, 146, 156, 157, 166, 170, 193, 196], 'options': [2, 14, 31, 85, 99, 121, 124, 140, 196], 'everyone': [2, 15, 17, 38, 86, 143, 174], 'way': [2, 5, 29, 36, 78, 83, 108, 119, 122, 147, 151, 153, 162, 166, 175], 'plenty': [2, 35, 42, 157], 'parade': [2, 5, 6, 46, 73, 85, 96, 104, 122, 128, 148, 171, 172, 183, 198], 'coffee': [2], 'queue': [2, 28, 74, 90, 114, 118, 124, 137, 185, 187, 192, 196], 'shops': [2, 3, 5, 11, 29, 36, 92, 104, 117, 118, 122, 165, 194], 'everywhere.All': [2], 'present': [3], 'closed': [3, 59, 87], 'roof': [3], 'midweek': [3], 'areas': [3, 25, 59, 98, 108, 129], 'number': [3, 9, 34, 46, 79, 99, 120, 167], 'souvenir': [3, 117, 194], 'work': [3, 9, 25], 'compact': [3], 'maintenance': [3, 29, 141, 163, 173], 'pay': [3, 195], 'kids': [3, 4, 11, 22, 26, 31, 35, 45, 52, 63, 65, 70, 81, 85, 90, 91, 92, 95, 97, 112, 113, 114, 122, 126, 130, 131, 147, 151, 160, 190, 198], 'bus': [3, 77, 95, 108], 'top': [3, 22, 110], 'avoid': [3, 74, 87], 'dollar': [3], 'famous': [3], 'drinks': [3], 'snacks': [3, 38, 90], 'prepared': [3, 7], 'Regardless': [3], 'notice': [3, 34], 'prices': [3, 22, 29, 108, 123, 194], 'LA': [3, 34, 61, 80, 92], 'hour': [4, 17, 24, 36, 57, 137, 199], 'Kowlon': [4], 'disneyland': [4, 52, 61, 110, 132], 'fine': [4, 151], 'everything': [4, 9, 34, 66, 76, 87, 123, 148, 156, 179], 'location': [4, 141, 166], 'city': [4, 53, 198], 'lines': [5, 41, 68, 80, 86, 108, 113, 130, 140, 157, 159, 181, 182, 183], 'Basically': [5], 'people': [5, 8, 32, 34, 36, 57, 60, 86, 87, 124, 143, 155, 156, 158, 159, 165, 169, 183, 195, 198], 'tickets': [5, 15, 21, 23, 34, 36, 46, 47, 53, 79, 80, 87, 90, 92, 97, 103, 105, 114, 121, 139, 142, 181], 'expensive': [5, 15, 17, 23, 26, 29, 38, 42, 58, 78, 90, 105, 114, 122, 159, 185], 'Tokyo': [5, 34, 98, 99, 113, 141, 157, 166, 169, 181, 199], 'property': [5], 'cutting': [5], 'problem': [5], 'Souvenirs': [5, 23], 'entrance': [5, 23, 61, 101, 105], 'free': [5, 17, 21, 24, 61, 68, 86, 90, 122, 143, 187], 'fountains': [5, 160], 'seats': [5, 29, 63, 79, 169], 'happen': [5], 'stands': [5], 'see': [5, 50, 66, 87, 89, 92, 128, 157], 'children': [5, 12, 14, 22, 25, 37, 50, 59, 67, 68, 93, 107, 112, 127, 129, 152, 155, 161, 164, 180, 181], 'water': [5, 42, 90, 114, 131], 'acceptable': [5], 'Anaheim': [5, 29, 41, 45, 113, 120, 136, 142, 157, 166, 181], 'loved': [6, 32], 'go': [6], 'place': [6, 8, 13, 14, 17, 21, 38, 46, 56, 73, 84, 86, 94, 95, 116, 124, 145, 149, 152, 153, 156, 157, 158, 172, 176, 179, 187, 196, 198], 'week': [7, 17, 47, 53, 87, 98, 138, 140, 175], 'service': [7, 40, 44, 61, 156], 'example': [7], 'magic': [7, 160, 171], 'week.The': [7], 'typical': [7, 140, 172, 179], 'Maxim': [7], 'private': [7], 'Restaurant': [7, 34], 'Corner': [7], 'staff': [7, 8, 48, 62, 63, 86, 93, 97, 104, 122, 133, 146, 154, 160, 167, 170, 183, 191, 192], 'mid': [7, 37, 175], 'Tue': [7], 'plan': [7, 195], 'HongKong': [7, 48], 'events': [7, 130], 'abrupt': [7, 133], 'style': [7, 29, 34, 120], 'Thur': [7], 'ones': [7, 11, 20, 50, 100, 104, 115, 131, 146], 'Thu': [7], 'Almost': [7], 'Think': [7], 'Cafe': [7], 'biggest': [7, 129, 158, 159, 168], 'Wed': [7], 'intro': [7], 'drawback': [7, 156], 'disappointment': [7, 71, 87, 110, 159], 'little': [7, 21, 31, 32, 34, 78, 92, 100, 109, 115, 129, 139, 149], 'Theatre': [7, 90, 133], 'Storybook': [7], 'decent': [7, 103, 124], 'amount': [8, 79, 163], 'rooms': [8, 75, 156], 'waste': [8, 157, 169], 'Walt': [8, 44], 'fantastic': [8, 14, 45, 73, 108, 175, 195], 'want': [8, 24, 92, 105, 108, 159], 'rain': [8, 32, 37, 49, 106, 109], 'characters': [8, 34, 51, 81, 85, 94, 111, 121, 126, 128, 140, 141, 144, 159, 165, 189, 198], 'money': [8, 11, 79, 92, 123, 139, 142, 144, 157, 163, 164, 167, 169], 'fantasy': [8, 178], 'enough': [8, 16, 64, 65, 85, 87, 91, 100, 143, 149, 156, 159, 169, 180], 'building': [8, 25], 'train': [8, 20, 21, 34, 36, 61, 90, 96, 103, 111, 139, 140, 143, 156, 169, 171, 180, 182], 'fun': [8, 10, 13, 34, 35, 42, 44, 49, 55, 58, 65, 78, 80, 82, 84, 102, 113, 117, 124, 130, 141, 149, 152, 160, 161, 162, 163, 167, 170, 172, 178, 180], 'Feel': [8], 'signage': [8, 37], 'map': [8, 61, 103, 172], 'cabana': [8], 'visitors': [8, 46, 122, 126, 159], 'station': [8, 9, 36, 64, 90, 95, 108, 143, 171], 'rainning': [8], 'environment': [9, 67], 'Trains': [9, 125, 159], 'true': [9, 86, 120, 121, 171], 'online': [9, 79, 95, 101, 103, 105], 'Lion': [9, 20, 29, 34, 42, 90, 98, 99, 112, 128, 130, 147, 169, 182], 'Micky': [9, 67, 186], 'Starting': [9], 'maximise': [9, 137], 'Ticket': [9, 137], 'comparison': [9, 180], 'MTR': [9, 34, 35, 37, 81, 90, 95, 103, 106, 108, 111, 115, 126, 148, 159, 160, 171, 175, 193, 198], 'Jungle': [9, 34, 163], 'Show': [9, 42, 115, 182], 'spot': [9, 61, 79, 198], 'home': [9, 21, 29, 89, 143, 192], 'opinion': [9, 34], 'Entrance': [9], 'ticket': [9, 20, 36, 64, 86, 90, 95, 101, 105, 121, 129, 143, 159, 185, 198], 'less': [9, 32], 'holidays': [9, 15, 83], 'public': [9, 138], 'King': [9, 20, 29, 34, 42, 90, 98, 99, 128, 130, 147, 169, 182], 'popcorn': [9, 34, 105, 128], 'Day': [9], 'ShowIt': [9], 'Cruise': [9, 34, 163], 'Whatever': [9], 'incomplete': [9], 'HKD': [9, 74, 92, 124], 'River': [9, 163], 'Magic': [9, 24, 51], 'Must': [9, 16, 64], 'Phillhar': [9], 'Else': [9], 'cover': [9], 'Timings': [9], 'Miss': [9], 'regarding': [9], 'nope': [10], 'kid': [10, 69, 79, 122, 124, 150, 168, 181], 'cease': [10], 'hong': [10], 'kong': [10], 'DL': [10, 166], 'florida': [10], 'many': [11, 12, 26, 28, 32, 33, 56, 57, 63, 74, 83, 87, 89, 90, 92, 98, 113, 121, 122, 129, 131, 138, 140, 141, 152, 156, 158, 163, 188, 192, 198], 'mountain': [11, 33, 114, 128], 'spent': [11, 79, 80, 98, 163], 'king': [11, 90, 133], 'course': [11, 148, 172], 'lion': [11, 83, 90, 133], 'man': [11, 21, 22, 33, 114], 'experience': [11, 14, 18, 21, 29, 32, 33, 34, 38, 62, 70, 71, 79, 81, 85, 87, 103, 105, 110, 114, 122, 130, 141, 144, 167, 176, 179, 182, 184, 197], 'house': [11, 24, 113, 171], 'spend': [11, 112, 158, 165, 175, 196], 'parks': [11, 15, 26, 32, 43, 64, 77, 78, 91, 99, 105, 166, 191], 'lots': [11, 16, 42, 78, 90, 99, 122, 129, 144, 165, 168], 'list': [11, 88, 150], 'catch': [11, 36, 143], 'space': [11, 166, 195], 'iron': [11], 'tire': [11], 'disappointing': [12, 29, 37, 123, 193], 'suitable': [12], 'Would': [12, 176], 'days': [12, 15, 16, 34, 91, 99, 104, 106, 107, 124, 136, 138, 154, 157, 189], 'early': [12, 24, 28, 31, 106, 138, 181, 195], 'fireworks': [12, 22, 28, 38, 108, 109, 146, 154, 198], 'straight': [12, 86], 'season': [12, 172], 'lineups': [12], 'young': [12, 25, 35, 73, 79, 85, 107, 127, 155, 161, 184], 'second': [12, 20, 26, 29, 75, 86, 109], 'daughter': [13, 75, 112, 150, 184, 189], 'birthday': [13], 'family': [13, 14, 32, 34, 35, 41, 55, 58, 69, 83, 85, 92, 109, 130, 131, 152, 155, 164, 168, 172, 176, 188, 198], 'memorable': [13, 38, 41, 130], 'happiest': [13, 157, 198], 'earth': [13, 157], 'helpful': [14, 61, 122, 146, 160, 191], 'ages': [14, 22, 73, 86, 96, 127, 132], 'models': [14], 'Definately': [14], 'Food': [14, 26, 38, 161, 187], 'Staff': [14, 30, 67, 133, 167], 'need': [14, 41, 76, 90, 93, 125, 169, 172, 187, 195], 'HUGE': [14], 'variety': [14, 68, 89, 99, 159, 181], 'awesome': [14], 'wait': [15, 17, 21, 24, 26, 46, 71, 72, 77, 86, 92, 103, 115, 117, 142, 169, 179], 'Castle': [15, 20, 23, 29, 108, 112, 121, 163], 'recommend': [15, 58, 93, 99, 103, 117, 125, 152, 179], 'deal': [15, 139], 'weekday': [15, 72, 93, 114, 125, 129], 'due': [15, 28, 37, 87, 108, 129, 173], '.This': [15], 'min': [15, 103], 'general': [15], 'weekends': [15, 74], 'price': [15, 36, 74, 122, 144, 170, 190], 'drink': [15, 17, 100, 105], 'pass': [16, 29, 34, 85, 90, 103, 105, 124, 151, 157, 159, 163, 185, 196], 'huge': [16, 31, 42, 58, 100, 133, 145, 152, 194], 'scenes': [16], 'enjoyed': [16], 'show': [16, 86, 90, 115, 128, 133, 143, 171, 198], 'Visit': [16], 'pm': [16, 114], 'movies': [16], 'character': [16, 166], 'fairytales': [16], 'person': [17, 61, 169, 186], 'single': [17, 88, 124], 'ride': [17, 21, 27, 29, 34, 42, 51, 52, 59, 61, 62, 86, 90, 100, 102, 105, 111, 117, 130, 139, 163, 167, 169, 170, 171, 182, 183], 'half': [17, 137, 151, 190], 'track': [17, 86, 103], 'fortune': [17], 'Fast': [17, 119, 142], 'rider': [17], 'average': [17, 48, 57, 114], 'look': [17], 'construction': [17, 21, 22, 64, 72, 123, 172], 'speaks': [18], 'smaller': [18, 32, 34, 45, 47, 55, 59, 63, 86, 89, 91, 98, 104, 115, 119, 131, 133, 140, 141, 150, 168, 172, 173, 179, 181, 188, 189], 'become': [19], 'Easy': [19, 140, 148, 165, 175], 'child': [19, 29, 38, 124, 130, 152, 153, 178], 'stations': [19], 'trams': [19], 'Wait': [19], 'subway': [19, 21], 'come': [19, 198], 'step': [19, 197], 'nothing': [19, 113, 117, 139], 'value': [20, 46, 78, 137, 157, 164], 'Moana': [20, 42, 115], 'tourist': [20, 78, 161], 'Unfortunately': [20, 172], 'visible': [20], 'queuing.The': [20], 'better': [20, 83, 108], 'magical': [20, 81, 121, 158, 169, 172, 198], 'favourite': [20, 35, 82, 133, 139, 157, 170], 'Wondrous': [20, 51, 99, 128], 'works': [20, 53], 'Book': [20, 51, 61, 99, 128, 147], 'bearings': [20], 'parades': [20, 28, 51, 81, 126, 130, 160], 'Mickey': [20, 22, 24, 34, 51, 54, 74, 90, 98, 128, 160, 163, 179, 180, 182], 'shows': [20, 34, 48, 61, 76, 77, 80, 89, 99, 120, 134, 136, 147, 172, 196], 'Klook': [20, 87, 90, 97, 139, 142, 181], 'read': [21, 36, 61, 63], 'Wednesday': [21, 28], 'line': [21, 22, 24, 32, 34, 35, 36, 53, 57, 91, 92, 103, 104, 115, 121, 123, 165, 195], 'okay': [21, 113], 'tip': [21], 'downtown': [21], 'fan': [21, 44, 51, 65, 99, 134, 170], 'slow': [21, 34, 139], 'back': [21, 106], 'themes': [21], 'able': [21, 31, 32, 33, 51, 54, 62, 103, 163, 179], 'sure': [21, 22, 43, 47, 71, 100, 102, 121, 146, 198], 'super': [21, 44, 48, 83, 91, 104], 'get': [21, 29, 31, 33, 56, 58, 83, 115, 124, 143, 149, 163, 167, 169, 193, 194], 'nice': [21, 24, 52, 57, 62, 67, 75, 93, 112, 155, 157, 172, 174], 'life': [21, 64, 178], 'live': [21], 'idea': [21], 'easy': [21, 26, 33, 35, 36, 37, 58, 74, 78, 81, 85, 87, 97, 103, 106, 143, 169, 175], 'Next': [21], 'description': [21], 'First': [21, 180], 'thrill': [21, 26, 35, 43, 74, 122, 155, 172, 190], 'years': [21, 26, 82, 109, 112, 122, 137, 160], 'seekers': [21, 35], 'impressed': [21], 'California': [21, 32, 119, 179, 189], 'vacation': [21, 85], 'year': [22, 30, 46, 61, 91, 92, 100, 104, 177, 183, 189], 'disappointed': [22, 80, 108, 180], 'Wounderous': [22], 'reasonable': [22], 'roller': [22, 26, 167], 'new': [22, 23, 51, 52, 55, 61, 82, 86, 99, 100, 122, 129, 156, 166, 170, 177, 183], 'restaurant': [22, 31, 53, 71, 74, 137, 175], 'major': [22, 122], 'afraid': [22, 74], 'best': [22, 34, 52, 68, 88, 99, 116, 124, 126, 127, 132, 157, 159, 198], 'old': [22, 30, 34, 61, 91, 92, 104, 124, 170, 189], 'Overall': [22, 75, 102, 103, 113, 133, 155, 166, 171, 190], 'coasters': [22], 'book': [22, 169], 'wonderful': [22, 73, 104, 124, 154, 164, 182, 197], 'Standard': [22], 'Adults': [22], 'beautiful': [22, 32, 56, 116, 198], 'Chinese': [22, 126, 136, 161, 169, 179], 'square': [23], 'Beauty': [23, 163, 172], 'Sleeping': [23, 163], 'renovation': [23, 26, 72, 108, 109, 110], 'scaffolding': [23], 'region': [23], 'Disneylands': [23, 25], 'flat': [23, 137], 'excellent': [24, 26, 70, 125], 'rides.Adventure': [24], 'Roller': [24, 156], 'photo': [24, 67, 85, 112, 198], 'treetop': [24], 'signboards': [24], 'available': [24, 40, 68, 85, 112, 117, 163, 171], 'twice.Philar': [24], 'land': [24, 29, 36, 90, 124, 139, 158, 168], 'Gulch': [24, 125, 167], 'GO': [24, 73], 'favourites': [24], 'Duck': [24], 'cruise': [24, 114], 'kids.Grizzly': [24], 'Otherwise': [24, 150], 'opportunities': [24], 'Land': [24, 37, 196], 'Donald': [24], 'awesome.Fantasy': [24], 'Coaster': [24, 119, 156], 'photos': [24, 161], 'Tarzan': [24, 74], 'boat': [24, 124, 171], 'Definitely': [25, 84], 'world': [25, 28, 63, 77, 90, 124, 129, 153, 158, 166, 173, 178, 181], 'language': [25], 'different': [25, 31, 39, 46, 55, 80, 85, 104, 105, 178, 179, 181, 193], 'shame': [25], 'generic': [25], 'others': [25, 33, 63, 86, 99, 119, 140, 168], 'standard': [26, 120, 133], 'warm': [26, 143, 192], 'existent': [26, 157], 'non': [26, 124, 157, 192], 'smallish': [26], 'entry': [26, 36, 37, 46, 90, 105, 114, 143, 198], 'trip': [26, 39, 71, 72, 86, 88, 92, 106, 130, 145, 156, 159, 172], 'coaster': [26, 130, 150, 167], 'clean': [26, 40, 41, 46, 48, 56, 67, 73, 77, 135, 156, 164, 165, 166], 'outdoor': [26], 'qualify': [26, 124], 'Lines': [26, 33, 194], 'vegetarian': [26, 53], 'tidy': [26], 'inexpensive': [26, 124], 'high': [26, 85, 108, 123, 190], 'times': [27, 28, 48, 80, 81, 82, 87, 103, 108, 117, 129, 130, 156, 157, 181, 188], 'Big': [27, 34, 35, 37, 74, 150, 172], 'scary': [27, 29], 'try': [27, 105, 118, 126], 'Grizzly': [27, 34, 35, 37, 74, 119, 125, 157, 163, 172], 'courage': [27], 'short': [28, 33, 87, 98, 115, 147, 159], 'afternoon': [28, 37, 51, 108, 109, 128, 198], 'false': [29], 'husband': [29, 139, 143], 'concrete': [29], 'Hotel': [29, 34, 79], 'advertising': [29], 'poorer': [29], 'cheap': [29, 86], 'salad': [29], 'dinner': [29], 'Water': [29], 'Toy': [29, 34, 37, 90, 163], 'Biggest': [29], 'trains': [29, 36], 'burger': [29, 53, 137], 'places': [29, 117], 'vouchers': [29, 34], 'enjoy': [29, 37, 74, 127, 129, 130, 132, 172, 177, 199], 'combo': [29], 'crappy': [29, 144], 'discount': [29, 61, 103, 181], 'camo': [29], 'light': [29, 73, 96, 106, 139, 169], 'adults': [29, 31, 36, 50, 53, 65, 143, 164, 180, 190], 'AUD': [29, 92], 'breakfast': [29], 'thru': [29], 'sun': [29], 'note': [29], 'meal': [29, 137, 139], 'parents': [29, 58, 73, 137, 156], 'bakery': [29], 'charge': [29], 'astray': [29], 'equates': [29], 'insane': [29], 'Story': [29, 37, 115], '%': [29, 87, 103], 'flavourless': [29], 'weeks': [29, 105], 'elderly': [29], 'Train': [29], 'stating': [29], 'Hollywood': [29, 189], 'supermarkets': [29], 'crazy': [29], 'Come': [29], 'deep': [29], 'bottle': [29, 114], 'buffet': [29], 'shade': [29], 'st': [29], 'shades': [29], 'China': [29], 'coz': [29], 'cafes': [29], 'pram': [30], 'anything': [30], 'easier': [30, 34, 83, 103], 'hire': [30], 'hotels': [30, 34, 85, 174], 'Makes': [30], 'fault': [30, 68], 'Could': [30], 'adults.We': [31], 'foods': [31, 73, 181], 'highlight': [31, 86, 90, 99, 185], 'couple': [31, 35, 70, 94, 117, 181], 'bring': [31, 73, 178], 'caramel': [31, 194], 'restaurants': [31, 34, 59, 72, 80, 85, 87, 100, 167, 178, 183], 'shopping': [31, 37, 195], 'bars': [31, 160], 'available.The': [31], 'selection': [31], 'Try': [31, 52], 'umbrella': [31], 'daily': [31], 'special': [31, 39, 61, 74, 139, 140, 154], 'clothing': [31], 'Note': [31], 'gifts': [31, 118], 'hats': [31], 'Anaheim.We': [32], 'slower': [32], 'trepidation': [32], 'Loved': [32, 167], 'umbrellas': [32], 'months': [32], 'none': [32, 75, 105], 'undercover': [32], 'amounts': [32], 'large': [32], 'over.I': [32], 'previously.No': [32], 'HKDL': [32, 39], 'ups': [32, 195], 'mind': [32, 54, 133, 179], 'numbers': [32], 'car': [33, 105, 157], 'toy': [33, 139], 'story': [33, 90, 102, 139, 166], 'Shanghai': [33, 166, 181, 199], 'it.Yes': [34], 'front': [34, 105, 121], 'speed': [34], 'script': [34], 'flyer': [34], 'trackless': [34], 'beware': [34], 'Stark': [34], 'Vouchers': [34], 'choose': [34, 178], 'fussy': [34], 'email': [34], 'etc': [34], 'sooo': [34], 'decorations': [34, 51, 155], 'system': [34], 'Walking': [34], 'Mystic': [34, 37, 51, 74, 102, 114, 124, 125, 139, 150, 163, 166, 172], 'run': [34, 139, 175], 'HKL': [34], 'Card': [34], 'Cars': [34, 74, 163, 172], 'morning': [34, 52, 121, 168, 198], 'Manor': [34, 37, 51, 74, 102, 114, 125, 139, 163, 166, 169, 172], 'buses': [34], 'Lodge': [34], 'difference': [34], 'carriages': [34], 'Tomorrowland.We': [34], 'Market': [34], 'fun.When': [34], 'Sunny': [34, 36, 143], 'net': [34], 'Christmas': [34, 39, 172], 'Bay': [34, 36, 143], 'simulator': [34], 'Lunch': [34], 'serve': [34], 'option': [34, 139, 150], 'fastpass': [34], 'travel': [34, 36, 162], 'hub': [34], 'version': [34, 150, 166], 'Dinner': [34], 'sad': [34, 109, 112, 129, 149], 'gates': [34, 90, 108], 'Explorers': [34, 67, 77], 'break': [34, 144], 'fun.Unique': [34], 'use': [34, 61, 86, 90, 105, 142, 181], 'Asian': [34, 175], 'Dining': [34], 'Octopus': [34], 'Starliner': [34, 137], 'things': [34, 37, 56, 64, 100, 138, 195], 'website': [34, 77, 93], 'link': [34], 'Station': [34, 36, 53], 'QR': [34, 97], 'entitled': [34], 'Hotels': [34], 'great.HK': [34], 'quietness': [34], 'Lots': [34, 140, 165, 180], 'unique': [34, 35, 102, 179], 'ferry': [34, 108], 'double': [34, 87], 'electronic': [34], 'Cantonese': [34, 179], 'change': [34], 'Central': [34, 58, 108, 162], 'girls': [34, 188], 'Government': [34], 'PhilharMagic': [34], 'burgers': [34], 'skippers': [34], 'Windows': [34], 'Storyland': [34], 'iceblock': [34], 'ate': [34, 175], 'Mine': [34, 37, 74, 82, 90, 125, 163, 172], 'Caribbean': [34], 'Wars': [34, 90, 130, 150], 'Sea': [34, 181], 'bay': [34], 'choices': [34, 104, 131], 'Runaway': [34, 37, 74, 82, 125, 163, 172], 'Shaped': [34], 'varies': [34], 'rough': [34], 'passes': [34, 86, 92, 191], 'scan': [34, 97, 114], 'allows': [34], 'English': [34, 77], 'Australia': [34], 'transport': [34], 'sent': [34], 'overlay': [34], 'unexpected': [35], 'families': [35], 'simple': [35, 119], 'heaps': [35], 'kind': [35, 154], 'younger': [35, 131], 'see.If': [35], 'chance': [35], 'navigable': [35], 'RC': [35, 157], 'here.The': [35], 'full': [35, 46, 53, 80, 81, 101, 141, 178, 180, 181, 191], 'experiences': [35], 'Toystoryland': [35], 'Racer': [35], 'Australian': [35], 'Mong': [36], 'sales': [36], 'rate': [36, 143], 'taxi': [36, 105, 108, 124], 'costs': [36, 124], 'CTS': [36], 'right': [36, 42, 108], 'Nathan': [36], 'mong': [36], 'pink': [36], 'Lai': [36], 'numerous': [36], 'cok': [36], 'bank': [36], 'letter': [36], 'Kok': [36], 'box': [36], 'hand': [36, 94], 'swap': [36], 'Thai': [36], 'centre': [36], 'roadAs': [36], 'road': [36], 'minutes.On': [36], 'purchase': [36, 68, 97, 105, 137, 142], 'cheapest': [36, 139], 'orange': [36], 'office': [36], 'level': [36], 'problems': [36, 178], 'next': [36, 77, 105, 156, 169], 'Bank': [36], 'advisor': [36], 'route': [36], 'USA': [37, 115, 117, 142], 'Happy': [37], 'Though': [37, 168], 'stop': [37, 71, 86, 109, 192], 'town': [37, 167], 'cars': [37], 'crowds': [37, 79, 129, 181, 194], 'Characters': [37, 106, 160], 'Hyperspace': [37, 74, 114, 130, 163], 'favorite': [37, 115, 181], 'ghost': [37], 'understand': [38], 'May': [39], 'Spring': [39], 'Carnival': [39], 'Year': [39, 179], 'Halloween': [39, 66, 113], 'Apr': [39], 'Thats': [39], 'decorate': [39], 'check': [39, 64, 71, 102, 105, 169, 172], 'period': [39, 46], 'join': [39], 'Chines': [39], 'November': [39], 'Jan': [39], 'Feb': [39, 192], 'charaters': [39], 'Summer': [39], 'costume': [39], 'disney': [39, 43, 106, 111, 165, 168], 'event': [39], 'Mar': [39], 'New': [39, 126, 169, 179], 'customer': [40], 'tame': [40, 99], 'priority': [41, 47, 63, 75, 77, 92, 105, 124, 157, 185], 'Visited': [41, 113, 144], 'rollercoasters': [42, 131], 'tripods': [42], 'movie': [42], 'reusable': [42], 'Festival': [42], 'container': [42], 'eat': [42, 68, 100, 158], 'production': [42], 'songs': [42], 'Maui': [42], 'miss': [42, 61, 168], 'shoes': [42, 167], 'comfortable': [42, 167], 'sticks': [42], 'reminders': [42], 'quees': [43], 'honest': [43, 198], 'lacks': [43], 'impression': [43], 'Waits': [43], 'overall': [43, 62, 78], 'Nugget': [44], 'Saloon': [44], 'best.A': [44], 'Lucky': [44], 'tick': [44], 'lunch': [44, 104, 105, 137], 'cute': [44, 100, 104, 161, 163, 165, 182], 'group': [45, 61, 164, 167, 170, 172], 'skip': [45], 'Inn': [45], 'Plaza': [45], 'till': [46, 100, 110], 'various': [46, 179], 'fee': [46, 135, 159], 'Disneyworld': [46], 'old.Back': [46], 'Exhausting': [46], 'Orlando': [46, 51, 139, 159, 166], 'first': [46, 75, 177, 181], 'ie': [46], 'whereas': [46], 'zone': [47], 'Queues': [47, 79], 'Sunday': [47], 'weekend': [47], 'Saturday': [47], 'ok': [48, 59, 139], 'terrific': [48, 194], 'let': [48, 61, 79], 'enjoyable': [48, 98, 103, 122, 183, 196], 'friendly': [48, 152, 160, 165, 167, 170, 174, 183, 191], 'adult': [49, 70, 127, 175], 'exciting': [50], 'bigger': [50], 'Parks': [51, 169], 'college': [51], 'Paris': [51, 99, 113, 119, 166, 170, 190], 'dressed': [51], 'c': [51], 'night': [51, 73, 96, 98, 104, 109, 110, 168, 169, 192, 198], 'a.m': [51], 'Lightyear': [51], 'Parade': [51, 109, 168, 196], 'Ranger': [51], 'smallest': [51, 77, 120, 169], 'b': [51], 'Electro': [51], 'Easter': [51], 'Pricey': [52], 'part': [52, 72, 102, 124, 133], 'maximize': [52], 'hotel': [52, 67, 85, 92, 106, 108, 156, 189], 'additional': [53], 'cob': [53], 'publicity': [53], 'downside': [53], 'corn': [53, 124], 'variation': [53], 'VIP': [53, 169], 'Status': [53], 'outlets': [53], 'reparation': [53], 'Mind': [53], 'up.It': [53], 'liked': [53], 'pop': [53], 'friend': [53, 136], 'hard': [53, 63, 133], 'selves': [53], 'needs': [54, 191], 'meet': [54, 198], 'blew': [54], 'friends': [54, 149, 152, 156], 'entertainment': [54, 193], 'Glad': [54], 'Awesome': [54, 176], 'halal': [54, 73, 74], 'Facilities': [55], 'games': [55, 80, 100], 'fact': [55, 82, 98, 134, 146, 170], 'safe': [56], 'Love': [56, 109], 'MRT': [56, 129], 'Night': [56, 109], 'long': [57, 79, 80, 94, 121, 130, 141, 144, 156, 183, 196], 'tram': [57, 116], 'transit': [57], 'impressive': [57], 'shop': [58, 163], 'sisters': [58], 'teenage': [58], 'think': [58, 83, 129, 133, 141], 'offerings': [58], 'western': [59, 137], 'holiday': [60, 172, 177], 'Went': [60, 90, 98, 106], 'x': [60], 'polite': [60], 'xx': [60], 'brilliant': [60], 'age': [61, 82, 143, 188], 'belong': [61], 'wont': [61], 'park.We': [61], 'manage': [61], 'access': [61, 74, 79, 175], 'ASK': [61], 'leav': [61], 'Always': [61], 'exit': [61], 'tips': [61], 'wifi': [61], 'dont': [61], 'klook': [61], 'employees': [61, 183], 'LAND': [61], 'thier': [61], 'creative.6': [61], 'bag': [61, 86, 90], 'amusement': [61], 'trolley': [61], 'points': [61], 'booking': [61, 102], 'superb': [61], 'PAY': [61], 'navigate': [61, 115], 'keep': [61, 77, 183], 'give': [61, 102], 'BACKPACK': [61], 'reach': [61, 111, 171, 198], 'fellow': [61], 'schedule.5': [61], 'luggage': [61, 64], 'door': [61], 'ask': [61, 70], 'storage': [61, 86], 'timings': [61], 'marvellous': [61], 'soveniour': [61], 'app': [61, 103, 142], 'REMEMBER': [61], 'saves': [61, 129], 'allowed.2': [61], 'interior': [61], 'POLITELY.Rest': [61], 'direction': [61, 63], 'travellers.Tip': [61], 'stickers': [61, 104, 146, 187], 'worked': [62], 'Signs': [63], 'que': [63], 'bonus': [63], 'Toilets': [63], 'autistic': [63], 'Arrows': [63], 'son': [63, 68], 'Way': [63], 'random': [63], 'interact': [63], 'plentiful': [63], 'ques': [63], 'Superb': [64], 'capture': [64, 198], 'amusements': [64], 'excursions': [64], 'Fantastic': [64, 95, 197], 'creation': [64], 'tour': [64, 108, 169], 'Better': [64, 67, 95], 'everyday': [64], 'item': [64, 108], 'dawn': [64], 'snaps': [64], 'avenues': [65], 'Lovely': [66], 'play': [67, 82, 132, 156], 'guest': [67, 95, 105], 'resort': [67], 'effective': [67], 'Explorer': [67], 'bathrobe': [67], 'feeling': [67, 176], 'activities': [67, 98, 130, 149, 152], 'pool': [67], 'steak': [68], 'ownership': [68], 'either': [68], 'improvements': [68], 'items': [68], 'American': [68, 133], 'icon': [68], 'menus': [68], 'Children': [68], 'wife': [68, 82, 112], 'conscious': [68], 'selections': [68], 'menu': [68], 'US': [68, 105, 135, 150], 'grandson': [68, 133], 'sensitive': [68], 'allergies': [68], 'Weather': [69], 'joy': [69], 'offer': [69], 'eyes': [69, 168, 186], 'Took': [69], 'performers': [70], 'Rides': [70], 'towards': [70], 'return': [71, 126, 169], 'closures': [71], 'quiet': [71], 'third': [71], 'expensive.This': [71], 'go.We': [71], 'prevent': [71], 'case': [71, 159], 'recent': [71], 'Limited': [72, 120], 'least': [72, 157], 'fantabulous': [73], 'alot': [73], 'MUST': [73], 'Battle': [74], 'lol': [74], 'muslim': [74], 'Terrace': [74], 'close': [74, 86, 108], 'Shame': [74], 'Tahitian': [74], 'Treehouse': [74], 'backward': [74], 'Phillarmagic': [74], 'ranges': [74], 'drop': [74, 169], 'traveler': [74], 'weekdays': [74, 125], 'Nano': [74], 'liquid': [75], 'cubicle': [75], 'dispenser': [75], 'Maybe': [75, 141], 'malls': [75], 'toilet': [75], 'comfort': [75], 'disneyland.Staff': [75], 'pregnant': [75], 'regular': [75, 99], 'detail': [76, 139], 'Tuesday': [76, 125, 157], 'NZ': [76], 'attention': [76, 86], 'March': [76, 106, 127, 144, 157], 'Highly': [76, 125, 164], 'longer': [76], 'several': [77, 92, 108], 'fast': [77, 86, 90, 172, 191], 'speak': [77, 93, 174, 179], 'time.Would': [77], 'shuttles': [77], 'package': [77], 'souvenirs': [78, 108, 163], 'wander': [78], 'F': [79], 'B': [79], 'guests': [79, 93, 170], 'Carmen': [79], 'overrpriced': [79], 'balloon': [79], 'Ming': [79], 'balloons': [79], 'April': [79, 122], 'cap': [79, 124], 'resolve': [79], 'festival': [79], 'queuing': [79], 'confirmation': [79, 105], 'Luckily': [79], 'massive': [79, 143], 'unable': [79], 'HK150': [79], 'closing': [80, 198], 'MANY': [80], 'upgrade': [80], 'IMHO': [80], 'partial': [80], 'suggestion': [80], 'Florida': [80, 99, 113, 119, 120, 143, 146, 159, 188, 189, 191], 'moment': [80, 110, 139], 'excitement': [81, 180, 182], 'truly': [81], 'Many': [82, 131], 'daughers': [82], 'law': [82], 'Car': [82], 'round': [83, 143], 'Avoid': [83], 'Kids': [83, 144, 147, 187], 'tricks': [83], 'member': [83], 'whilst': [84], 'Honkers': [84], 'evil': [85], 'Jedi': [85, 131, 181], 'older': [85], 'nights': [85, 154], 'convinient': [85], 'coaches': [85], 'quantity': [85], 'opportunity': [85, 107, 142], 'relaxed': [85], 'dress': [85], 'opps': [85], 'Everyone': [85], 'forces': [85], 'taste': [85], 'Vegetarian': [85], 'traveling': [85], 'opening': [86], 'costumes': [86, 133], 'love': [86, 143, 147], 'spare': [86, 120], 'backwards': [86], 'current': [86], 'needed.Would': [86], 'proximity': [86], 'reality': [86], 'Make': [86], 'smells': [86], 'items.With': [86], 'jobs': [86], 'incredible': [86, 122, 142, 198], 'flagship': [86], 'decor': [86], 'ideal': [86], 'mins': [86, 124, 137, 195], 'somehow': [86], 'rides.It': [86], 'charming.The': [86], 'smart': [86], 'anyone': [86], 'fair': [86], 'Price': [87], 'advance': [87], 'though': [87], 'refurbishment': [87], 'quieter': [87], 'inside': [88], 'Enjoy': [88, 138], 'unlock': [88], 'Bucket': [88], 'loses': [89], 'pins': [89], 'maintains': [89], 'themed': [89], 'exclusives': [89], 'Bilingual': [89], 'quality': [89, 90, 99, 122, 123], 'merchandise': [89, 122], 'size': [89, 118], 'exclusive': [89, 172], 'Mouse': [90, 186], 'Pooh': [90, 119, 163], 'Recommend': [90], 'Get': [90], 'App': [90], 'compartments': [90], 'Saw': [90], 'latest': [90], 'Pret': [90], 'there.': [90], 'tell': [90, 102], 'hide': [90], 'Manger': [90], 'ends': [90], 'Take': [90], 'musical': [90, 130], 'Buy': [90], 'arrive': [90, 129], 'Winnie': [90, 163], 'parachute': [90], 'green': [90], 'goofy': [90], 'lights': [90], 'ToyStory': [90], 'mall': [90], 'times.All': [90], 'charme': [91], 'metro': [91], 'clear': [91, 116], 'baby': [91, 121], 'signposted': [91], 'company': [91, 105], 'glad': [92, 169, 194], 'feet': [92, 167, 169], 'extra': [92, 154], 'Priority': [92, 125, 142], 'shut': [93, 101, 167], 'inform': [93], 'everybody': [93, 107], 'feel': [94, 141, 166, 170], 'lineup': [94], 'shake': [94], 'spirit': [94], 'save': [95, 142], 'Near': [95], 'traveloka': [95], 'buy': [95, 105, 122, 138, 143, 181], 'Nice': [95, 131], 'accessible': [96, 129, 159], 'Friendly': [97], 'weather': [97, 109, 151, 156, 159, 198], 'Enjoyed': [97, 184, 197], 'code': [97], 'rides.The': [98], 'shorter': [98], 'Smallest': [98], 'newer': [98], 'February': [98, 156, 166], 'updated': [98, 148], 'floats': [98, 183], 'impressive.The': [99], 'staging': [99], 'serious': [99], 'day.The': [99, 168], 'visitor': [99], 'performances': [99], 'real': [99, 180], 'fill': [99, 180], 'singing': [99], 'versions.I': [99], 'fi': [100], 'stark': [100], 'cum': [100], 'signature': [100], 'addition': [100], 'peak': [100], 'Please': [100], 'sci': [100], 'make': [100, 159], 'game': [100], 'eateries': [100, 131], 'fees': [101], 'kiosks': [101], 'intimation': [101], 'timing': [102], 'SEA': [102], 'properties': [102], 'low': [102], 'foreign': [103], 'waits': [103], 'quick': [103, 143], 'licenses': [103], 'page': [103], 'manageable': [103], 'Much': [103], 'advertised': [103], 'drivers': [103], 'Honk': [103], 'onsite': [103], 'web': [103], 'Dumbo': [103], 'convenient': [103, 121, 171], 'travelers': [103], 'MUCH': [103, 182], 'matter': [104, 169], 'paint': [104], 'Hard': [104], 'atmosphere': [104], 'pockets': [104, 108], 'princess': [104, 112], 'Longest': [104], 'Ask': [104], 'message': [105], 'careful': [105, 126], 'UK': [105], 'dah': [105], 'information': [105], 'air': [105], 'statements': [105], 'soft': [105], 'left': [105], 'details': [105], 'pre': [105], 'Guest': [105], 'relations': [105], 'thank': [105], 'payments': [105], 'payment': [105], 'TST': [105, 124], 'journey': [105, 111, 121, 158], 'add': [105], 'pleasant': [105, 166], 'negative': [105], 'satisfaction.Please': [105], 'apologetic': [105], 'cards': [105], 'minutes.We': [105], 'credit': [105], 'card': [105, 108], 'cold': [106], 'thoroughly': [106], 'Wife': [106], 'shots': [106], 'showers': [106], 'Express': [108], 'reason': [108, 113], 'senior': [108], 'rest': [108, 156], 'Oyster': [108], 'Baba': [108], 'coach': [108], 'limits': [108], 'Ali': [108], 'basic': [108], 'buying': [108], 'approx': [108], 'cost': [108, 124], 'renovations': [108, 144], 'Seniors': [108], 'mug': [108], 'bags': [108], 'dilapidation': [108], 'watches': [108], 'bother': [108], 'picture': [108], 'Haha': [109], 'Unlucky': [109], 'Paint': [109], 'didnt': [109, 134, 179], '.My': [109], 'Xmas': [110], 'cancellation': [110], 'Renovation': [110], 'management': [110], 'notch': [110], 'People': [110, 169, 181], 'celebrations': [110], 'voucher': [110], 'start': [111, 139, 141], 'renovation2': [112], 'elsa': [112], 'renovation4': [112], 'Princess': [112], 'limited': [112, 123], 'problems:1': [112], 'session': [112], 'Disneysea': [113], 'Nights': [113], 'Studios': [113, 147], 'spectacular': [113], 'Horror': [113], 'fyi': [113], 'Nothing': [113], 'cultural': [113, 179], 'thing': [113, 168, 169], 'Singapore': [113], 'beats': [113], 'weird': [113, 124], 'manor': [113, 170], 'Universal': [113, 147], 'tiny': [113, 139], 'Banquet': [114, 192], 'minimum': [114, 124], 'started': [114], 'grizzly': [114, 128], 'Royal': [114, 192], 'decision': [114], 'rush': [114, 198], 'barcode': [114], 'coupons': [114], 'jungle': [114], 'Expect': [115], 'Unheard': [115], 'Wed.': [115], 'Tale': [115], 'States': [115], 'United': [115], 'statues': [116], 'inspiring': [116], 'commercial': [116, 138], 'views': [116], 'Ping': [116], 'giant': [116], 'monastery': [116], 'Nong': [116], 'visibility': [116], 'Plenty': [117], 'wish': [118], 'affordable': [118], 'Optimal': [118], 'cheaper': [119, 129, 170, 181], 'bear': [119], 'bomb': [119], 'Tickets': [119], 'Pass': [119, 142], 'Disneys': [119], 'Mansion': [119, 124, 150, 166], 'set': [120, 137], 'Euro': [120], 'MtR': [121], 'tedious': [121], 'experience.The': [121], 'healthy': [121], 'inside.With': [121], 'classics': [121], 'St.': [121], 'kids.The': [121], 'allow': [121], 'feel.Make': [121], 'gate': [121, 143], 'counter': [121], 'doubt': [121, 198], 'tons': [122], 'farewells': [122], 'ages.As': [122], 'starve': [122], 'Whether': [122], 'meal.If': [122], 'Hk': [122], 'revamps': [122], 'seeker': [122, 172], 'resident': [122], 'comments': [122], 'Astroblasters': [122], 'posts': [122], 'section': [122], 'extract': [122], 'revamp': [122], 'Autopia': [122], 'activity': [123], 'ridiculous': [123], 'noise': [123], 'forest': [123], 'heard': [123], 'jackhammer': [123], 'invest': [123], 'massive.It': [124], 'HKD.Disney': [124], 'adventure': [124], 'Eating': [124], 'compensated': [124], 'toook': [124], 'way.Peak': [124], 'soooo': [124], 'traffic': [124], 'Vegie': [124], 'form.it': [124], 'stayed': [124], 'tree': [124], 'folks': [124], 'mandatory': [124], 'Tsim': [124], 'ready': [124], 'DLand': [124], 'Sha': [124], 'Veg': [124], 'Tea': [124], 'boy': [124], 'houses': [124], 'Tsui': [124], 'toddlers': [124], 'A21': [124], 'buckle': [124], 'Adult': [124], 'toll': [124], 'Dinsey': [124], 'attractions.Infants': [124], 'creams': [124], 'price.I': [124], 'digital': [124], 'pretty': [124], 'ice': [124], 'good.Bus': [124], 'R8': [124], 'Avenue.Costs': [124], 'Burger': [124], 'Lantau': [124], 'Cms': [124], 'veg': [124], 'Special': [125], 'Monday': [125, 143, 163], 'Came': [126, 137], 'strollers': [126], 'strollers.My': [126], 'tried': [126], 'rent': [126], 'lightworks': [126], 'hrs': [126], 'cash': [126], 'left.The': [126], 'Amusement': [127], 'heart': [127], 'cartoon': [128], 'Shows': [128], 'firework': [128], 'Cinderella': [128], 'norm': [129], 'exception': [129, 167], 'gate.Easily': [129], 'smile': [129, 192], 'unavailable': [129], 'Coming': [130], 'buys': [130], 'presentation': [130], 'wc': [130], '@': [130], 'store': [130, 156], 'final': [130], 'invitation': [130], 'poses': [130], 'scream': [130], 'Mondays': [130], 'usual': [130, 137, 157, 175], 'Bring': [131], 'Attractions': [131], 'expand': [131, 193], 'extreme': [132], 'atudio': [132], 'happy': [132, 136], 'universal': [132], 'match': [133, 156], 'acrobatics': [133], 'assist': [133], 'makeup': [133], 'props': [133], 'Amazing': [134, 171], 'Everything': [134], 'dollars': [135], 'lowest': [135], 'Admission': [135, 181], 'sleep': [136], 'bathroom': [136], 'perfection': [136], 'floor': [136, 195], 'meat': [137], 'serves': [137], 'crowded': [137], 'Bought': [137], 'pathetic': [137], 'coupon': [137], 'Weekend': [138], 'words': [138], 'ares': [138], 'possible': [138], 'resist': [138], 'Accessible': [138], 'tough': [138], 'consumer': [138], 'artificial': [138], 'Spent': [138, 148], 'mean': [139], 'funny': [139], 'odd': [139, 146], 'worry': [139, 198], 'surprises': [139], 'rubbish': [139], 'build': [139], 'winner': [139], 'occasions': [140], 'FL': [140, 166], 'fare': [140], 'quite': [140], 'Duffy': [140], 'CA': [140, 142], 'obsession': [140], 'Ppl': [141], 'relationship': [142], 'Compared': [142, 172], 'rode': [142, 166], 'Fun': [142], 'meals': [142, 181], 'currency': [143], 'platform': [143], 'original': [143, 162, 166], 'passportsWe': [143], 'Anyway': [143], 'flew': [143], 'phone': [143], 'RUN': [143], 'patch': [143], 'mirror': [143, 166], 'Surprisingly': [143], 'selfies': [143], 'process': [143], 'please': [143], 'push': [143, 169], 'manners': [143], 'plus': [143], 'bug': [143], 'announcement': [143], 'today': [144], 'pics': [144], 'kept': [144], 'stuff': [144, 165], 'Poor': [144], 'Pretty': [144], 'outSmall': [144], 'reduction': [144], 'fav': [144], 'terms': [144], 'turnstile': [146], 'expectations': [146], 'unfriendly': [146], 'exceptions': [146], 'hit': [146], 'inherent': [146], 'Smile': [146], 'Worse': [146], \"'Mickey\": [147], 'counterpart': [147], 'pricey': [148, 187, 198], 'stress': [149], 'rid': [149], 'larger': [150, 166, 170], 'rollar': [150], 'Thunder': [150], 'one': [150, 169], 'familar': [150], 'bucket': [150], 'forecast': [151], 'sunny': [151], 'unwind': [153], 'perfect': [153, 156, 181], 'Magical': [154, 185], 'patient': [154], 'explanation': [154], 'detailed': [155, 166], 'effect': [155], 'thrilling': [155], 'head': [155], 'brings': [155], 'caps': [156], 'balls': [156], 'herbal': [156], 'sunny.We': [156], 'arrived.We': [156], 'sooner': [156], 'recreational': [156], 'restaurant.The': [156], 'cool': [156, 180], 'beef': [156], 'fantastic.We': [156], 'interesting.I': [156], 'Kong.We': [156], 'tired': [156], 'white': [156], 'shrimp': [156], 'ravioli': [156], 'hotel.We': [156], 'rugby': [156], 'iPads': [156], 'home.The': [156], 'well.I': [156], 'again.After': [156], 'month': [156, 165], 'Kong.It': [156], 'delicious': [156], 'good.Almost': [156], 'dad': [156], '.we': [156], 'balls.We': [156], 'leave.I': [156], 'cool.If': [156], 'play.After': [156], 'skipping': [157], 'mins.We': [157], 'occasion': [157], 'multiple': [157], 'thrilling.Disneyland': [157], 'particular': [157], 'times.We': [157], 'lucky': [157], 'leaves': [157], 'great.It': [157], 'minute': [157, 160], 'standards': [157], 'future': [158], 'sentence': [158], 'Hearing': [158], 'news': [158], 'Frozen': [158], 'countless': [158], 'adequate': [158], 'max': [159], 'strolling': [159], 'mingle': [159], 'skies': [159], 'worthwhile': [159], 'Wes': [159], 'overcast': [159], 'grateful': [159], 'rainy': [159], 'feels': [160], 'posters': [160], 'Oh': [160], 'handle': [160], 'likes': [161], 'permission': [161], 'Overcrowded': [161], 'offering': [161], 'Smaller': [162, 180], 'Fair': [162], 'IronMan': [163], 'MM': [163], 'mention': [163], 'Drop': [163], 'Spin': [163], 'Slinky': [163], 'Parachute': [163], 'Airport': [163], 'Philharmagic': [163], '.Special': [163], 'BUY': [163], 'hesitate': [163], 'Dog': [163], 'Soldier': [163], 'grandchildren': [164, 184], 'Inside': [165], 'decoration': [165], 'convenience': [165], 'sounveir': [165], 'hongkong': [165], 'draws': [166], 'fourth': [166], 'Tours': [166], 'contact': [166], 'monkey': [166], 'effects': [166, 169], 'images': [166], 'Albert': [166], 'fewer': [166], 'answer': [166], 'Haunted': [166], 'part.Costumes': [167], 'Starwars': [167], 'Japan': [167], 'surprised.We': [167], 'recycling': [167], 'shut.At': [167], 'OK': [167, 175], 'bin': [167], 'told': [167], 'loosing': [167], 'black': [167], 'Tables': [167], 'peppy': [167], 'jarring': [167], 'cleared.Two': [167], 'mascots': [167], 'delightful': [168], 'occupied': [168], 'feast': [168], 'lesser': [168], 'Marathon.That': [169], 'seat': [169], 'holidays.We': [169], 'legs': [169], 'fear': [169], 'significant': [169], 'FOMO': [169], 'form': [169], 'fit': [169, 180], 'out.As': [169], 'type': [169], 'late': [169], 'Phantom': [169], 'WDW': [169], 'contemplates': [169], 'France': [169], 'pushy': [169], 'doors': [169], 'Favorite': [169], 'difference.The': [169], 'tall': [169], 'flow': [169], 'Ratatouille': [169], 'contort': [169], 'Rope': [169], 'frequent': [169], 'York': [169], 'gun': [169], 'end': [169], 'finish': [169, 190], 'moving': [169], 'extortionate': [170], 'help': [170], 'ignored': [170], 'mystic': [170], 'witness': [171], 'dream': [171], 'phoo': [171], 'tarzan': [171], 'mode': [171], 'Huge': [171], 'winnie': [171], 'court': [171], 'schedule': [172], 'download': [172], 'thought': [172], 'January': [172], 'shortest': [172], 'packed.My': [172], 'forget': [172], 'Celebration.In': [172], 'wrong': [172], 'beforehand': [172], 'pass.You': [172], 'english': [174], 'amuse': [174], 'Crews': [174], 'Excellent': [174], 'curry': [175], 'facility': [175], 'bland': [175], 'venue': [175], 'Cost': [175], 'winter': [175], 'e': [175], 'HK619': [175], 'tastes': [175], 'Crowds': [175], 'cater': [175], 'explorers': [175], 'chinese': [177, 183], 'Entering': [178], 'youre': [178], 'tend': [178], 'watch': [179, 191], 'Golden': [179], 'culture': [179], 'averaged': [179], 'ties': [179], 'Week': [179], 'Join': [180], 'benchmark': [180], 'Minnie': [180], 'Even': [181], 'toddler': [181], 'wake': [181], 'moderate': [181], 'regions': [181], 'PROs:1': [181], 'busiest': [181], 'apps': [181], 'preferred': [182], 'carriage': [182], 'carts': [183], 'cranky': [183], 'restrooms': [183], 'corner': [183], 'accommodating': [183], 'Feels': [184], 'together': [184], 'tale': [185], 'Fairy': [185], 'Go': [185], 'Sadly': [186], 'approach': [187], 'collect': [187], 'charm': [188], 'og': [188], 'princesses': [189], 'Stayed': [189], 'Typhoon': [190], 'gather': [191], 'decide': [191], 'professional': [192], 'Beautiful': [192], 'Hall': [192], 'tables': [192], 'effort': [192], 'Keep': [192], 'Wilson': [192], 'Long': [192], 'afford': [193], 'aspect': [193], \"'Disney\": [193], 'expansion': [193], 'suggest': [195], 'terrible': [195], 'mountian': [195], 'workers': [195], 'savages': [195], 'shelves': [195], 'couldnt': [195], 'mess': [195], 'know': [195], 'awful': [195], 'interesting': [195], 'childhood': [196], 'Fireworks': [196], 'logical': [196], 'displays': [196], 'DisneyLand': [197], 'Hongkong': [197], 'Thank': [197], 'Suggestion': [198], 'captured': [198], 'moments': [198]}\n"
     ]
    }
   ],
   "source": [
    "print(inverted_index)"
   ]
  },
  {
   "cell_type": "code",
   "execution_count": 25,
   "id": "d0b8df8a-3610-4d82-a368-442b5f955724",
   "metadata": {},
   "outputs": [],
   "source": [
    "with open('inverted_index.csv', 'w') as f:\n",
    "    for key in inverted_index.keys():\n",
    "        f.write(\"%s, %s\\n\" % (key,inverted_index[key]))"
   ]
  },
  {
   "cell_type": "code",
   "execution_count": null,
   "id": "11d82824-09f3-4a97-a6af-b196b2dd3261",
   "metadata": {},
   "outputs": [],
   "source": []
  }
 ],
 "metadata": {
  "kernelspec": {
   "display_name": "Python 3 (ipykernel)",
   "language": "python",
   "name": "python3"
  },
  "language_info": {
   "codemirror_mode": {
    "name": "ipython",
    "version": 3
   },
   "file_extension": ".py",
   "mimetype": "text/x-python",
   "name": "python",
   "nbconvert_exporter": "python",
   "pygments_lexer": "ipython3",
   "version": "3.11.4"
  }
 },
 "nbformat": 4,
 "nbformat_minor": 5
}
